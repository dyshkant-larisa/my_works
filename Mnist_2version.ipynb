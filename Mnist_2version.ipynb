{
  "nbformat": 4,
  "nbformat_minor": 0,
  "metadata": {
    "colab": {
      "provenance": []
    },
    "kernelspec": {
      "name": "python3",
      "display_name": "Python 3"
    },
    "language_info": {
      "name": "python"
    },
    "widgets": {
      "application/vnd.jupyter.widget-state+json": {
        "abc3e37e5a67499c9f3384485940cdcb": {
          "model_module": "@jupyter-widgets/controls",
          "model_name": "HBoxModel",
          "model_module_version": "1.5.0",
          "state": {
            "_dom_classes": [],
            "_model_module": "@jupyter-widgets/controls",
            "_model_module_version": "1.5.0",
            "_model_name": "HBoxModel",
            "_view_count": null,
            "_view_module": "@jupyter-widgets/controls",
            "_view_module_version": "1.5.0",
            "_view_name": "HBoxView",
            "box_style": "",
            "children": [
              "IPY_MODEL_83460418c536467a8fe363150b4b29a9",
              "IPY_MODEL_f20ba2b62016486f8a98435aa8698553",
              "IPY_MODEL_49c950c2dc8341249b985b4fd44f75f2"
            ],
            "layout": "IPY_MODEL_58787425f1a34c4aa41e500ac7060cfd"
          }
        },
        "83460418c536467a8fe363150b4b29a9": {
          "model_module": "@jupyter-widgets/controls",
          "model_name": "HTMLModel",
          "model_module_version": "1.5.0",
          "state": {
            "_dom_classes": [],
            "_model_module": "@jupyter-widgets/controls",
            "_model_module_version": "1.5.0",
            "_model_name": "HTMLModel",
            "_view_count": null,
            "_view_module": "@jupyter-widgets/controls",
            "_view_module_version": "1.5.0",
            "_view_name": "HTMLView",
            "description": "",
            "description_tooltip": null,
            "layout": "IPY_MODEL_56d730a3f5a44f379d383d629c5e8e0a",
            "placeholder": "​",
            "style": "IPY_MODEL_902dea9d4b3d4691ab729c2179073c12",
            "value": "Dl Completed...: 100%"
          }
        },
        "f20ba2b62016486f8a98435aa8698553": {
          "model_module": "@jupyter-widgets/controls",
          "model_name": "FloatProgressModel",
          "model_module_version": "1.5.0",
          "state": {
            "_dom_classes": [],
            "_model_module": "@jupyter-widgets/controls",
            "_model_module_version": "1.5.0",
            "_model_name": "FloatProgressModel",
            "_view_count": null,
            "_view_module": "@jupyter-widgets/controls",
            "_view_module_version": "1.5.0",
            "_view_name": "ProgressView",
            "bar_style": "success",
            "description": "",
            "description_tooltip": null,
            "layout": "IPY_MODEL_8a3d9444010b4fdab57ad5a50c80c4c1",
            "max": 5,
            "min": 0,
            "orientation": "horizontal",
            "style": "IPY_MODEL_c302a5657a924dfd966bea9cefcb4d4a",
            "value": 5
          }
        },
        "49c950c2dc8341249b985b4fd44f75f2": {
          "model_module": "@jupyter-widgets/controls",
          "model_name": "HTMLModel",
          "model_module_version": "1.5.0",
          "state": {
            "_dom_classes": [],
            "_model_module": "@jupyter-widgets/controls",
            "_model_module_version": "1.5.0",
            "_model_name": "HTMLModel",
            "_view_count": null,
            "_view_module": "@jupyter-widgets/controls",
            "_view_module_version": "1.5.0",
            "_view_name": "HTMLView",
            "description": "",
            "description_tooltip": null,
            "layout": "IPY_MODEL_057f375fdbe84709a1a95860da6bbdfe",
            "placeholder": "​",
            "style": "IPY_MODEL_102bbd783d114310a6117d8ace003a64",
            "value": " 5/5 [00:00&lt;00:00,  8.31 file/s]"
          }
        },
        "58787425f1a34c4aa41e500ac7060cfd": {
          "model_module": "@jupyter-widgets/base",
          "model_name": "LayoutModel",
          "model_module_version": "1.2.0",
          "state": {
            "_model_module": "@jupyter-widgets/base",
            "_model_module_version": "1.2.0",
            "_model_name": "LayoutModel",
            "_view_count": null,
            "_view_module": "@jupyter-widgets/base",
            "_view_module_version": "1.2.0",
            "_view_name": "LayoutView",
            "align_content": null,
            "align_items": null,
            "align_self": null,
            "border": null,
            "bottom": null,
            "display": null,
            "flex": null,
            "flex_flow": null,
            "grid_area": null,
            "grid_auto_columns": null,
            "grid_auto_flow": null,
            "grid_auto_rows": null,
            "grid_column": null,
            "grid_gap": null,
            "grid_row": null,
            "grid_template_areas": null,
            "grid_template_columns": null,
            "grid_template_rows": null,
            "height": null,
            "justify_content": null,
            "justify_items": null,
            "left": null,
            "margin": null,
            "max_height": null,
            "max_width": null,
            "min_height": null,
            "min_width": null,
            "object_fit": null,
            "object_position": null,
            "order": null,
            "overflow": null,
            "overflow_x": null,
            "overflow_y": null,
            "padding": null,
            "right": null,
            "top": null,
            "visibility": null,
            "width": null
          }
        },
        "56d730a3f5a44f379d383d629c5e8e0a": {
          "model_module": "@jupyter-widgets/base",
          "model_name": "LayoutModel",
          "model_module_version": "1.2.0",
          "state": {
            "_model_module": "@jupyter-widgets/base",
            "_model_module_version": "1.2.0",
            "_model_name": "LayoutModel",
            "_view_count": null,
            "_view_module": "@jupyter-widgets/base",
            "_view_module_version": "1.2.0",
            "_view_name": "LayoutView",
            "align_content": null,
            "align_items": null,
            "align_self": null,
            "border": null,
            "bottom": null,
            "display": null,
            "flex": null,
            "flex_flow": null,
            "grid_area": null,
            "grid_auto_columns": null,
            "grid_auto_flow": null,
            "grid_auto_rows": null,
            "grid_column": null,
            "grid_gap": null,
            "grid_row": null,
            "grid_template_areas": null,
            "grid_template_columns": null,
            "grid_template_rows": null,
            "height": null,
            "justify_content": null,
            "justify_items": null,
            "left": null,
            "margin": null,
            "max_height": null,
            "max_width": null,
            "min_height": null,
            "min_width": null,
            "object_fit": null,
            "object_position": null,
            "order": null,
            "overflow": null,
            "overflow_x": null,
            "overflow_y": null,
            "padding": null,
            "right": null,
            "top": null,
            "visibility": null,
            "width": null
          }
        },
        "902dea9d4b3d4691ab729c2179073c12": {
          "model_module": "@jupyter-widgets/controls",
          "model_name": "DescriptionStyleModel",
          "model_module_version": "1.5.0",
          "state": {
            "_model_module": "@jupyter-widgets/controls",
            "_model_module_version": "1.5.0",
            "_model_name": "DescriptionStyleModel",
            "_view_count": null,
            "_view_module": "@jupyter-widgets/base",
            "_view_module_version": "1.2.0",
            "_view_name": "StyleView",
            "description_width": ""
          }
        },
        "8a3d9444010b4fdab57ad5a50c80c4c1": {
          "model_module": "@jupyter-widgets/base",
          "model_name": "LayoutModel",
          "model_module_version": "1.2.0",
          "state": {
            "_model_module": "@jupyter-widgets/base",
            "_model_module_version": "1.2.0",
            "_model_name": "LayoutModel",
            "_view_count": null,
            "_view_module": "@jupyter-widgets/base",
            "_view_module_version": "1.2.0",
            "_view_name": "LayoutView",
            "align_content": null,
            "align_items": null,
            "align_self": null,
            "border": null,
            "bottom": null,
            "display": null,
            "flex": null,
            "flex_flow": null,
            "grid_area": null,
            "grid_auto_columns": null,
            "grid_auto_flow": null,
            "grid_auto_rows": null,
            "grid_column": null,
            "grid_gap": null,
            "grid_row": null,
            "grid_template_areas": null,
            "grid_template_columns": null,
            "grid_template_rows": null,
            "height": null,
            "justify_content": null,
            "justify_items": null,
            "left": null,
            "margin": null,
            "max_height": null,
            "max_width": null,
            "min_height": null,
            "min_width": null,
            "object_fit": null,
            "object_position": null,
            "order": null,
            "overflow": null,
            "overflow_x": null,
            "overflow_y": null,
            "padding": null,
            "right": null,
            "top": null,
            "visibility": null,
            "width": null
          }
        },
        "c302a5657a924dfd966bea9cefcb4d4a": {
          "model_module": "@jupyter-widgets/controls",
          "model_name": "ProgressStyleModel",
          "model_module_version": "1.5.0",
          "state": {
            "_model_module": "@jupyter-widgets/controls",
            "_model_module_version": "1.5.0",
            "_model_name": "ProgressStyleModel",
            "_view_count": null,
            "_view_module": "@jupyter-widgets/base",
            "_view_module_version": "1.2.0",
            "_view_name": "StyleView",
            "bar_color": null,
            "description_width": ""
          }
        },
        "057f375fdbe84709a1a95860da6bbdfe": {
          "model_module": "@jupyter-widgets/base",
          "model_name": "LayoutModel",
          "model_module_version": "1.2.0",
          "state": {
            "_model_module": "@jupyter-widgets/base",
            "_model_module_version": "1.2.0",
            "_model_name": "LayoutModel",
            "_view_count": null,
            "_view_module": "@jupyter-widgets/base",
            "_view_module_version": "1.2.0",
            "_view_name": "LayoutView",
            "align_content": null,
            "align_items": null,
            "align_self": null,
            "border": null,
            "bottom": null,
            "display": null,
            "flex": null,
            "flex_flow": null,
            "grid_area": null,
            "grid_auto_columns": null,
            "grid_auto_flow": null,
            "grid_auto_rows": null,
            "grid_column": null,
            "grid_gap": null,
            "grid_row": null,
            "grid_template_areas": null,
            "grid_template_columns": null,
            "grid_template_rows": null,
            "height": null,
            "justify_content": null,
            "justify_items": null,
            "left": null,
            "margin": null,
            "max_height": null,
            "max_width": null,
            "min_height": null,
            "min_width": null,
            "object_fit": null,
            "object_position": null,
            "order": null,
            "overflow": null,
            "overflow_x": null,
            "overflow_y": null,
            "padding": null,
            "right": null,
            "top": null,
            "visibility": null,
            "width": null
          }
        },
        "102bbd783d114310a6117d8ace003a64": {
          "model_module": "@jupyter-widgets/controls",
          "model_name": "DescriptionStyleModel",
          "model_module_version": "1.5.0",
          "state": {
            "_model_module": "@jupyter-widgets/controls",
            "_model_module_version": "1.5.0",
            "_model_name": "DescriptionStyleModel",
            "_view_count": null,
            "_view_module": "@jupyter-widgets/base",
            "_view_module_version": "1.2.0",
            "_view_name": "StyleView",
            "description_width": ""
          }
        }
      }
    }
  },
  "cells": [
    {
      "cell_type": "code",
      "source": [
        "import tensorflow as tf\n",
        "import tensorflow_datasets as tfds\n",
        "import matplotlib.pyplot as plt\n",
        "import numpy as np"
      ],
      "metadata": {
        "id": "S3Ng24gFNU0t"
      },
      "execution_count": 1,
      "outputs": []
    },
    {
      "cell_type": "code",
      "source": [
        "BATCH_SIZE = 512\n",
        "EPOCHS = 20\n",
        "LEARNING_RATE = 0.001"
      ],
      "metadata": {
        "id": "6kzkOi1jNvfM"
      },
      "execution_count": 2,
      "outputs": []
    },
    {
      "cell_type": "code",
      "source": [
        "(train_data, val_data, test_data), metadata = tfds.load('mnist',\n",
        "                                                        split = ['train[:80%]', 'train[80%:90%]', 'train[90%:]'],\n",
        "                                                        with_info = True)\n",
        "\n",
        "print(metadata.features)"
      ],
      "metadata": {
        "id": "xNKQ6KliOXcz",
        "colab": {
          "base_uri": "https://localhost:8080/",
          "height": 173,
          "referenced_widgets": [
            "abc3e37e5a67499c9f3384485940cdcb",
            "83460418c536467a8fe363150b4b29a9",
            "f20ba2b62016486f8a98435aa8698553",
            "49c950c2dc8341249b985b4fd44f75f2",
            "58787425f1a34c4aa41e500ac7060cfd",
            "56d730a3f5a44f379d383d629c5e8e0a",
            "902dea9d4b3d4691ab729c2179073c12",
            "8a3d9444010b4fdab57ad5a50c80c4c1",
            "c302a5657a924dfd966bea9cefcb4d4a",
            "057f375fdbe84709a1a95860da6bbdfe",
            "102bbd783d114310a6117d8ace003a64"
          ]
        },
        "outputId": "b2240bc3-d826-4511-e283-d5d6997b74fe"
      },
      "execution_count": 3,
      "outputs": [
        {
          "output_type": "stream",
          "name": "stdout",
          "text": [
            "Downloading and preparing dataset Unknown size (download: Unknown size, generated: Unknown size, total: Unknown size) to /root/tensorflow_datasets/mnist/3.0.1...\n"
          ]
        },
        {
          "output_type": "display_data",
          "data": {
            "text/plain": [
              "Dl Completed...:   0%|          | 0/5 [00:00<?, ? file/s]"
            ],
            "application/vnd.jupyter.widget-view+json": {
              "version_major": 2,
              "version_minor": 0,
              "model_id": "abc3e37e5a67499c9f3384485940cdcb"
            }
          },
          "metadata": {}
        },
        {
          "output_type": "stream",
          "name": "stdout",
          "text": [
            "Dataset mnist downloaded and prepared to /root/tensorflow_datasets/mnist/3.0.1. Subsequent calls will reuse this data.\n",
            "FeaturesDict({\n",
            "    'image': Image(shape=(28, 28, 1), dtype=uint8),\n",
            "    'label': ClassLabel(shape=(), dtype=int64, num_classes=10),\n",
            "})\n"
          ]
        }
      ]
    },
    {
      "cell_type": "code",
      "source": [
        "tfds.visualization.show_examples(val_data, metadata)"
      ],
      "metadata": {
        "id": "UgXkUXE5QPTq",
        "colab": {
          "base_uri": "https://localhost:8080/",
          "height": 1000
        },
        "outputId": "678d6b25-d00d-460b-ad67-946557b4db2e"
      },
      "execution_count": 4,
      "outputs": [
        {
          "output_type": "display_data",
          "data": {
            "text/plain": [
              "<Figure size 648x648 with 9 Axes>"
            ],
            "image/png": "[encoded data removed]"
          },
          "metadata": {}
        },
        {
          "output_type": "execute_result",
          "data": {
            "text/plain": [
              "<Figure size 648x648 with 9 Axes>"
            ],
            "image/png": "[encoded data removed]"
          },
          "metadata": {},
          "execution_count": 4
        }
      ]
    },
    {
      "cell_type": "code",
      "source": [
        "def preprocess(dataset):\n",
        "  image = tf.cast(dataset['image'], dtype = tf.float32) / 255,\n",
        "  label = tf.cast(dataset['label'], dtype = tf.int64)\n",
        "  return image, label\n",
        "\n",
        "train_data = train_data.map(preprocess).shuffle(buffer_size=1024).batch(BATCH_SIZE)\n",
        "val_data = val_data.map(preprocess).batch(BATCH_SIZE)\n",
        "test_data = test_data.map(preprocess).batch(BATCH_SIZE)"
      ],
      "metadata": {
        "id": "tKOy5ObvWLPw"
      },
      "execution_count": 5,
      "outputs": []
    },
    {
      "cell_type": "code",
      "source": [
        "def simple_convolution_model(num_classes):\n",
        "    input_ = tf.keras.layers.Input(shape=(28, 28, 1,))\n",
        "    x = tf.keras.layers.Conv2D(64, (3, 3), padding='same', activation='relu')(input_)\n",
        "    x = tf.keras.layers.MaxPool2D(2, 2)(x)\n",
        "    x = tf.keras.layers.Conv2D(32, (3, 3), padding='same', activation='relu')(x)\n",
        "    x = tf.keras.layers.MaxPool2D(2, 2)(x)\n",
        "    #x = tf.keras.layers.Dropout(0.5)(x)\n",
        "    x = tf.keras.layers.Conv2D(16, (3, 3), padding='same', activation='relu')(x)\n",
        "    x = tf.keras.layers.MaxPool2D(2, 2)(x)\n",
        "    x = tf.keras.layers.Flatten()(x)\n",
        "    x = tf.keras.layers.Dense(128, activation='relu')(x)\n",
        "    output_ = tf.keras.layers.Dense(num_classes, activation='softmax')(x)\n",
        "\n",
        "    return tf.keras.models.Model(input_, output_, name='Classifier')\n",
        "\n",
        "\n",
        "num_classes = metadata.features['label'].num_classes\n",
        "model = simple_convolution_model(num_classes)\n",
        "model.summary()"
      ],
      "metadata": {
        "id": "--gfKonZY-En",
        "colab": {
          "base_uri": "https://localhost:8080/"
        },
        "outputId": "7f019ac9-9e32-461d-8648-ec887ab9805a"
      },
      "execution_count": 6,
      "outputs": [
        {
          "output_type": "stream",
          "name": "stdout",
          "text": [
            "Model: \"Classifier\"\n",
            "_________________________________________________________________\n",
            " Layer (type)                Output Shape              Param #   \n",
            "=================================================================\n",
            " input_1 (InputLayer)        [(None, 28, 28, 1)]       0         \n",
            "                                                                 \n",
            " conv2d (Conv2D)             (None, 28, 28, 64)        640       \n",
            "                                                                 \n",
            " max_pooling2d (MaxPooling2D  (None, 14, 14, 64)       0         \n",
            " )                                                               \n",
            "                                                                 \n",
            " conv2d_1 (Conv2D)           (None, 14, 14, 32)        18464     \n",
            "                                                                 \n",
            " max_pooling2d_1 (MaxPooling  (None, 7, 7, 32)         0         \n",
            " 2D)                                                             \n",
            "                                                                 \n",
            " conv2d_2 (Conv2D)           (None, 7, 7, 16)          4624      \n",
            "                                                                 \n",
            " max_pooling2d_2 (MaxPooling  (None, 3, 3, 16)         0         \n",
            " 2D)                                                             \n",
            "                                                                 \n",
            " flatten (Flatten)           (None, 144)               0         \n",
            "                                                                 \n",
            " dense (Dense)               (None, 128)               18560     \n",
            "                                                                 \n",
            " dense_1 (Dense)             (None, 10)                1290      \n",
            "                                                                 \n",
            "=================================================================\n",
            "Total params: 43,578\n",
            "Trainable params: 43,578\n",
            "Non-trainable params: 0\n",
            "_________________________________________________________________\n"
          ]
        }
      ]
    },
    {
      "cell_type": "code",
      "source": [
        "lr_schedule = tf.keras.optimizers.schedules.ExponentialDecay(LEARNING_RATE,\n",
        "                                                             decay_steps=100000,\n",
        "                                                             decay_rate=0.96)\n",
        "\n",
        "model.compile(optimizer = tf.keras.optimizers.Adam(learning_rate = lr_schedule),\n",
        "              loss = tf.keras.losses.SparseCategoricalCrossentropy(),\n",
        "              metrics = ['accuracy'])\n",
        "\n",
        "history = model.fit(train_data, epochs=EPOCHS, validation_data = val_data)"
      ],
      "metadata": {
        "id": "mv_lF6q9ftiC",
        "colab": {
          "base_uri": "https://localhost:8080/"
        },
        "outputId": "9999794a-fb1c-4253-de31-417560f0fe18"
      },
      "execution_count": 7,
      "outputs": [
        {
          "output_type": "stream",
          "name": "stdout",
          "text": [
            "Epoch 1/20\n",
            "94/94 [==============================] - 104s 1s/step - loss: 0.7499 - accuracy: 0.7780 - val_loss: 0.1941 - val_accuracy: 0.9383\n",
            "Epoch 2/20\n",
            "94/94 [==============================] - 95s 1s/step - loss: 0.1487 - accuracy: 0.9536 - val_loss: 0.1174 - val_accuracy: 0.9628\n",
            "Epoch 3/20\n",
            "94/94 [==============================] - 97s 1s/step - loss: 0.1016 - accuracy: 0.9685 - val_loss: 0.0875 - val_accuracy: 0.9725\n",
            "Epoch 4/20\n",
            "94/94 [==============================] - 95s 1s/step - loss: 0.0813 - accuracy: 0.9744 - val_loss: 0.0903 - val_accuracy: 0.9713\n",
            "Epoch 5/20\n",
            "94/94 [==============================] - 97s 1s/step - loss: 0.0683 - accuracy: 0.9781 - val_loss: 0.0675 - val_accuracy: 0.9800\n",
            "Epoch 6/20\n",
            "94/94 [==============================] - 93s 988ms/step - loss: 0.0556 - accuracy: 0.9829 - val_loss: 0.0655 - val_accuracy: 0.9790\n",
            "Epoch 7/20\n",
            "94/94 [==============================] - 95s 1s/step - loss: 0.0504 - accuracy: 0.9844 - val_loss: 0.0594 - val_accuracy: 0.9810\n",
            "Epoch 8/20\n",
            "94/94 [==============================] - 96s 1s/step - loss: 0.0447 - accuracy: 0.9862 - val_loss: 0.0536 - val_accuracy: 0.9827\n",
            "Epoch 9/20\n",
            "94/94 [==============================] - 97s 1s/step - loss: 0.0391 - accuracy: 0.9886 - val_loss: 0.0529 - val_accuracy: 0.9830\n",
            "Epoch 10/20\n",
            "94/94 [==============================] - 94s 997ms/step - loss: 0.0378 - accuracy: 0.9887 - val_loss: 0.0432 - val_accuracy: 0.9857\n",
            "Epoch 11/20\n",
            "94/94 [==============================] - 96s 1s/step - loss: 0.0332 - accuracy: 0.9899 - val_loss: 0.0449 - val_accuracy: 0.9865\n",
            "Epoch 12/20\n",
            "94/94 [==============================] - 95s 1s/step - loss: 0.0308 - accuracy: 0.9905 - val_loss: 0.0501 - val_accuracy: 0.9843\n",
            "Epoch 13/20\n",
            "94/94 [==============================] - 96s 1s/step - loss: 0.0292 - accuracy: 0.9909 - val_loss: 0.0458 - val_accuracy: 0.9855\n",
            "Epoch 14/20\n",
            "94/94 [==============================] - 93s 993ms/step - loss: 0.0289 - accuracy: 0.9910 - val_loss: 0.0419 - val_accuracy: 0.9873\n",
            "Epoch 15/20\n",
            "94/94 [==============================] - 96s 1s/step - loss: 0.0243 - accuracy: 0.9927 - val_loss: 0.0368 - val_accuracy: 0.9882\n",
            "Epoch 16/20\n",
            "94/94 [==============================] - 94s 1s/step - loss: 0.0236 - accuracy: 0.9926 - val_loss: 0.0428 - val_accuracy: 0.9865\n",
            "Epoch 17/20\n",
            "94/94 [==============================] - 93s 985ms/step - loss: 0.0238 - accuracy: 0.9928 - val_loss: 0.0413 - val_accuracy: 0.9885\n",
            "Epoch 18/20\n",
            "94/94 [==============================] - 93s 991ms/step - loss: 0.0199 - accuracy: 0.9944 - val_loss: 0.0409 - val_accuracy: 0.9883\n",
            "Epoch 19/20\n",
            "94/94 [==============================] - 94s 1s/step - loss: 0.0192 - accuracy: 0.9943 - val_loss: 0.0383 - val_accuracy: 0.9883\n",
            "Epoch 20/20\n",
            "94/94 [==============================] - 95s 1s/step - loss: 0.0172 - accuracy: 0.9947 - val_loss: 0.0383 - val_accuracy: 0.9890\n"
          ]
        }
      ]
    },
    {
      "cell_type": "code",
      "source": [
        "plt.plot(history.history['accuracy'], label = 'Train accuracy')\n",
        "plt.plot(history.history['val_accuracy'], label = 'Val accuracy')\n",
        "plt.title('Train and Test accuracy')\n",
        "plt.legend()\n",
        "plt.figure(figsize=(100,100))\n",
        "plt.show()"
      ],
      "metadata": {
        "colab": {
          "base_uri": "https://localhost:8080/",
          "height": 298
        },
        "id": "g1HT9XS_ks_-",
        "outputId": "79c505fc-a273-4097-8396-715314e93a27"
      },
      "execution_count": 8,
      "outputs": [
        {
          "output_type": "display_data",
          "data": {
            "text/plain": [
              "<Figure size 432x288 with 1 Axes>"
            ],
            "image/png": "[encoded data removed]"
          },
          "metadata": {
            "needs_background": "light"
          }
        },
        {
          "output_type": "display_data",
          "data": {
            "text/plain": [
              "<Figure size 7200x7200 with 0 Axes>"
            ]
          },
          "metadata": {}
        }
      ]
    },
    {
      "cell_type": "code",
      "source": [
        "plt.plot(history.history['loss'], label = 'Train loss')\n",
        "plt.plot(history.history['val_loss'], label = 'Val loss')\n",
        "plt.title('Train and Test loss')\n",
        "plt.legend()\n",
        "plt.figure(figsize=(200,200))\n",
        "plt.show()"
      ],
      "metadata": {
        "colab": {
          "base_uri": "https://localhost:8080/",
          "height": 298
        },
        "id": "rtH892aFljnQ",
        "outputId": "3278099b-4da2-4554-ec85-33794d8da67c"
      },
      "execution_count": 9,
      "outputs": [
        {
          "output_type": "display_data",
          "data": {
            "text/plain": [
              "<Figure size 432x288 with 1 Axes>"
            ],
            "image/png": "[encoded data removed]"
          },
          "metadata": {
            "needs_background": "light"
          }
        },
        {
          "output_type": "display_data",
          "data": {
            "text/plain": [
              "<Figure size 14400x14400 with 0 Axes>"
            ]
          },
          "metadata": {}
        }
      ]
    },
    {
      "cell_type": "code",
      "source": [
        "metrics = model.evaluate(test_data, batch_size=BATCH_SIZE, verbose=1)\n",
        "metric_names = ['Test loss', 'Test Accuracy']\n",
        "\n",
        "for name, value in zip(metric_names, metrics):\n",
        "    print(f'{name} : {value}')"
      ],
      "metadata": {
        "colab": {
          "base_uri": "https://localhost:8080/"
        },
        "id": "ZPbpniWWvj_9",
        "outputId": "9071a00d-911f-4eb4-ad6f-eff6368ae323"
      },
      "execution_count": 10,
      "outputs": [
        {
          "output_type": "stream",
          "name": "stdout",
          "text": [
            "12/12 [==============================] - 3s 227ms/step - loss: 0.0476 - accuracy: 0.9858\n",
            "Test loss : 0.04756678268313408\n",
            "Test Accuracy : 0.9858333468437195\n"
          ]
        }
      ]
    }
  ]
}