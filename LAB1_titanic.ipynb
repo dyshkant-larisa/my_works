{
  "nbformat": 4,
  "nbformat_minor": 0,
  "metadata": {
    "colab": {
      "provenance": []
    },
    "kernelspec": {
      "name": "python3",
      "display_name": "Python 3"
    },
    "language_info": {
      "name": "python"
    }
  },
  "cells": [
    {
      "cell_type": "code",
      "execution_count": 1,
      "metadata": {
        "id": "ZyEoG2MdPoeB"
      },
      "outputs": [],
      "source": [
        "import pandas as pd\n",
        "import numpy as np\n",
        "import tensorflow as tf\n",
        "from sklearn.model_selection import train_test_split\n",
        "from sklearn.preprocessing import LabelEncoder, StandardScaler\n",
        "import matplotlib.pyplot as plt"
      ]
    },
    {
      "cell_type": "markdown",
      "source": [
        "# Новий розділ"
      ],
      "metadata": {
        "id": "QvjzEVAlP_Db"
      }
    },
    {
      "cell_type": "code",
      "source": [
        "train_data = pd.read_csv('/train.csv')\n",
        "test_data = pd.read_csv('/test.csv')"
      ],
      "metadata": {
        "id": "gYaoePf8QDx-"
      },
      "execution_count": 3,
      "outputs": []
    },
    {
      "cell_type": "code",
      "source": [
        "train_data.head()"
      ],
      "metadata": {
        "id": "BNip3_3DzQbr",
        "outputId": "a5e0ef4e-96f7-4074-d18c-d078f3050e80",
        "colab": {
          "base_uri": "https://localhost:8080/",
          "height": 250
        }
      },
      "execution_count": 4,
      "outputs": [
        {
          "output_type": "execute_result",
          "data": {
            "text/plain": [
              "   PassengerId  Survived  Pclass  \\\n",
              "0            1         0       3   \n",
              "1            2         1       1   \n",
              "2            3         1       3   \n",
              "3            4         1       1   \n",
              "4            5         0       3   \n",
              "\n",
              "                                                Name     Sex   Age  SibSp  \\\n",
              "0                            Braund, Mr. Owen Harris    male  22.0      1   \n",
              "1  Cumings, Mrs. John Bradley (Florence Briggs Th...  female  38.0      1   \n",
              "2                             Heikkinen, Miss. Laina  female  26.0      0   \n",
              "3       Futrelle, Mrs. Jacques Heath (Lily May Peel)  female  35.0      1   \n",
              "4                           Allen, Mr. William Henry    male  35.0      0   \n",
              "\n",
              "   Parch            Ticket     Fare Cabin Embarked  \n",
              "0      0         A/5 21171   7.2500   NaN        S  \n",
              "1      0          PC 17599  71.2833   C85        C  \n",
              "2      0  STON/O2. 3101282   7.9250   NaN        S  \n",
              "3      0            113803  53.1000  C123        S  \n",
              "4      0            373450   8.0500   NaN        S  "
            ],
            "text/html": [
              "\n",
              "  <div id=\"df-3bb549d4-6824-4c73-9b45-95510647ed4a\">\n",
              "    <div class=\"colab-df-container\">\n",
              "      <div>\n",
              "<style scoped>\n",
              "    .dataframe tbody tr th:only-of-type {\n",
              "        vertical-align: middle;\n",
              "    }\n",
              "\n",
              "    .dataframe tbody tr th {\n",
              "        vertical-align: top;\n",
              "    }\n",
              "\n",
              "    .dataframe thead th {\n",
              "        text-align: right;\n",
              "    }\n",
              "</style>\n",
              "<table border=\"1\" class=\"dataframe\">\n",
              "  <thead>\n",
              "    <tr style=\"text-align: right;\">\n",
              "      <th></th>\n",
              "      <th>PassengerId</th>\n",
              "      <th>Survived</th>\n",
              "      <th>Pclass</th>\n",
              "      <th>Name</th>\n",
              "      <th>Sex</th>\n",
              "      <th>Age</th>\n",
              "      <th>SibSp</th>\n",
              "      <th>Parch</th>\n",
              "      <th>Ticket</th>\n",
              "      <th>Fare</th>\n",
              "      <th>Cabin</th>\n",
              "      <th>Embarked</th>\n",
              "    </tr>\n",
              "  </thead>\n",
              "  <tbody>\n",
              "    <tr>\n",
              "      <th>0</th>\n",
              "      <td>1</td>\n",
              "      <td>0</td>\n",
              "      <td>3</td>\n",
              "      <td>Braund, Mr. Owen Harris</td>\n",
              "      <td>male</td>\n",
              "      <td>22.0</td>\n",
              "      <td>1</td>\n",
              "      <td>0</td>\n",
              "      <td>A/5 21171</td>\n",
              "      <td>7.2500</td>\n",
              "      <td>NaN</td>\n",
              "      <td>S</td>\n",
              "    </tr>\n",
              "    <tr>\n",
              "      <th>1</th>\n",
              "      <td>2</td>\n",
              "      <td>1</td>\n",
              "      <td>1</td>\n",
              "      <td>Cumings, Mrs. John Bradley (Florence Briggs Th...</td>\n",
              "      <td>female</td>\n",
              "      <td>38.0</td>\n",
              "      <td>1</td>\n",
              "      <td>0</td>\n",
              "      <td>PC 17599</td>\n",
              "      <td>71.2833</td>\n",
              "      <td>C85</td>\n",
              "      <td>C</td>\n",
              "    </tr>\n",
              "    <tr>\n",
              "      <th>2</th>\n",
              "      <td>3</td>\n",
              "      <td>1</td>\n",
              "      <td>3</td>\n",
              "      <td>Heikkinen, Miss. Laina</td>\n",
              "      <td>female</td>\n",
              "      <td>26.0</td>\n",
              "      <td>0</td>\n",
              "      <td>0</td>\n",
              "      <td>STON/O2. 3101282</td>\n",
              "      <td>7.9250</td>\n",
              "      <td>NaN</td>\n",
              "      <td>S</td>\n",
              "    </tr>\n",
              "    <tr>\n",
              "      <th>3</th>\n",
              "      <td>4</td>\n",
              "      <td>1</td>\n",
              "      <td>1</td>\n",
              "      <td>Futrelle, Mrs. Jacques Heath (Lily May Peel)</td>\n",
              "      <td>female</td>\n",
              "      <td>35.0</td>\n",
              "      <td>1</td>\n",
              "      <td>0</td>\n",
              "      <td>113803</td>\n",
              "      <td>53.1000</td>\n",
              "      <td>C123</td>\n",
              "      <td>S</td>\n",
              "    </tr>\n",
              "    <tr>\n",
              "      <th>4</th>\n",
              "      <td>5</td>\n",
              "      <td>0</td>\n",
              "      <td>3</td>\n",
              "      <td>Allen, Mr. William Henry</td>\n",
              "      <td>male</td>\n",
              "      <td>35.0</td>\n",
              "      <td>0</td>\n",
              "      <td>0</td>\n",
              "      <td>373450</td>\n",
              "      <td>8.0500</td>\n",
              "      <td>NaN</td>\n",
              "      <td>S</td>\n",
              "    </tr>\n",
              "  </tbody>\n",
              "</table>\n",
              "</div>\n",
              "      <button class=\"colab-df-convert\" onclick=\"convertToInteractive('df-3bb549d4-6824-4c73-9b45-95510647ed4a')\"\n",
              "              title=\"Convert this dataframe to an interactive table.\"\n",
              "              style=\"display:none;\">\n",
              "        \n",
              "  <svg xmlns=\"http://www.w3.org/2000/svg\" height=\"24px\"viewBox=\"0 0 24 24\"\n",
              "       width=\"24px\">\n",
              "    <path d=\"M0 0h24v24H0V0z\" fill=\"none\"/>\n",
              "    <path d=\"M18.56 5.44l.94 2.06.94-2.06 2.06-.94-2.06-.94-.94-2.06-.94 2.06-2.06.94zm-11 1L8.5 8.5l.94-2.06 2.06-.94-2.06-.94L8.5 2.5l-.94 2.06-2.06.94zm10 10l.94 2.06.94-2.06 2.06-.94-2.06-.94-.94-2.06-.94 2.06-2.06.94z\"/><path d=\"M17.41 7.96l-1.37-1.37c-.4-.4-.92-.59-1.43-.59-.52 0-1.04.2-1.43.59L10.3 9.45l-7.72 7.72c-.78.78-.78 2.05 0 2.83L4 21.41c.39.39.9.59 1.41.59.51 0 1.02-.2 1.41-.59l7.78-7.78 2.81-2.81c.8-.78.8-2.07 0-2.86zM5.41 20L4 18.59l7.72-7.72 1.47 1.35L5.41 20z\"/>\n",
              "  </svg>\n",
              "      </button>\n",
              "      \n",
              "  <style>\n",
              "    .colab-df-container {\n",
              "      display:flex;\n",
              "      flex-wrap:wrap;\n",
              "      gap: 12px;\n",
              "    }\n",
              "\n",
              "    .colab-df-convert {\n",
              "      background-color: #E8F0FE;\n",
              "      border: none;\n",
              "      border-radius: 50%;\n",
              "      cursor: pointer;\n",
              "      display: none;\n",
              "      fill: #1967D2;\n",
              "      height: 32px;\n",
              "      padding: 0 0 0 0;\n",
              "      width: 32px;\n",
              "    }\n",
              "\n",
              "    .colab-df-convert:hover {\n",
              "      background-color: #E2EBFA;\n",
              "      box-shadow: 0px 1px 2px rgba(60, 64, 67, 0.3), 0px 1px 3px 1px rgba(60, 64, 67, 0.15);\n",
              "      fill: #174EA6;\n",
              "    }\n",
              "\n",
              "    [theme=dark] .colab-df-convert {\n",
              "      background-color: #3B4455;\n",
              "      fill: #D2E3FC;\n",
              "    }\n",
              "\n",
              "    [theme=dark] .colab-df-convert:hover {\n",
              "      background-color: #434B5C;\n",
              "      box-shadow: 0px 1px 3px 1px rgba(0, 0, 0, 0.15);\n",
              "      filter: drop-shadow(0px 1px 2px rgba(0, 0, 0, 0.3));\n",
              "      fill: #FFFFFF;\n",
              "    }\n",
              "  </style>\n",
              "\n",
              "      <script>\n",
              "        const buttonEl =\n",
              "          document.querySelector('#df-3bb549d4-6824-4c73-9b45-95510647ed4a button.colab-df-convert');\n",
              "        buttonEl.style.display =\n",
              "          google.colab.kernel.accessAllowed ? 'block' : 'none';\n",
              "\n",
              "        async function convertToInteractive(key) {\n",
              "          const element = document.querySelector('#df-3bb549d4-6824-4c73-9b45-95510647ed4a');\n",
              "          const dataTable =\n",
              "            await google.colab.kernel.invokeFunction('convertToInteractive',\n",
              "                                                     [key], {});\n",
              "          if (!dataTable) return;\n",
              "\n",
              "          const docLinkHtml = 'Like what you see? Visit the ' +\n",
              "            '<a target=\"_blank\" href=https://colab.research.google.com/notebooks/data_table.ipynb>data table notebook</a>'\n",
              "            + ' to learn more about interactive tables.';\n",
              "          element.innerHTML = '';\n",
              "          dataTable['output_type'] = 'display_data';\n",
              "          await google.colab.output.renderOutput(dataTable, element);\n",
              "          const docLink = document.createElement('div');\n",
              "          docLink.innerHTML = docLinkHtml;\n",
              "          element.appendChild(docLink);\n",
              "        }\n",
              "      </script>\n",
              "    </div>\n",
              "  </div>\n",
              "  "
            ]
          },
          "metadata": {},
          "execution_count": 4
        }
      ]
    },
    {
      "cell_type": "code",
      "source": [
        "train_data.isnull().sum()"
      ],
      "metadata": {
        "id": "XELbMXgszZlp",
        "outputId": "ddb9fca5-3f1f-4544-a3da-a22f0f5e6f16",
        "colab": {
          "base_uri": "https://localhost:8080/"
        }
      },
      "execution_count": 6,
      "outputs": [
        {
          "output_type": "execute_result",
          "data": {
            "text/plain": [
              "PassengerId      0\n",
              "Survived         0\n",
              "Pclass           0\n",
              "Name             0\n",
              "Sex              0\n",
              "Age            177\n",
              "SibSp            0\n",
              "Parch            0\n",
              "Ticket           0\n",
              "Fare             0\n",
              "Cabin          687\n",
              "Embarked         2\n",
              "dtype: int64"
            ]
          },
          "metadata": {},
          "execution_count": 6
        }
      ]
    },
    {
      "cell_type": "code",
      "source": [
        "train_data = train_data.drop(['PassengerId','Name','Ticket','Cabin'],axis=1)\n",
        "test_data = test_data.drop(['Name','Ticket','Cabin'],axis=1)"
      ],
      "metadata": {
        "id": "0uB_KPqYZspz"
      },
      "execution_count": 7,
      "outputs": []
    },
    {
      "cell_type": "code",
      "source": [
        "test_passenger_ids = test_data['PassengerId']\n",
        "test_data = test_data.drop(['PassengerId'],axis=1)"
      ],
      "metadata": {
        "id": "pUDT7r0xapMq"
      },
      "execution_count": 8,
      "outputs": []
    },
    {
      "cell_type": "code",
      "source": [
        "label_encoder = LabelEncoder()\n",
        "train_data['Sex'] = label_encoder.fit_transform(train_data['Sex'])\n",
        "test_data['Sex'] = label_encoder.transform(test_data['Sex'])\n",
        "train_data['Embarked'] = train_data['Embarked'].fillna('Unknown')\n",
        "test_data['Embarked'] = test_data['Embarked'].fillna('Unknown') \n",
        "train_data['Embarked'] = label_encoder.fit_transform(train_data['Embarked'])\n",
        "test_data['Embarked'] = label_encoder.transform(test_data['Embarked'])"
      ],
      "metadata": {
        "id": "AyOUqFzfbaj1"
      },
      "execution_count": 9,
      "outputs": []
    },
    {
      "cell_type": "code",
      "source": [
        "train_data['Age'] = train_data['Age'].fillna(train_data['Age'].median())\n",
        "test_data['Age'] = test_data['Age'].fillna(train_data['Age'].median())\n",
        "test_data['Fare'] = test_data['Fare'].fillna(train_data['Fare'].median())"
      ],
      "metadata": {
        "id": "YExd-gfrdnTI"
      },
      "execution_count": 10,
      "outputs": []
    },
    {
      "cell_type": "code",
      "source": [
        "scaler = StandardScaler()\n",
        "train_data[['Age', 'Fare']] = scaler.fit_transform(train_data[['Age', 'Fare']])\n",
        "test_data[['Age', 'Fare']] = scaler.transform(test_data[['Age', 'Fare']])"
      ],
      "metadata": {
        "id": "VVuQtckodwGM"
      },
      "execution_count": 11,
      "outputs": []
    },
    {
      "cell_type": "code",
      "source": [
        "# Split the training data into training and validation sets\n",
        "train_data, val_data = train_test_split(train_data, test_size=0.2, random_state=42)"
      ],
      "metadata": {
        "id": "oGyKkI6od2do"
      },
      "execution_count": 12,
      "outputs": []
    },
    {
      "cell_type": "code",
      "source": [
        "# Define the neural network model\n",
        "model = tf.keras.Sequential([\n",
        "    tf.keras.layers.InputLayer(input_shape=(7,)),\n",
        "    tf.keras.layers.Dense(128, activation='relu'),\n",
        "    tf.keras.layers.Dense(1, activation='sigmoid')\n",
        "])\n",
        "\n",
        "# Define the learning rate scheduler\n",
        "def scheduler(epoch, lr):\n",
        "    if epoch < 10:\n",
        "        return lr\n",
        "    else:\n",
        "        return lr * tf.math.exp(-0.1)\n",
        "\n",
        "# Compile the model\n",
        "model.compile(optimizer=tf.keras.optimizers.Adam(learning_rate=0.001), loss='binary_crossentropy', metrics=['accuracy'])\n",
        "\n",
        "# Train the model with learning rate scheduling\n",
        "history = model.fit(train_data.iloc[:, 1:], train_data.iloc[:, 0], validation_data=(val_data.iloc[:, 1:], val_data.iloc[:, 0]),\n",
        "                    epochs=100, batch_size=64, callbacks=[tf.keras.callbacks.LearningRateScheduler(scheduler)])"
      ],
      "metadata": {
        "id": "hd6oh4hfd7i8",
        "outputId": "85c386ea-e159-429a-cd7a-5c2f2c9ad004",
        "colab": {
          "base_uri": "https://localhost:8080/"
        }
      },
      "execution_count": 52,
      "outputs": [
        {
          "output_type": "stream",
          "name": "stdout",
          "text": [
            "Epoch 1/100\n",
            "12/12 [==============================] - 1s 17ms/step - loss: 0.6197 - accuracy: 0.6826 - val_loss: 0.6061 - val_accuracy: 0.6592 - lr: 0.0010\n",
            "Epoch 2/100\n",
            "12/12 [==============================] - 0s 5ms/step - loss: 0.5912 - accuracy: 0.6938 - val_loss: 0.5823 - val_accuracy: 0.7039 - lr: 0.0010\n",
            "Epoch 3/100\n",
            "12/12 [==============================] - 0s 6ms/step - loss: 0.5725 - accuracy: 0.7065 - val_loss: 0.5648 - val_accuracy: 0.7151 - lr: 0.0010\n",
            "Epoch 4/100\n",
            "12/12 [==============================] - 0s 6ms/step - loss: 0.5577 - accuracy: 0.7289 - val_loss: 0.5502 - val_accuracy: 0.7151 - lr: 0.0010\n",
            "Epoch 5/100\n",
            "12/12 [==============================] - 0s 6ms/step - loss: 0.5443 - accuracy: 0.7247 - val_loss: 0.5387 - val_accuracy: 0.7318 - lr: 0.0010\n",
            "Epoch 6/100\n",
            "12/12 [==============================] - 0s 6ms/step - loss: 0.5331 - accuracy: 0.7331 - val_loss: 0.5221 - val_accuracy: 0.7598 - lr: 0.0010\n",
            "Epoch 7/100\n",
            "12/12 [==============================] - 0s 4ms/step - loss: 0.5202 - accuracy: 0.7416 - val_loss: 0.5110 - val_accuracy: 0.7765 - lr: 0.0010\n",
            "Epoch 8/100\n",
            "12/12 [==============================] - 0s 6ms/step - loss: 0.5092 - accuracy: 0.7458 - val_loss: 0.5016 - val_accuracy: 0.7821 - lr: 0.0010\n",
            "Epoch 9/100\n",
            "12/12 [==============================] - 0s 6ms/step - loss: 0.5002 - accuracy: 0.7542 - val_loss: 0.4929 - val_accuracy: 0.7877 - lr: 0.0010\n",
            "Epoch 10/100\n",
            "12/12 [==============================] - 0s 6ms/step - loss: 0.4913 - accuracy: 0.7626 - val_loss: 0.4848 - val_accuracy: 0.7821 - lr: 0.0010\n",
            "Epoch 11/100\n",
            "12/12 [==============================] - 0s 4ms/step - loss: 0.4838 - accuracy: 0.7697 - val_loss: 0.4787 - val_accuracy: 0.7989 - lr: 9.0484e-04\n",
            "Epoch 12/100\n",
            "12/12 [==============================] - 0s 5ms/step - loss: 0.4777 - accuracy: 0.7795 - val_loss: 0.4739 - val_accuracy: 0.8156 - lr: 8.1873e-04\n",
            "Epoch 13/100\n",
            "12/12 [==============================] - 0s 5ms/step - loss: 0.4736 - accuracy: 0.7753 - val_loss: 0.4697 - val_accuracy: 0.8101 - lr: 7.4082e-04\n",
            "Epoch 14/100\n",
            "12/12 [==============================] - 0s 5ms/step - loss: 0.4686 - accuracy: 0.7865 - val_loss: 0.4653 - val_accuracy: 0.8380 - lr: 6.7032e-04\n",
            "Epoch 15/100\n",
            "12/12 [==============================] - 0s 5ms/step - loss: 0.4643 - accuracy: 0.8090 - val_loss: 0.4621 - val_accuracy: 0.8268 - lr: 6.0653e-04\n",
            "Epoch 16/100\n",
            "12/12 [==============================] - 0s 4ms/step - loss: 0.4608 - accuracy: 0.8104 - val_loss: 0.4600 - val_accuracy: 0.8156 - lr: 5.4881e-04\n",
            "Epoch 17/100\n",
            "12/12 [==============================] - 0s 5ms/step - loss: 0.4591 - accuracy: 0.8090 - val_loss: 0.4579 - val_accuracy: 0.8212 - lr: 4.9659e-04\n",
            "Epoch 18/100\n",
            "12/12 [==============================] - 0s 4ms/step - loss: 0.4577 - accuracy: 0.8076 - val_loss: 0.4568 - val_accuracy: 0.8212 - lr: 4.4933e-04\n",
            "Epoch 19/100\n",
            "12/12 [==============================] - 0s 7ms/step - loss: 0.4558 - accuracy: 0.8090 - val_loss: 0.4548 - val_accuracy: 0.8212 - lr: 4.0657e-04\n",
            "Epoch 20/100\n",
            "12/12 [==============================] - 0s 4ms/step - loss: 0.4545 - accuracy: 0.8076 - val_loss: 0.4546 - val_accuracy: 0.8212 - lr: 3.6788e-04\n",
            "Epoch 21/100\n",
            "12/12 [==============================] - 0s 6ms/step - loss: 0.4519 - accuracy: 0.8090 - val_loss: 0.4532 - val_accuracy: 0.8212 - lr: 3.3287e-04\n",
            "Epoch 22/100\n",
            "12/12 [==============================] - 0s 6ms/step - loss: 0.4509 - accuracy: 0.8104 - val_loss: 0.4518 - val_accuracy: 0.8156 - lr: 3.0119e-04\n",
            "Epoch 23/100\n",
            "12/12 [==============================] - 0s 4ms/step - loss: 0.4499 - accuracy: 0.8118 - val_loss: 0.4509 - val_accuracy: 0.8212 - lr: 2.7253e-04\n",
            "Epoch 24/100\n",
            "12/12 [==============================] - 0s 6ms/step - loss: 0.4490 - accuracy: 0.8118 - val_loss: 0.4505 - val_accuracy: 0.8212 - lr: 2.4660e-04\n",
            "Epoch 25/100\n",
            "12/12 [==============================] - 0s 6ms/step - loss: 0.4483 - accuracy: 0.8118 - val_loss: 0.4501 - val_accuracy: 0.8212 - lr: 2.2313e-04\n",
            "Epoch 26/100\n",
            "12/12 [==============================] - 0s 6ms/step - loss: 0.4478 - accuracy: 0.8118 - val_loss: 0.4495 - val_accuracy: 0.8156 - lr: 2.0190e-04\n",
            "Epoch 27/100\n",
            "12/12 [==============================] - 0s 6ms/step - loss: 0.4470 - accuracy: 0.8118 - val_loss: 0.4493 - val_accuracy: 0.8156 - lr: 1.8268e-04\n",
            "Epoch 28/100\n",
            "12/12 [==============================] - 0s 6ms/step - loss: 0.4464 - accuracy: 0.8104 - val_loss: 0.4486 - val_accuracy: 0.8156 - lr: 1.6530e-04\n",
            "Epoch 29/100\n",
            "12/12 [==============================] - 0s 6ms/step - loss: 0.4459 - accuracy: 0.8118 - val_loss: 0.4484 - val_accuracy: 0.8156 - lr: 1.4957e-04\n",
            "Epoch 30/100\n",
            "12/12 [==============================] - 0s 6ms/step - loss: 0.4454 - accuracy: 0.8104 - val_loss: 0.4480 - val_accuracy: 0.8156 - lr: 1.3534e-04\n",
            "Epoch 31/100\n",
            "12/12 [==============================] - 0s 5ms/step - loss: 0.4451 - accuracy: 0.8104 - val_loss: 0.4477 - val_accuracy: 0.8156 - lr: 1.2246e-04\n",
            "Epoch 32/100\n",
            "12/12 [==============================] - 0s 6ms/step - loss: 0.4447 - accuracy: 0.8104 - val_loss: 0.4474 - val_accuracy: 0.8156 - lr: 1.1080e-04\n",
            "Epoch 33/100\n",
            "12/12 [==============================] - 0s 6ms/step - loss: 0.4445 - accuracy: 0.8104 - val_loss: 0.4472 - val_accuracy: 0.8156 - lr: 1.0026e-04\n",
            "Epoch 34/100\n",
            "12/12 [==============================] - 0s 4ms/step - loss: 0.4442 - accuracy: 0.8104 - val_loss: 0.4470 - val_accuracy: 0.8156 - lr: 9.0718e-05\n",
            "Epoch 35/100\n",
            "12/12 [==============================] - 0s 4ms/step - loss: 0.4440 - accuracy: 0.8104 - val_loss: 0.4468 - val_accuracy: 0.8156 - lr: 8.2085e-05\n",
            "Epoch 36/100\n",
            "12/12 [==============================] - 0s 5ms/step - loss: 0.4438 - accuracy: 0.8104 - val_loss: 0.4467 - val_accuracy: 0.8156 - lr: 7.4274e-05\n",
            "Epoch 37/100\n",
            "12/12 [==============================] - 0s 5ms/step - loss: 0.4436 - accuracy: 0.8104 - val_loss: 0.4466 - val_accuracy: 0.8156 - lr: 6.7206e-05\n",
            "Epoch 38/100\n",
            "12/12 [==============================] - 0s 5ms/step - loss: 0.4433 - accuracy: 0.8104 - val_loss: 0.4465 - val_accuracy: 0.8156 - lr: 6.0810e-05\n",
            "Epoch 39/100\n",
            "12/12 [==============================] - 0s 6ms/step - loss: 0.4431 - accuracy: 0.8118 - val_loss: 0.4463 - val_accuracy: 0.8156 - lr: 5.5023e-05\n",
            "Epoch 40/100\n",
            "12/12 [==============================] - 0s 4ms/step - loss: 0.4430 - accuracy: 0.8118 - val_loss: 0.4462 - val_accuracy: 0.8156 - lr: 4.9787e-05\n",
            "Epoch 41/100\n",
            "12/12 [==============================] - 0s 6ms/step - loss: 0.4429 - accuracy: 0.8118 - val_loss: 0.4461 - val_accuracy: 0.8156 - lr: 4.5049e-05\n",
            "Epoch 42/100\n",
            "12/12 [==============================] - 0s 6ms/step - loss: 0.4428 - accuracy: 0.8118 - val_loss: 0.4460 - val_accuracy: 0.8156 - lr: 4.0762e-05\n",
            "Epoch 43/100\n",
            "12/12 [==============================] - 0s 5ms/step - loss: 0.4426 - accuracy: 0.8118 - val_loss: 0.4459 - val_accuracy: 0.8156 - lr: 3.6883e-05\n",
            "Epoch 44/100\n",
            "12/12 [==============================] - 0s 4ms/step - loss: 0.4426 - accuracy: 0.8118 - val_loss: 0.4458 - val_accuracy: 0.8156 - lr: 3.3373e-05\n",
            "Epoch 45/100\n",
            "12/12 [==============================] - 0s 6ms/step - loss: 0.4425 - accuracy: 0.8118 - val_loss: 0.4458 - val_accuracy: 0.8156 - lr: 3.0197e-05\n",
            "Epoch 46/100\n",
            "12/12 [==============================] - 0s 6ms/step - loss: 0.4424 - accuracy: 0.8118 - val_loss: 0.4457 - val_accuracy: 0.8156 - lr: 2.7324e-05\n",
            "Epoch 47/100\n",
            "12/12 [==============================] - 0s 5ms/step - loss: 0.4423 - accuracy: 0.8118 - val_loss: 0.4457 - val_accuracy: 0.8156 - lr: 2.4724e-05\n",
            "Epoch 48/100\n",
            "12/12 [==============================] - 0s 6ms/step - loss: 0.4423 - accuracy: 0.8118 - val_loss: 0.4456 - val_accuracy: 0.8156 - lr: 2.2371e-05\n",
            "Epoch 49/100\n",
            "12/12 [==============================] - 0s 6ms/step - loss: 0.4422 - accuracy: 0.8118 - val_loss: 0.4456 - val_accuracy: 0.8156 - lr: 2.0242e-05\n",
            "Epoch 50/100\n",
            "12/12 [==============================] - 0s 5ms/step - loss: 0.4422 - accuracy: 0.8118 - val_loss: 0.4456 - val_accuracy: 0.8156 - lr: 1.8316e-05\n",
            "Epoch 51/100\n",
            "12/12 [==============================] - 0s 4ms/step - loss: 0.4421 - accuracy: 0.8118 - val_loss: 0.4456 - val_accuracy: 0.8156 - lr: 1.6573e-05\n",
            "Epoch 52/100\n",
            "12/12 [==============================] - 0s 5ms/step - loss: 0.4421 - accuracy: 0.8118 - val_loss: 0.4455 - val_accuracy: 0.8156 - lr: 1.4996e-05\n",
            "Epoch 53/100\n",
            "12/12 [==============================] - 0s 4ms/step - loss: 0.4420 - accuracy: 0.8118 - val_loss: 0.4455 - val_accuracy: 0.8156 - lr: 1.3569e-05\n",
            "Epoch 54/100\n",
            "12/12 [==============================] - 0s 6ms/step - loss: 0.4420 - accuracy: 0.8118 - val_loss: 0.4455 - val_accuracy: 0.8156 - lr: 1.2277e-05\n",
            "Epoch 55/100\n",
            "12/12 [==============================] - 0s 7ms/step - loss: 0.4420 - accuracy: 0.8118 - val_loss: 0.4455 - val_accuracy: 0.8156 - lr: 1.1109e-05\n",
            "Epoch 56/100\n",
            "12/12 [==============================] - 0s 4ms/step - loss: 0.4419 - accuracy: 0.8118 - val_loss: 0.4455 - val_accuracy: 0.8156 - lr: 1.0052e-05\n",
            "Epoch 57/100\n",
            "12/12 [==============================] - 0s 5ms/step - loss: 0.4419 - accuracy: 0.8118 - val_loss: 0.4455 - val_accuracy: 0.8156 - lr: 9.0953e-06\n",
            "Epoch 58/100\n",
            "12/12 [==============================] - 0s 6ms/step - loss: 0.4419 - accuracy: 0.8118 - val_loss: 0.4454 - val_accuracy: 0.8156 - lr: 8.2298e-06\n",
            "Epoch 59/100\n",
            "12/12 [==============================] - 0s 6ms/step - loss: 0.4419 - accuracy: 0.8118 - val_loss: 0.4455 - val_accuracy: 0.8156 - lr: 7.4466e-06\n",
            "Epoch 60/100\n",
            "12/12 [==============================] - 0s 5ms/step - loss: 0.4419 - accuracy: 0.8118 - val_loss: 0.4455 - val_accuracy: 0.8156 - lr: 6.7379e-06\n",
            "Epoch 61/100\n",
            "12/12 [==============================] - 0s 4ms/step - loss: 0.4418 - accuracy: 0.8118 - val_loss: 0.4454 - val_accuracy: 0.8156 - lr: 6.0967e-06\n",
            "Epoch 62/100\n",
            "12/12 [==============================] - 0s 4ms/step - loss: 0.4418 - accuracy: 0.8118 - val_loss: 0.4454 - val_accuracy: 0.8156 - lr: 5.5166e-06\n",
            "Epoch 63/100\n",
            "12/12 [==============================] - 0s 5ms/step - loss: 0.4418 - accuracy: 0.8118 - val_loss: 0.4454 - val_accuracy: 0.8156 - lr: 4.9916e-06\n",
            "Epoch 64/100\n",
            "12/12 [==============================] - 0s 4ms/step - loss: 0.4418 - accuracy: 0.8118 - val_loss: 0.4454 - val_accuracy: 0.8156 - lr: 4.5166e-06\n",
            "Epoch 65/100\n",
            "12/12 [==============================] - 0s 4ms/step - loss: 0.4418 - accuracy: 0.8118 - val_loss: 0.4454 - val_accuracy: 0.8156 - lr: 4.0868e-06\n",
            "Epoch 66/100\n",
            "12/12 [==============================] - 0s 5ms/step - loss: 0.4418 - accuracy: 0.8118 - val_loss: 0.4454 - val_accuracy: 0.8156 - lr: 3.6979e-06\n",
            "Epoch 67/100\n",
            "12/12 [==============================] - 0s 5ms/step - loss: 0.4418 - accuracy: 0.8118 - val_loss: 0.4454 - val_accuracy: 0.8156 - lr: 3.3460e-06\n",
            "Epoch 68/100\n",
            "12/12 [==============================] - 0s 5ms/step - loss: 0.4418 - accuracy: 0.8118 - val_loss: 0.4454 - val_accuracy: 0.8156 - lr: 3.0276e-06\n",
            "Epoch 69/100\n",
            "12/12 [==============================] - 0s 4ms/step - loss: 0.4418 - accuracy: 0.8118 - val_loss: 0.4454 - val_accuracy: 0.8156 - lr: 2.7394e-06\n",
            "Epoch 70/100\n",
            "12/12 [==============================] - 0s 6ms/step - loss: 0.4417 - accuracy: 0.8118 - val_loss: 0.4454 - val_accuracy: 0.8156 - lr: 2.4788e-06\n",
            "Epoch 71/100\n",
            "12/12 [==============================] - 0s 4ms/step - loss: 0.4417 - accuracy: 0.8118 - val_loss: 0.4454 - val_accuracy: 0.8156 - lr: 2.2429e-06\n",
            "Epoch 72/100\n",
            "12/12 [==============================] - 0s 6ms/step - loss: 0.4417 - accuracy: 0.8118 - val_loss: 0.4454 - val_accuracy: 0.8156 - lr: 2.0294e-06\n",
            "Epoch 73/100\n",
            "12/12 [==============================] - 0s 5ms/step - loss: 0.4417 - accuracy: 0.8118 - val_loss: 0.4453 - val_accuracy: 0.8156 - lr: 1.8363e-06\n",
            "Epoch 74/100\n",
            "12/12 [==============================] - 0s 5ms/step - loss: 0.4417 - accuracy: 0.8118 - val_loss: 0.4453 - val_accuracy: 0.8156 - lr: 1.6616e-06\n",
            "Epoch 75/100\n",
            "12/12 [==============================] - 0s 4ms/step - loss: 0.4417 - accuracy: 0.8118 - val_loss: 0.4453 - val_accuracy: 0.8156 - lr: 1.5034e-06\n",
            "Epoch 76/100\n",
            "12/12 [==============================] - 0s 6ms/step - loss: 0.4417 - accuracy: 0.8118 - val_loss: 0.4453 - val_accuracy: 0.8156 - lr: 1.3604e-06\n",
            "Epoch 77/100\n",
            "12/12 [==============================] - 0s 6ms/step - loss: 0.4417 - accuracy: 0.8118 - val_loss: 0.4453 - val_accuracy: 0.8156 - lr: 1.2309e-06\n",
            "Epoch 78/100\n",
            "12/12 [==============================] - 0s 4ms/step - loss: 0.4417 - accuracy: 0.8118 - val_loss: 0.4453 - val_accuracy: 0.8156 - lr: 1.1138e-06\n",
            "Epoch 79/100\n",
            "12/12 [==============================] - 0s 6ms/step - loss: 0.4417 - accuracy: 0.8118 - val_loss: 0.4453 - val_accuracy: 0.8156 - lr: 1.0078e-06\n",
            "Epoch 80/100\n",
            "12/12 [==============================] - 0s 4ms/step - loss: 0.4417 - accuracy: 0.8118 - val_loss: 0.4453 - val_accuracy: 0.8156 - lr: 9.1188e-07\n",
            "Epoch 81/100\n",
            "12/12 [==============================] - 0s 6ms/step - loss: 0.4417 - accuracy: 0.8118 - val_loss: 0.4453 - val_accuracy: 0.8156 - lr: 8.2511e-07\n",
            "Epoch 82/100\n",
            "12/12 [==============================] - 0s 6ms/step - loss: 0.4417 - accuracy: 0.8118 - val_loss: 0.4453 - val_accuracy: 0.8156 - lr: 7.4659e-07\n",
            "Epoch 83/100\n",
            "12/12 [==============================] - 0s 4ms/step - loss: 0.4417 - accuracy: 0.8118 - val_loss: 0.4453 - val_accuracy: 0.8156 - lr: 6.7554e-07\n",
            "Epoch 84/100\n",
            "12/12 [==============================] - 0s 5ms/step - loss: 0.4417 - accuracy: 0.8118 - val_loss: 0.4453 - val_accuracy: 0.8156 - lr: 6.1125e-07\n",
            "Epoch 85/100\n",
            "12/12 [==============================] - 0s 6ms/step - loss: 0.4417 - accuracy: 0.8118 - val_loss: 0.4453 - val_accuracy: 0.8156 - lr: 5.5308e-07\n",
            "Epoch 86/100\n",
            "12/12 [==============================] - 0s 4ms/step - loss: 0.4417 - accuracy: 0.8118 - val_loss: 0.4453 - val_accuracy: 0.8156 - lr: 5.0045e-07\n",
            "Epoch 87/100\n",
            "12/12 [==============================] - 0s 4ms/step - loss: 0.4417 - accuracy: 0.8118 - val_loss: 0.4453 - val_accuracy: 0.8156 - lr: 4.5283e-07\n",
            "Epoch 88/100\n",
            "12/12 [==============================] - 0s 5ms/step - loss: 0.4417 - accuracy: 0.8118 - val_loss: 0.4453 - val_accuracy: 0.8156 - lr: 4.0974e-07\n",
            "Epoch 89/100\n",
            "12/12 [==============================] - 0s 7ms/step - loss: 0.4417 - accuracy: 0.8118 - val_loss: 0.4453 - val_accuracy: 0.8156 - lr: 3.7074e-07\n",
            "Epoch 90/100\n",
            "12/12 [==============================] - 0s 6ms/step - loss: 0.4417 - accuracy: 0.8118 - val_loss: 0.4453 - val_accuracy: 0.8156 - lr: 3.3546e-07\n",
            "Epoch 91/100\n",
            "12/12 [==============================] - 0s 7ms/step - loss: 0.4417 - accuracy: 0.8118 - val_loss: 0.4453 - val_accuracy: 0.8156 - lr: 3.0354e-07\n",
            "Epoch 92/100\n",
            "12/12 [==============================] - 0s 6ms/step - loss: 0.4417 - accuracy: 0.8118 - val_loss: 0.4453 - val_accuracy: 0.8156 - lr: 2.7465e-07\n",
            "Epoch 93/100\n",
            "12/12 [==============================] - 0s 6ms/step - loss: 0.4417 - accuracy: 0.8118 - val_loss: 0.4453 - val_accuracy: 0.8156 - lr: 2.4852e-07\n",
            "Epoch 94/100\n",
            "12/12 [==============================] - 0s 8ms/step - loss: 0.4417 - accuracy: 0.8118 - val_loss: 0.4453 - val_accuracy: 0.8156 - lr: 2.2487e-07\n",
            "Epoch 95/100\n",
            "12/12 [==============================] - 0s 7ms/step - loss: 0.4417 - accuracy: 0.8118 - val_loss: 0.4453 - val_accuracy: 0.8156 - lr: 2.0347e-07\n",
            "Epoch 96/100\n",
            "12/12 [==============================] - 0s 8ms/step - loss: 0.4417 - accuracy: 0.8118 - val_loss: 0.4453 - val_accuracy: 0.8156 - lr: 1.8411e-07\n",
            "Epoch 97/100\n",
            "12/12 [==============================] - 0s 8ms/step - loss: 0.4417 - accuracy: 0.8118 - val_loss: 0.4453 - val_accuracy: 0.8156 - lr: 1.6659e-07\n",
            "Epoch 98/100\n",
            "12/12 [==============================] - 0s 7ms/step - loss: 0.4417 - accuracy: 0.8118 - val_loss: 0.4453 - val_accuracy: 0.8156 - lr: 1.5073e-07\n",
            "Epoch 99/100\n",
            "12/12 [==============================] - 0s 7ms/step - loss: 0.4417 - accuracy: 0.8118 - val_loss: 0.4453 - val_accuracy: 0.8156 - lr: 1.3639e-07\n",
            "Epoch 100/100\n",
            "12/12 [==============================] - 0s 7ms/step - loss: 0.4417 - accuracy: 0.8118 - val_loss: 0.4453 - val_accuracy: 0.8156 - lr: 1.2341e-07\n"
          ]
        }
      ]
    },
    {
      "cell_type": "code",
      "source": [
        "# Plot the learning curve\n",
        "plt.plot(history.history['accuracy'])\n",
        "plt.plot(history.history['val_accuracy'])\n",
        "plt.title('Model accuracy')\n",
        "plt.ylabel('Accuracy')\n",
        "plt.xlabel('Epoch')\n",
        "plt.legend(['Train', 'Validation'], loc='upper left')\n",
        "plt.show()\n"
      ],
      "metadata": {
        "id": "g6zoxMXLeKbE",
        "outputId": "4a97b67b-a6e3-4467-bb05-1d9f375e1d32",
        "colab": {
          "base_uri": "https://localhost:8080/",
          "height": 295
        }
      },
      "execution_count": 53,
      "outputs": [
        {
          "output_type": "display_data",
          "data": {
            "text/plain": [
              "<Figure size 432x288 with 1 Axes>"
            ],
            "image/png": "[encoded data removed]"
          },
          "metadata": {
            "needs_background": "light"
          }
        }
      ]
    },
    {
      "cell_type": "code",
      "source": [
        "plt.plot(history.history['loss'])\n",
        "plt.plot(history.history['val_loss'])\n",
        "plt.title('Model loss')\n",
        "plt.ylabel('loss')\n",
        "plt.xlabel('Epoch')\n",
        "plt.legend(['Train', 'Validation'], loc='upper left')\n",
        "plt.show()"
      ],
      "metadata": {
        "id": "jrV5ufeBfOIE",
        "outputId": "2a2bda78-3b1f-4315-b34b-bb172d5ae774",
        "colab": {
          "base_uri": "https://localhost:8080/",
          "height": 295
        }
      },
      "execution_count": 54,
      "outputs": [
        {
          "output_type": "display_data",
          "data": {
            "text/plain": [
              "<Figure size 432x288 with 1 Axes>"
            ],
            "image/png": "[encoded data removed]"
          },
          "metadata": {
            "needs_background": "light"
          }
        }
      ]
    }
  ]
}