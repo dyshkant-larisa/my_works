{
  "nbformat": 4,
  "nbformat_minor": 0,
  "metadata": {
    "colab": {
      "provenance": []
    },
    "kernelspec": {
      "name": "python3",
      "display_name": "Python 3"
    },
    "language_info": {
      "name": "python"
    }
  },
  "cells": [
    {
      "cell_type": "code",
      "execution_count": 13,
      "metadata": {
        "id": "kUYDFTXqGApf"
      },
      "outputs": [],
      "source": [
        "import numpy as np\n",
        "import matplotlib.pyplot as plt\n",
        "import pandas as pd\n",
        "import tensorflow as tf\n",
        "from tensorflow import keras\n",
        "from sklearn.model_selection import train_test_split"
      ]
    },
    {
      "cell_type": "code",
      "source": [
        "# URL of the white wine dataset\n",
        "URL = 'http://archive.ics.uci.edu/ml/machine-learning-databases/wine-quality/winequality-white.csv'\n",
        "\n",
        "# load the dataset from the URL\n",
        "white_df = pd.read_csv(URL, sep=\";\")\n",
        "\n",
        "# fill the `is_red` column with zeros.\n",
        "white_df[\"is_red\"] = 0 # YOUR CODE HERE\n",
        "\n",
        "# keep only the first of duplicate items\n",
        "white_df = white_df.drop_duplicates(keep='first')"
      ],
      "metadata": {
        "id": "rDNxIGI5GYoR"
      },
      "execution_count": 14,
      "outputs": []
    },
    {
      "cell_type": "code",
      "source": [
        "# URL of the red wine dataset\n",
        "URL = 'http://archive.ics.uci.edu/ml/machine-learning-databases/wine-quality/winequality-red.csv'\n",
        "\n",
        "# load the dataset from the URL\n",
        "red_df = pd.read_csv(URL, sep=\";\")\n",
        "\n",
        "# fill the `is_red` column with ones.\n",
        "red_df[\"is_red\"] = 1 \n",
        "\n",
        "# keep only the first of duplicate items\n",
        "red_df = red_df.drop_duplicates(keep='first')"
      ],
      "metadata": {
        "id": "Qtw3cKuLGqB4"
      },
      "execution_count": 15,
      "outputs": []
    },
    {
      "cell_type": "code",
      "source": [
        "#об'єднуємо в  один датасет\n",
        "df = pd.concat([red_df, white_df], ignore_index=True)"
      ],
      "metadata": {
        "id": "dHe05yCFG2ls"
      },
      "execution_count": 16,
      "outputs": []
    },
    {
      "cell_type": "code",
      "source": [
        "# get data with wine quality greater than 4 and less than 8\n",
        "df = df[(df['quality'] > 4) & (df['quality'] < 8)]\n",
        "\n",
        "# reset index and drop the old one\n",
        "df = df.reset_index(drop=True)"
      ],
      "metadata": {
        "id": "wlPAPB2pHa-E"
      },
      "execution_count": 17,
      "outputs": []
    },
    {
      "cell_type": "code",
      "source": [
        "# split df into 80:20 train and test sets\n",
        "train, test = train_test_split(df, test_size=0.2, random_state = 24)\n",
        "                               \n",
        "# split train into 80:20 train and val sets\n",
        "train, val = train_test_split(train, test_size=0.2, random_state = 24)"
      ],
      "metadata": {
        "id": "J-787hjwHdIS"
      },
      "execution_count": 18,
      "outputs": []
    },
    {
      "cell_type": "code",
      "source": [
        "train_stats = train.describe()\n",
        "train_stats.pop('is_red')\n",
        "train_stats.pop('quality')\n",
        "train_stats = train_stats.transpose()"
      ],
      "metadata": {
        "id": "37VVM2AOJM8k"
      },
      "execution_count": 19,
      "outputs": []
    },
    {
      "cell_type": "code",
      "source": [
        "def format_output(data):\n",
        "    is_red = data.pop('is_red')\n",
        "    is_red = np.array(is_red)\n",
        "    quality = data.pop('quality')\n",
        "    quality = np.array(quality)\n",
        "    return (quality, is_red)\n",
        "\n",
        "# format the output of the train set\n",
        "y_train = format_output(train)\n",
        "\n",
        "# format the output of the val set\n",
        "y_val = format_output(val)\n",
        "    \n",
        "# format the output of the test set\n",
        "y_test = format_output(test)    "
      ],
      "metadata": {
        "id": "NKUWyKnlHx-N"
      },
      "execution_count": 20,
      "outputs": []
    },
    {
      "cell_type": "code",
      "source": [
        "def normal(x):\n",
        "    return (x - train_stats['mean']) / train_stats['std']\n",
        "\n",
        "# normalize the train set\n",
        "normal_x_train = normal(train)\n",
        "    \n",
        "# normalize the val set\n",
        "normal_x_val = normal(val)\n",
        "    \n",
        "# normalize the test set\n",
        "normal_x_test = normal(test) \n",
        "print(normal_x_train.shape)\n",
        "print(normal_x_val.shape)"
      ],
      "metadata": {
        "colab": {
          "base_uri": "https://localhost:8080/"
        },
        "id": "xepxrnHTIQCn",
        "outputId": "69252637-25c0-4cd8-c00c-28618311d802"
      },
      "execution_count": 25,
      "outputs": [
        {
          "output_type": "stream",
          "name": "stdout",
          "text": [
            "(3155, 11)\n",
            "(789, 11)\n"
          ]
        }
      ]
    },
    {
      "cell_type": "code",
      "source": [
        "from keras.models import Model\n",
        "from keras.layers import Dense, Input\n",
        "def model_first(inputs):\n",
        "    \n",
        "    # connect a Dense layer with 128 neurons and a relu activation\n",
        "   \n",
        "    x = Dense(128, activation = 'relu')(inputs)  \n",
        "    \n",
        "    # connect another Dense layer with 128 neurons and a relu activation\n",
        "    x = Dense(128, activation = 'relu')(x) \n",
        "    x = Dense(64, activation = 'relu')(x) \n",
        "    x = Dense(32, activation = 'relu')(x) \n",
        "    x = Dense(16, activation = 'relu')(x) \n",
        "    return x\n",
        "\n",
        "def final_model(inputs):\n",
        "    \n",
        "    # get the base model\n",
        "    x = model_first(inputs)\n",
        "\n",
        "    # connect the output Dense layer for regression\n",
        "    wine_quality = Dense(units='1', name='wine_quality')(x)\n",
        "\n",
        "    # connect the output Dense layer for classification. this will use a sigmoid activation.\n",
        "    wine_type = Dense(units='1', activation= 'sigmoid', name='wine_type')(x)\n",
        "\n",
        "    # define the model using the input and output layers\n",
        "    model = Model(inputs= inputs, outputs = [wine_quality, wine_type])\n",
        "\n",
        "    return model    "
      ],
      "metadata": {
        "id": "OTBT2jsQJbQ_"
      },
      "execution_count": 28,
      "outputs": []
    },
    {
      "cell_type": "code",
      "source": [
        "inputs = tf.keras.layers.Input(shape=(11,))\n",
        "model = final_model(inputs)\n",
        "\n",
        "model.compile(tf.keras.optimizers.Adam(learning_rate=0.0001), \n",
        "              loss = {'wine_type' : 'binary_crossentropy'},\n",
        "              metrics = {'wine_type' : 'accuracy'}\n",
        "             )"
      ],
      "metadata": {
        "id": "yQfg2MUZNusT"
      },
      "execution_count": 35,
      "outputs": []
    },
    {
      "cell_type": "code",
      "source": [
        "# Train the model\n",
        "history = model.fit(normal_x_train, y_train, \n",
        "                    epochs = 100, batch_size=64, validation_data=(normal_x_val, y_val))"
      ],
      "metadata": {
        "colab": {
          "base_uri": "https://localhost:8080/"
        },
        "id": "O6s1aTm_O5Tn",
        "outputId": "94e8ebf3-0a3a-457e-954f-876c616cb724"
      },
      "execution_count": 36,
      "outputs": [
        {
          "output_type": "stream",
          "name": "stdout",
          "text": [
            "Epoch 1/100\n"
          ]
        },
        {
          "output_type": "stream",
          "name": "stderr",
          "text": [
            "WARNING:tensorflow:Gradients do not exist for variables ['wine_quality/kernel:0', 'wine_quality/bias:0'] when minimizing the loss. If you're using `model.compile()`, did you forget to provide a `loss` argument?\n",
            "WARNING:tensorflow:Gradients do not exist for variables ['wine_quality/kernel:0', 'wine_quality/bias:0'] when minimizing the loss. If you're using `model.compile()`, did you forget to provide a `loss` argument?\n",
            "WARNING:tensorflow:Gradients do not exist for variables ['wine_quality/kernel:0', 'wine_quality/bias:0'] when minimizing the loss. If you're using `model.compile()`, did you forget to provide a `loss` argument?\n",
            "WARNING:tensorflow:Gradients do not exist for variables ['wine_quality/kernel:0', 'wine_quality/bias:0'] when minimizing the loss. If you're using `model.compile()`, did you forget to provide a `loss` argument?\n"
          ]
        },
        {
          "output_type": "stream",
          "name": "stdout",
          "text": [
            "50/50 [==============================] - 2s 13ms/step - loss: 0.6700 - wine_type_loss: 0.6700 - wine_type_accuracy: 0.5819 - val_loss: 0.6196 - val_wine_type_loss: 0.6196 - val_wine_type_accuracy: 0.9265\n",
            "Epoch 2/100\n",
            "50/50 [==============================] - 0s 7ms/step - loss: 0.5565 - wine_type_loss: 0.5565 - wine_type_accuracy: 0.9655 - val_loss: 0.4624 - val_wine_type_loss: 0.4624 - val_wine_type_accuracy: 0.9861\n",
            "Epoch 3/100\n",
            "50/50 [==============================] - 0s 7ms/step - loss: 0.3597 - wine_type_loss: 0.3597 - wine_type_accuracy: 0.9895 - val_loss: 0.2431 - val_wine_type_loss: 0.2431 - val_wine_type_accuracy: 0.9899\n",
            "Epoch 4/100\n",
            "50/50 [==============================] - 0s 7ms/step - loss: 0.1618 - wine_type_loss: 0.1618 - wine_type_accuracy: 0.9914 - val_loss: 0.1009 - val_wine_type_loss: 0.1009 - val_wine_type_accuracy: 0.9899\n",
            "Epoch 5/100\n",
            "50/50 [==============================] - 0s 7ms/step - loss: 0.0719 - wine_type_loss: 0.0719 - wine_type_accuracy: 0.9924 - val_loss: 0.0589 - val_wine_type_loss: 0.0589 - val_wine_type_accuracy: 0.9911\n",
            "Epoch 6/100\n",
            "50/50 [==============================] - 0s 8ms/step - loss: 0.0443 - wine_type_loss: 0.0443 - wine_type_accuracy: 0.9927 - val_loss: 0.0439 - val_wine_type_loss: 0.0439 - val_wine_type_accuracy: 0.9911\n",
            "Epoch 7/100\n",
            "50/50 [==============================] - 0s 5ms/step - loss: 0.0334 - wine_type_loss: 0.0334 - wine_type_accuracy: 0.9943 - val_loss: 0.0388 - val_wine_type_loss: 0.0388 - val_wine_type_accuracy: 0.9911\n",
            "Epoch 8/100\n",
            "50/50 [==============================] - 0s 4ms/step - loss: 0.0283 - wine_type_loss: 0.0283 - wine_type_accuracy: 0.9943 - val_loss: 0.0333 - val_wine_type_loss: 0.0333 - val_wine_type_accuracy: 0.9949\n",
            "Epoch 9/100\n",
            "50/50 [==============================] - 0s 5ms/step - loss: 0.0252 - wine_type_loss: 0.0252 - wine_type_accuracy: 0.9962 - val_loss: 0.0331 - val_wine_type_loss: 0.0331 - val_wine_type_accuracy: 0.9924\n",
            "Epoch 10/100\n",
            "50/50 [==============================] - 0s 4ms/step - loss: 0.0233 - wine_type_loss: 0.0233 - wine_type_accuracy: 0.9959 - val_loss: 0.0312 - val_wine_type_loss: 0.0312 - val_wine_type_accuracy: 0.9949\n",
            "Epoch 11/100\n",
            "50/50 [==============================] - 0s 4ms/step - loss: 0.0216 - wine_type_loss: 0.0216 - wine_type_accuracy: 0.9962 - val_loss: 0.0292 - val_wine_type_loss: 0.0292 - val_wine_type_accuracy: 0.9962\n",
            "Epoch 12/100\n",
            "50/50 [==============================] - 0s 5ms/step - loss: 0.0204 - wine_type_loss: 0.0204 - wine_type_accuracy: 0.9962 - val_loss: 0.0281 - val_wine_type_loss: 0.0281 - val_wine_type_accuracy: 0.9962\n",
            "Epoch 13/100\n",
            "50/50 [==============================] - 0s 5ms/step - loss: 0.0197 - wine_type_loss: 0.0197 - wine_type_accuracy: 0.9968 - val_loss: 0.0288 - val_wine_type_loss: 0.0288 - val_wine_type_accuracy: 0.9962\n",
            "Epoch 14/100\n",
            "50/50 [==============================] - 0s 4ms/step - loss: 0.0186 - wine_type_loss: 0.0186 - wine_type_accuracy: 0.9968 - val_loss: 0.0273 - val_wine_type_loss: 0.0273 - val_wine_type_accuracy: 0.9962\n",
            "Epoch 15/100\n",
            "50/50 [==============================] - 0s 5ms/step - loss: 0.0178 - wine_type_loss: 0.0178 - wine_type_accuracy: 0.9971 - val_loss: 0.0271 - val_wine_type_loss: 0.0271 - val_wine_type_accuracy: 0.9962\n",
            "Epoch 16/100\n",
            "50/50 [==============================] - 0s 4ms/step - loss: 0.0169 - wine_type_loss: 0.0169 - wine_type_accuracy: 0.9968 - val_loss: 0.0259 - val_wine_type_loss: 0.0259 - val_wine_type_accuracy: 0.9962\n",
            "Epoch 17/100\n",
            "50/50 [==============================] - 0s 4ms/step - loss: 0.0162 - wine_type_loss: 0.0162 - wine_type_accuracy: 0.9971 - val_loss: 0.0256 - val_wine_type_loss: 0.0256 - val_wine_type_accuracy: 0.9962\n",
            "Epoch 18/100\n",
            "50/50 [==============================] - 0s 4ms/step - loss: 0.0156 - wine_type_loss: 0.0156 - wine_type_accuracy: 0.9971 - val_loss: 0.0251 - val_wine_type_loss: 0.0251 - val_wine_type_accuracy: 0.9975\n",
            "Epoch 19/100\n",
            "50/50 [==============================] - 0s 4ms/step - loss: 0.0150 - wine_type_loss: 0.0150 - wine_type_accuracy: 0.9971 - val_loss: 0.0245 - val_wine_type_loss: 0.0245 - val_wine_type_accuracy: 0.9975\n",
            "Epoch 20/100\n",
            "50/50 [==============================] - 0s 5ms/step - loss: 0.0144 - wine_type_loss: 0.0144 - wine_type_accuracy: 0.9971 - val_loss: 0.0243 - val_wine_type_loss: 0.0243 - val_wine_type_accuracy: 0.9975\n",
            "Epoch 21/100\n",
            "50/50 [==============================] - 0s 4ms/step - loss: 0.0140 - wine_type_loss: 0.0140 - wine_type_accuracy: 0.9975 - val_loss: 0.0240 - val_wine_type_loss: 0.0240 - val_wine_type_accuracy: 0.9975\n",
            "Epoch 22/100\n",
            "50/50 [==============================] - 0s 4ms/step - loss: 0.0134 - wine_type_loss: 0.0134 - wine_type_accuracy: 0.9978 - val_loss: 0.0241 - val_wine_type_loss: 0.0241 - val_wine_type_accuracy: 0.9975\n",
            "Epoch 23/100\n",
            "50/50 [==============================] - 0s 4ms/step - loss: 0.0130 - wine_type_loss: 0.0130 - wine_type_accuracy: 0.9975 - val_loss: 0.0237 - val_wine_type_loss: 0.0237 - val_wine_type_accuracy: 0.9975\n",
            "Epoch 24/100\n",
            "50/50 [==============================] - 0s 4ms/step - loss: 0.0123 - wine_type_loss: 0.0123 - wine_type_accuracy: 0.9981 - val_loss: 0.0235 - val_wine_type_loss: 0.0235 - val_wine_type_accuracy: 0.9975\n",
            "Epoch 25/100\n",
            "50/50 [==============================] - 0s 5ms/step - loss: 0.0119 - wine_type_loss: 0.0119 - wine_type_accuracy: 0.9981 - val_loss: 0.0232 - val_wine_type_loss: 0.0232 - val_wine_type_accuracy: 0.9975\n",
            "Epoch 26/100\n",
            "50/50 [==============================] - 0s 4ms/step - loss: 0.0115 - wine_type_loss: 0.0115 - wine_type_accuracy: 0.9978 - val_loss: 0.0231 - val_wine_type_loss: 0.0231 - val_wine_type_accuracy: 0.9975\n",
            "Epoch 27/100\n",
            "50/50 [==============================] - 0s 5ms/step - loss: 0.0112 - wine_type_loss: 0.0112 - wine_type_accuracy: 0.9978 - val_loss: 0.0231 - val_wine_type_loss: 0.0231 - val_wine_type_accuracy: 0.9975\n",
            "Epoch 28/100\n",
            "50/50 [==============================] - 0s 5ms/step - loss: 0.0109 - wine_type_loss: 0.0109 - wine_type_accuracy: 0.9984 - val_loss: 0.0229 - val_wine_type_loss: 0.0229 - val_wine_type_accuracy: 0.9975\n",
            "Epoch 29/100\n",
            "50/50 [==============================] - 0s 5ms/step - loss: 0.0105 - wine_type_loss: 0.0105 - wine_type_accuracy: 0.9984 - val_loss: 0.0227 - val_wine_type_loss: 0.0227 - val_wine_type_accuracy: 0.9975\n",
            "Epoch 30/100\n",
            "50/50 [==============================] - 0s 4ms/step - loss: 0.0103 - wine_type_loss: 0.0103 - wine_type_accuracy: 0.9987 - val_loss: 0.0227 - val_wine_type_loss: 0.0227 - val_wine_type_accuracy: 0.9975\n",
            "Epoch 31/100\n",
            "50/50 [==============================] - 0s 5ms/step - loss: 0.0100 - wine_type_loss: 0.0100 - wine_type_accuracy: 0.9987 - val_loss: 0.0227 - val_wine_type_loss: 0.0227 - val_wine_type_accuracy: 0.9975\n",
            "Epoch 32/100\n",
            "50/50 [==============================] - 0s 4ms/step - loss: 0.0098 - wine_type_loss: 0.0098 - wine_type_accuracy: 0.9987 - val_loss: 0.0224 - val_wine_type_loss: 0.0224 - val_wine_type_accuracy: 0.9975\n",
            "Epoch 33/100\n",
            "50/50 [==============================] - 0s 4ms/step - loss: 0.0095 - wine_type_loss: 0.0095 - wine_type_accuracy: 0.9987 - val_loss: 0.0226 - val_wine_type_loss: 0.0226 - val_wine_type_accuracy: 0.9975\n",
            "Epoch 34/100\n",
            "50/50 [==============================] - 0s 4ms/step - loss: 0.0094 - wine_type_loss: 0.0094 - wine_type_accuracy: 0.9987 - val_loss: 0.0223 - val_wine_type_loss: 0.0223 - val_wine_type_accuracy: 0.9975\n",
            "Epoch 35/100\n",
            "50/50 [==============================] - 0s 4ms/step - loss: 0.0092 - wine_type_loss: 0.0092 - wine_type_accuracy: 0.9987 - val_loss: 0.0222 - val_wine_type_loss: 0.0222 - val_wine_type_accuracy: 0.9975\n",
            "Epoch 36/100\n",
            "50/50 [==============================] - 0s 4ms/step - loss: 0.0090 - wine_type_loss: 0.0090 - wine_type_accuracy: 0.9987 - val_loss: 0.0223 - val_wine_type_loss: 0.0223 - val_wine_type_accuracy: 0.9975\n",
            "Epoch 37/100\n",
            "50/50 [==============================] - 0s 4ms/step - loss: 0.0088 - wine_type_loss: 0.0088 - wine_type_accuracy: 0.9987 - val_loss: 0.0221 - val_wine_type_loss: 0.0221 - val_wine_type_accuracy: 0.9975\n",
            "Epoch 38/100\n",
            "50/50 [==============================] - 0s 4ms/step - loss: 0.0086 - wine_type_loss: 0.0086 - wine_type_accuracy: 0.9987 - val_loss: 0.0220 - val_wine_type_loss: 0.0220 - val_wine_type_accuracy: 0.9975\n",
            "Epoch 39/100\n",
            "50/50 [==============================] - 0s 4ms/step - loss: 0.0084 - wine_type_loss: 0.0084 - wine_type_accuracy: 0.9987 - val_loss: 0.0221 - val_wine_type_loss: 0.0221 - val_wine_type_accuracy: 0.9975\n",
            "Epoch 40/100\n",
            "50/50 [==============================] - 0s 4ms/step - loss: 0.0083 - wine_type_loss: 0.0083 - wine_type_accuracy: 0.9987 - val_loss: 0.0221 - val_wine_type_loss: 0.0221 - val_wine_type_accuracy: 0.9975\n",
            "Epoch 41/100\n",
            "50/50 [==============================] - 0s 4ms/step - loss: 0.0081 - wine_type_loss: 0.0081 - wine_type_accuracy: 0.9987 - val_loss: 0.0218 - val_wine_type_loss: 0.0218 - val_wine_type_accuracy: 0.9975\n",
            "Epoch 42/100\n",
            "50/50 [==============================] - 0s 5ms/step - loss: 0.0080 - wine_type_loss: 0.0080 - wine_type_accuracy: 0.9987 - val_loss: 0.0218 - val_wine_type_loss: 0.0218 - val_wine_type_accuracy: 0.9975\n",
            "Epoch 43/100\n",
            "50/50 [==============================] - 0s 4ms/step - loss: 0.0077 - wine_type_loss: 0.0077 - wine_type_accuracy: 0.9987 - val_loss: 0.0218 - val_wine_type_loss: 0.0218 - val_wine_type_accuracy: 0.9975\n",
            "Epoch 44/100\n",
            "50/50 [==============================] - 0s 4ms/step - loss: 0.0076 - wine_type_loss: 0.0076 - wine_type_accuracy: 0.9987 - val_loss: 0.0219 - val_wine_type_loss: 0.0219 - val_wine_type_accuracy: 0.9975\n",
            "Epoch 45/100\n",
            "50/50 [==============================] - 0s 5ms/step - loss: 0.0074 - wine_type_loss: 0.0074 - wine_type_accuracy: 0.9987 - val_loss: 0.0217 - val_wine_type_loss: 0.0217 - val_wine_type_accuracy: 0.9975\n",
            "Epoch 46/100\n",
            "50/50 [==============================] - 0s 4ms/step - loss: 0.0073 - wine_type_loss: 0.0073 - wine_type_accuracy: 0.9987 - val_loss: 0.0217 - val_wine_type_loss: 0.0217 - val_wine_type_accuracy: 0.9975\n",
            "Epoch 47/100\n",
            "50/50 [==============================] - 0s 4ms/step - loss: 0.0071 - wine_type_loss: 0.0071 - wine_type_accuracy: 0.9987 - val_loss: 0.0216 - val_wine_type_loss: 0.0216 - val_wine_type_accuracy: 0.9975\n",
            "Epoch 48/100\n",
            "50/50 [==============================] - 0s 4ms/step - loss: 0.0070 - wine_type_loss: 0.0070 - wine_type_accuracy: 0.9987 - val_loss: 0.0216 - val_wine_type_loss: 0.0216 - val_wine_type_accuracy: 0.9975\n",
            "Epoch 49/100\n",
            "50/50 [==============================] - 0s 4ms/step - loss: 0.0068 - wine_type_loss: 0.0068 - wine_type_accuracy: 0.9987 - val_loss: 0.0217 - val_wine_type_loss: 0.0217 - val_wine_type_accuracy: 0.9975\n",
            "Epoch 50/100\n",
            "50/50 [==============================] - 0s 6ms/step - loss: 0.0067 - wine_type_loss: 0.0067 - wine_type_accuracy: 0.9987 - val_loss: 0.0216 - val_wine_type_loss: 0.0216 - val_wine_type_accuracy: 0.9975\n",
            "Epoch 51/100\n",
            "50/50 [==============================] - 0s 5ms/step - loss: 0.0065 - wine_type_loss: 0.0065 - wine_type_accuracy: 0.9987 - val_loss: 0.0217 - val_wine_type_loss: 0.0217 - val_wine_type_accuracy: 0.9975\n",
            "Epoch 52/100\n",
            "50/50 [==============================] - 0s 8ms/step - loss: 0.0063 - wine_type_loss: 0.0063 - wine_type_accuracy: 0.9987 - val_loss: 0.0217 - val_wine_type_loss: 0.0217 - val_wine_type_accuracy: 0.9975\n",
            "Epoch 53/100\n",
            "50/50 [==============================] - 0s 7ms/step - loss: 0.0062 - wine_type_loss: 0.0062 - wine_type_accuracy: 0.9987 - val_loss: 0.0217 - val_wine_type_loss: 0.0217 - val_wine_type_accuracy: 0.9975\n",
            "Epoch 54/100\n",
            "50/50 [==============================] - 0s 6ms/step - loss: 0.0060 - wine_type_loss: 0.0060 - wine_type_accuracy: 0.9987 - val_loss: 0.0219 - val_wine_type_loss: 0.0219 - val_wine_type_accuracy: 0.9975\n",
            "Epoch 55/100\n",
            "50/50 [==============================] - 0s 7ms/step - loss: 0.0059 - wine_type_loss: 0.0059 - wine_type_accuracy: 0.9987 - val_loss: 0.0218 - val_wine_type_loss: 0.0218 - val_wine_type_accuracy: 0.9975\n",
            "Epoch 56/100\n",
            "50/50 [==============================] - 0s 7ms/step - loss: 0.0057 - wine_type_loss: 0.0057 - wine_type_accuracy: 0.9987 - val_loss: 0.0218 - val_wine_type_loss: 0.0218 - val_wine_type_accuracy: 0.9975\n",
            "Epoch 57/100\n",
            "50/50 [==============================] - 0s 7ms/step - loss: 0.0055 - wine_type_loss: 0.0055 - wine_type_accuracy: 0.9987 - val_loss: 0.0218 - val_wine_type_loss: 0.0218 - val_wine_type_accuracy: 0.9975\n",
            "Epoch 58/100\n",
            "50/50 [==============================] - 0s 6ms/step - loss: 0.0053 - wine_type_loss: 0.0053 - wine_type_accuracy: 0.9987 - val_loss: 0.0219 - val_wine_type_loss: 0.0219 - val_wine_type_accuracy: 0.9975\n",
            "Epoch 59/100\n",
            "50/50 [==============================] - 0s 5ms/step - loss: 0.0051 - wine_type_loss: 0.0051 - wine_type_accuracy: 0.9987 - val_loss: 0.0220 - val_wine_type_loss: 0.0220 - val_wine_type_accuracy: 0.9975\n",
            "Epoch 60/100\n",
            "50/50 [==============================] - 0s 4ms/step - loss: 0.0050 - wine_type_loss: 0.0050 - wine_type_accuracy: 0.9987 - val_loss: 0.0224 - val_wine_type_loss: 0.0224 - val_wine_type_accuracy: 0.9975\n",
            "Epoch 61/100\n",
            "50/50 [==============================] - 0s 4ms/step - loss: 0.0047 - wine_type_loss: 0.0047 - wine_type_accuracy: 0.9987 - val_loss: 0.0217 - val_wine_type_loss: 0.0217 - val_wine_type_accuracy: 0.9975\n",
            "Epoch 62/100\n",
            "50/50 [==============================] - 0s 4ms/step - loss: 0.0045 - wine_type_loss: 0.0045 - wine_type_accuracy: 0.9987 - val_loss: 0.0221 - val_wine_type_loss: 0.0221 - val_wine_type_accuracy: 0.9975\n",
            "Epoch 63/100\n",
            "50/50 [==============================] - 0s 5ms/step - loss: 0.0044 - wine_type_loss: 0.0044 - wine_type_accuracy: 0.9990 - val_loss: 0.0223 - val_wine_type_loss: 0.0223 - val_wine_type_accuracy: 0.9975\n",
            "Epoch 64/100\n",
            "50/50 [==============================] - 0s 4ms/step - loss: 0.0042 - wine_type_loss: 0.0042 - wine_type_accuracy: 0.9990 - val_loss: 0.0224 - val_wine_type_loss: 0.0224 - val_wine_type_accuracy: 0.9975\n",
            "Epoch 65/100\n",
            "50/50 [==============================] - 0s 4ms/step - loss: 0.0040 - wine_type_loss: 0.0040 - wine_type_accuracy: 0.9990 - val_loss: 0.0228 - val_wine_type_loss: 0.0228 - val_wine_type_accuracy: 0.9962\n",
            "Epoch 66/100\n",
            "50/50 [==============================] - 0s 4ms/step - loss: 0.0038 - wine_type_loss: 0.0038 - wine_type_accuracy: 0.9990 - val_loss: 0.0231 - val_wine_type_loss: 0.0231 - val_wine_type_accuracy: 0.9962\n",
            "Epoch 67/100\n",
            "50/50 [==============================] - 0s 4ms/step - loss: 0.0037 - wine_type_loss: 0.0037 - wine_type_accuracy: 0.9990 - val_loss: 0.0233 - val_wine_type_loss: 0.0233 - val_wine_type_accuracy: 0.9962\n",
            "Epoch 68/100\n",
            "50/50 [==============================] - 0s 4ms/step - loss: 0.0035 - wine_type_loss: 0.0035 - wine_type_accuracy: 0.9990 - val_loss: 0.0236 - val_wine_type_loss: 0.0236 - val_wine_type_accuracy: 0.9962\n",
            "Epoch 69/100\n",
            "50/50 [==============================] - 0s 5ms/step - loss: 0.0033 - wine_type_loss: 0.0033 - wine_type_accuracy: 0.9990 - val_loss: 0.0240 - val_wine_type_loss: 0.0240 - val_wine_type_accuracy: 0.9962\n",
            "Epoch 70/100\n",
            "50/50 [==============================] - 0s 5ms/step - loss: 0.0030 - wine_type_loss: 0.0030 - wine_type_accuracy: 0.9990 - val_loss: 0.0240 - val_wine_type_loss: 0.0240 - val_wine_type_accuracy: 0.9962\n",
            "Epoch 71/100\n",
            "50/50 [==============================] - 0s 5ms/step - loss: 0.0028 - wine_type_loss: 0.0028 - wine_type_accuracy: 0.9997 - val_loss: 0.0244 - val_wine_type_loss: 0.0244 - val_wine_type_accuracy: 0.9962\n",
            "Epoch 72/100\n",
            "50/50 [==============================] - 0s 5ms/step - loss: 0.0027 - wine_type_loss: 0.0027 - wine_type_accuracy: 0.9997 - val_loss: 0.0246 - val_wine_type_loss: 0.0246 - val_wine_type_accuracy: 0.9962\n",
            "Epoch 73/100\n",
            "50/50 [==============================] - 0s 4ms/step - loss: 0.0025 - wine_type_loss: 0.0025 - wine_type_accuracy: 0.9997 - val_loss: 0.0250 - val_wine_type_loss: 0.0250 - val_wine_type_accuracy: 0.9962\n",
            "Epoch 74/100\n",
            "50/50 [==============================] - 0s 4ms/step - loss: 0.0024 - wine_type_loss: 0.0024 - wine_type_accuracy: 0.9997 - val_loss: 0.0253 - val_wine_type_loss: 0.0253 - val_wine_type_accuracy: 0.9962\n",
            "Epoch 75/100\n",
            "50/50 [==============================] - 0s 5ms/step - loss: 0.0023 - wine_type_loss: 0.0023 - wine_type_accuracy: 0.9997 - val_loss: 0.0255 - val_wine_type_loss: 0.0255 - val_wine_type_accuracy: 0.9962\n",
            "Epoch 76/100\n",
            "50/50 [==============================] - 0s 4ms/step - loss: 0.0022 - wine_type_loss: 0.0022 - wine_type_accuracy: 0.9997 - val_loss: 0.0260 - val_wine_type_loss: 0.0260 - val_wine_type_accuracy: 0.9962\n",
            "Epoch 77/100\n",
            "50/50 [==============================] - 0s 4ms/step - loss: 0.0021 - wine_type_loss: 0.0021 - wine_type_accuracy: 0.9997 - val_loss: 0.0262 - val_wine_type_loss: 0.0262 - val_wine_type_accuracy: 0.9962\n",
            "Epoch 78/100\n",
            "50/50 [==============================] - 0s 4ms/step - loss: 0.0020 - wine_type_loss: 0.0020 - wine_type_accuracy: 0.9997 - val_loss: 0.0266 - val_wine_type_loss: 0.0266 - val_wine_type_accuracy: 0.9962\n",
            "Epoch 79/100\n",
            "50/50 [==============================] - 0s 4ms/step - loss: 0.0019 - wine_type_loss: 0.0019 - wine_type_accuracy: 0.9997 - val_loss: 0.0267 - val_wine_type_loss: 0.0267 - val_wine_type_accuracy: 0.9962\n",
            "Epoch 80/100\n",
            "50/50 [==============================] - 0s 4ms/step - loss: 0.0018 - wine_type_loss: 0.0018 - wine_type_accuracy: 0.9997 - val_loss: 0.0272 - val_wine_type_loss: 0.0272 - val_wine_type_accuracy: 0.9962\n",
            "Epoch 81/100\n",
            "50/50 [==============================] - 0s 4ms/step - loss: 0.0017 - wine_type_loss: 0.0017 - wine_type_accuracy: 0.9997 - val_loss: 0.0277 - val_wine_type_loss: 0.0277 - val_wine_type_accuracy: 0.9962\n",
            "Epoch 82/100\n",
            "50/50 [==============================] - 0s 4ms/step - loss: 0.0016 - wine_type_loss: 0.0016 - wine_type_accuracy: 0.9997 - val_loss: 0.0279 - val_wine_type_loss: 0.0279 - val_wine_type_accuracy: 0.9962\n",
            "Epoch 83/100\n",
            "50/50 [==============================] - 0s 4ms/step - loss: 0.0015 - wine_type_loss: 0.0015 - wine_type_accuracy: 0.9997 - val_loss: 0.0284 - val_wine_type_loss: 0.0284 - val_wine_type_accuracy: 0.9962\n",
            "Epoch 84/100\n",
            "50/50 [==============================] - 0s 5ms/step - loss: 0.0014 - wine_type_loss: 0.0014 - wine_type_accuracy: 0.9997 - val_loss: 0.0288 - val_wine_type_loss: 0.0288 - val_wine_type_accuracy: 0.9962\n",
            "Epoch 85/100\n",
            "50/50 [==============================] - 0s 5ms/step - loss: 0.0011 - wine_type_loss: 0.0011 - wine_type_accuracy: 0.9997 - val_loss: 0.0296 - val_wine_type_loss: 0.0296 - val_wine_type_accuracy: 0.9962\n",
            "Epoch 86/100\n",
            "50/50 [==============================] - 0s 4ms/step - loss: 0.0010 - wine_type_loss: 0.0010 - wine_type_accuracy: 0.9997 - val_loss: 0.0298 - val_wine_type_loss: 0.0298 - val_wine_type_accuracy: 0.9962\n",
            "Epoch 87/100\n",
            "50/50 [==============================] - 0s 5ms/step - loss: 9.2425e-04 - wine_type_loss: 9.2425e-04 - wine_type_accuracy: 0.9997 - val_loss: 0.0304 - val_wine_type_loss: 0.0304 - val_wine_type_accuracy: 0.9962\n",
            "Epoch 88/100\n",
            "50/50 [==============================] - 0s 4ms/step - loss: 8.1465e-04 - wine_type_loss: 8.1465e-04 - wine_type_accuracy: 0.9997 - val_loss: 0.0311 - val_wine_type_loss: 0.0311 - val_wine_type_accuracy: 0.9962\n",
            "Epoch 89/100\n",
            "50/50 [==============================] - 0s 4ms/step - loss: 6.3576e-04 - wine_type_loss: 6.3576e-04 - wine_type_accuracy: 0.9997 - val_loss: 0.0317 - val_wine_type_loss: 0.0317 - val_wine_type_accuracy: 0.9962\n",
            "Epoch 90/100\n",
            "50/50 [==============================] - 0s 5ms/step - loss: 6.5202e-04 - wine_type_loss: 6.5202e-04 - wine_type_accuracy: 0.9997 - val_loss: 0.0323 - val_wine_type_loss: 0.0323 - val_wine_type_accuracy: 0.9962\n",
            "Epoch 91/100\n",
            "50/50 [==============================] - 0s 5ms/step - loss: 5.4985e-04 - wine_type_loss: 5.4985e-04 - wine_type_accuracy: 0.9997 - val_loss: 0.0327 - val_wine_type_loss: 0.0327 - val_wine_type_accuracy: 0.9962\n",
            "Epoch 92/100\n",
            "50/50 [==============================] - 0s 5ms/step - loss: 4.9643e-04 - wine_type_loss: 4.9643e-04 - wine_type_accuracy: 1.0000 - val_loss: 0.0332 - val_wine_type_loss: 0.0332 - val_wine_type_accuracy: 0.9962\n",
            "Epoch 93/100\n",
            "50/50 [==============================] - 0s 4ms/step - loss: 4.6843e-04 - wine_type_loss: 4.6843e-04 - wine_type_accuracy: 0.9997 - val_loss: 0.0339 - val_wine_type_loss: 0.0339 - val_wine_type_accuracy: 0.9962\n",
            "Epoch 94/100\n",
            "50/50 [==============================] - 0s 4ms/step - loss: 4.0505e-04 - wine_type_loss: 4.0505e-04 - wine_type_accuracy: 1.0000 - val_loss: 0.0340 - val_wine_type_loss: 0.0340 - val_wine_type_accuracy: 0.9962\n",
            "Epoch 95/100\n",
            "50/50 [==============================] - 0s 4ms/step - loss: 4.1565e-04 - wine_type_loss: 4.1565e-04 - wine_type_accuracy: 1.0000 - val_loss: 0.0345 - val_wine_type_loss: 0.0345 - val_wine_type_accuracy: 0.9962\n",
            "Epoch 96/100\n",
            "50/50 [==============================] - 0s 5ms/step - loss: 3.7508e-04 - wine_type_loss: 3.7508e-04 - wine_type_accuracy: 1.0000 - val_loss: 0.0348 - val_wine_type_loss: 0.0348 - val_wine_type_accuracy: 0.9962\n",
            "Epoch 97/100\n",
            "50/50 [==============================] - 0s 4ms/step - loss: 3.5509e-04 - wine_type_loss: 3.5509e-04 - wine_type_accuracy: 1.0000 - val_loss: 0.0353 - val_wine_type_loss: 0.0353 - val_wine_type_accuracy: 0.9962\n",
            "Epoch 98/100\n",
            "50/50 [==============================] - 0s 5ms/step - loss: 3.1183e-04 - wine_type_loss: 3.1183e-04 - wine_type_accuracy: 1.0000 - val_loss: 0.0357 - val_wine_type_loss: 0.0357 - val_wine_type_accuracy: 0.9962\n",
            "Epoch 99/100\n",
            "50/50 [==============================] - 0s 4ms/step - loss: 2.7708e-04 - wine_type_loss: 2.7708e-04 - wine_type_accuracy: 1.0000 - val_loss: 0.0360 - val_wine_type_loss: 0.0360 - val_wine_type_accuracy: 0.9962\n",
            "Epoch 100/100\n",
            "50/50 [==============================] - 0s 4ms/step - loss: 3.1039e-04 - wine_type_loss: 3.1039e-04 - wine_type_accuracy: 1.0000 - val_loss: 0.0365 - val_wine_type_loss: 0.0365 - val_wine_type_accuracy: 0.9962\n"
          ]
        }
      ]
    },
    {
      "cell_type": "code",
      "source": [
        "plt.plot(history.history['wine_type_accuracy'])\n",
        "plt.plot(history.history['val_wine_type_accuracy'])\n",
        "plt.title('Model accuracy')\n",
        "plt.ylabel('Accuracy')\n",
        "plt.xlabel('Epoch')\n",
        "plt.legend(['Train', 'Validation'], loc='upper left')\n",
        "plt.show()"
      ],
      "metadata": {
        "colab": {
          "base_uri": "https://localhost:8080/",
          "height": 295
        },
        "id": "r0sY-00IP-vU",
        "outputId": "d2396629-81d8-441e-8f8d-6e6bab543b5f"
      },
      "execution_count": 37,
      "outputs": [
        {
          "output_type": "display_data",
          "data": {
            "text/plain": [
              "<Figure size 432x288 with 1 Axes>"
            ],
            "image/png": "[encoded data removed]"
          },
          "metadata": {
            "needs_background": "light"
          }
        }
      ]
    },
    {
      "cell_type": "code",
      "source": [
        "plt.plot(history.history['wine_type_loss'])\n",
        "plt.plot(history.history['val_wine_type_loss'])\n",
        "plt.title('Model loss')\n",
        "plt.ylabel('loss')\n",
        "plt.xlabel('Epoch')\n",
        "plt.legend(['Train', 'Validation'], loc='upper left')\n",
        "plt.show()"
      ],
      "metadata": {
        "colab": {
          "base_uri": "https://localhost:8080/",
          "height": 295
        },
        "id": "EqB3uw1tQAgf",
        "outputId": "057833fa-5f38-4b8f-f1dc-6176c6a68ad1"
      },
      "execution_count": 38,
      "outputs": [
        {
          "output_type": "display_data",
          "data": {
            "text/plain": [
              "<Figure size 432x288 with 1 Axes>"
            ],
            "image/png": "[encoded data removed]"
          },
          "metadata": {
            "needs_background": "light"
          }
        }
      ]
    },
    {
      "cell_type": "code",
      "source": [
        "metrics = model.evaluate(normal_x_test, y_test, batch_size=64, verbose=1)\n",
        "print(metrics)    "
      ],
      "metadata": {
        "colab": {
          "base_uri": "https://localhost:8080/"
        },
        "id": "Oqtx34lsSqM1",
        "outputId": "a504e797-b868-450d-9518-b5e5d88a86be"
      },
      "execution_count": 42,
      "outputs": [
        {
          "output_type": "stream",
          "name": "stdout",
          "text": [
            "16/16 [==============================] - 0s 3ms/step - loss: 0.0453 - wine_type_loss: 0.0453 - wine_type_accuracy: 0.9919\n",
            "[0.04529581218957901, 0.04529581218957901, 0.9918946027755737]\n"
          ]
        }
      ]
    }
  ]
}