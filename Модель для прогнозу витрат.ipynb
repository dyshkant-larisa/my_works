{
 "cells": [
  {
   "cell_type": "code",
   "execution_count": 137,
   "id": "8f631ab4",
   "metadata": {},
   "outputs": [],
   "source": [
    "import numpy as np\n",
    "import pandas as pd\n",
    "import matplotlib\n",
    "import matplotlib.pyplot as plt\n",
    "matplotlib.style.use('ggplot')\n",
    "%matplotlib inline\n",
    "\n",
    "import os"
   ]
  },
  {
   "cell_type": "code",
   "execution_count": 138,
   "id": "d382a142",
   "metadata": {},
   "outputs": [],
   "source": [
    "os.chdir('C:\\\\Users\\\\Лара\\\\Desktop\\\\Datastas\\\\')"
   ]
  },
  {
   "cell_type": "code",
   "execution_count": 139,
   "id": "0ec1fdf7",
   "metadata": {},
   "outputs": [
    {
     "data": {
      "text/html": [
       "<div>\n",
       "<style scoped>\n",
       "    .dataframe tbody tr th:only-of-type {\n",
       "        vertical-align: middle;\n",
       "    }\n",
       "\n",
       "    .dataframe tbody tr th {\n",
       "        vertical-align: top;\n",
       "    }\n",
       "\n",
       "    .dataframe thead th {\n",
       "        text-align: right;\n",
       "    }\n",
       "</style>\n",
       "<table border=\"1\" class=\"dataframe\">\n",
       "  <thead>\n",
       "    <tr style=\"text-align: right;\">\n",
       "      <th></th>\n",
       "      <th>code</th>\n",
       "      <th>attributes</th>\n",
       "      <th>period</th>\n",
       "      <th>dohod</th>\n",
       "      <th>vytraty</th>\n",
       "    </tr>\n",
       "  </thead>\n",
       "  <tbody>\n",
       "    <tr>\n",
       "      <th>0</th>\n",
       "      <td>0</td>\n",
       "      <td>Україна</td>\n",
       "      <td>2005</td>\n",
       "      <td>381404</td>\n",
       "      <td>335753</td>\n",
       "    </tr>\n",
       "    <tr>\n",
       "      <th>1</th>\n",
       "      <td>100000000</td>\n",
       "      <td>Автономна Республіка Крим</td>\n",
       "      <td>2005</td>\n",
       "      <td>13883</td>\n",
       "      <td>13521</td>\n",
       "    </tr>\n",
       "    <tr>\n",
       "      <th>2</th>\n",
       "      <td>500000000</td>\n",
       "      <td>Вінницька</td>\n",
       "      <td>2005</td>\n",
       "      <td>12193</td>\n",
       "      <td>9306</td>\n",
       "    </tr>\n",
       "    <tr>\n",
       "      <th>3</th>\n",
       "      <td>700000000</td>\n",
       "      <td>Волинська</td>\n",
       "      <td>2005</td>\n",
       "      <td>6808</td>\n",
       "      <td>6070</td>\n",
       "    </tr>\n",
       "    <tr>\n",
       "      <th>4</th>\n",
       "      <td>1200000000</td>\n",
       "      <td>Дніпропетровська</td>\n",
       "      <td>2005</td>\n",
       "      <td>31344</td>\n",
       "      <td>26711</td>\n",
       "    </tr>\n",
       "  </tbody>\n",
       "</table>\n",
       "</div>"
      ],
      "text/plain": [
       "         code                 attributes  period   dohod  vytraty\n",
       "0           0                    Україна    2005  381404   335753\n",
       "1   100000000  Автономна Республіка Крим    2005   13883    13521\n",
       "2   500000000                  Вінницька    2005   12193     9306\n",
       "3   700000000                  Волинська    2005    6808     6070\n",
       "4  1200000000           Дніпропетровська    2005   31344    26711"
      ]
     },
     "execution_count": 139,
     "metadata": {},
     "output_type": "execute_result"
    }
   ],
   "source": [
    "dt = pd.read_csv('DV.csv', sep=\",\", header = 1, index_col = False)\n",
    "dt.head()"
   ]
  },
  {
   "cell_type": "markdown",
   "id": "e91093cb",
   "metadata": {},
   "source": [
    "# Описова статистика"
   ]
  },
  {
   "cell_type": "code",
   "execution_count": 140,
   "id": "a0675cb1",
   "metadata": {},
   "outputs": [
    {
     "data": {
      "text/html": [
       "<div>\n",
       "<style scoped>\n",
       "    .dataframe tbody tr th:only-of-type {\n",
       "        vertical-align: middle;\n",
       "    }\n",
       "\n",
       "    .dataframe tbody tr th {\n",
       "        vertical-align: top;\n",
       "    }\n",
       "\n",
       "    .dataframe thead th {\n",
       "        text-align: right;\n",
       "    }\n",
       "</style>\n",
       "<table border=\"1\" class=\"dataframe\">\n",
       "  <thead>\n",
       "    <tr style=\"text-align: right;\">\n",
       "      <th></th>\n",
       "      <th>dohod</th>\n",
       "      <th>vytraty</th>\n",
       "    </tr>\n",
       "  </thead>\n",
       "  <tbody>\n",
       "    <tr>\n",
       "      <th>count</th>\n",
       "      <td>4.200000e+02</td>\n",
       "      <td>4.200000e+02</td>\n",
       "    </tr>\n",
       "    <tr>\n",
       "      <th>mean</th>\n",
       "      <td>1.132772e+05</td>\n",
       "      <td>1.090014e+05</td>\n",
       "    </tr>\n",
       "    <tr>\n",
       "      <th>std</th>\n",
       "      <td>3.413973e+05</td>\n",
       "      <td>3.348952e+05</td>\n",
       "    </tr>\n",
       "    <tr>\n",
       "      <th>min</th>\n",
       "      <td>2.845000e+03</td>\n",
       "      <td>3.175000e+03</td>\n",
       "    </tr>\n",
       "    <tr>\n",
       "      <th>25%</th>\n",
       "      <td>2.102025e+04</td>\n",
       "      <td>1.862400e+04</td>\n",
       "    </tr>\n",
       "    <tr>\n",
       "      <th>50%</th>\n",
       "      <td>4.029300e+04</td>\n",
       "      <td>3.735850e+04</td>\n",
       "    </tr>\n",
       "    <tr>\n",
       "      <th>75%</th>\n",
       "      <td>7.418625e+04</td>\n",
       "      <td>7.441800e+04</td>\n",
       "    </tr>\n",
       "    <tr>\n",
       "      <th>max</th>\n",
       "      <td>3.744060e+06</td>\n",
       "      <td>3.756517e+06</td>\n",
       "    </tr>\n",
       "  </tbody>\n",
       "</table>\n",
       "</div>"
      ],
      "text/plain": [
       "              dohod       vytraty\n",
       "count  4.200000e+02  4.200000e+02\n",
       "mean   1.132772e+05  1.090014e+05\n",
       "std    3.413973e+05  3.348952e+05\n",
       "min    2.845000e+03  3.175000e+03\n",
       "25%    2.102025e+04  1.862400e+04\n",
       "50%    4.029300e+04  3.735850e+04\n",
       "75%    7.418625e+04  7.441800e+04\n",
       "max    3.744060e+06  3.756517e+06"
      ]
     },
     "execution_count": 140,
     "metadata": {},
     "output_type": "execute_result"
    }
   ],
   "source": [
    "dt[['dohod','vytraty']].describe()"
   ]
  },
  {
   "cell_type": "code",
   "execution_count": 141,
   "id": "67e4347d",
   "metadata": {},
   "outputs": [
    {
     "data": {
      "text/plain": [
       "array([[<AxesSubplot:title={'center':'dohod'}>,\n",
       "        <AxesSubplot:title={'center':'vytraty'}>]], dtype=object)"
      ]
     },
     "execution_count": 141,
     "metadata": {},
     "output_type": "execute_result"
    },
    {
     "data": {
      "image/png": "[encoded data removed]",
      "text/plain": [
       "<Figure size 432x288 with 2 Axes>"
      ]
     },
     "metadata": {
      "needs_background": "light"
     },
     "output_type": "display_data"
    }
   ],
   "source": [
    "dt[['dohod','vytraty']].hist(bins = 40)"
   ]
  },
  {
   "cell_type": "code",
   "execution_count": 142,
   "id": "a2a0252a",
   "metadata": {},
   "outputs": [
    {
     "data": {
      "text/plain": [
       "array([[<AxesSubplot:title={'center':'dohod'}>,\n",
       "        <AxesSubplot:title={'center':'vytraty'}>]], dtype=object)"
      ]
     },
     "execution_count": 142,
     "metadata": {},
     "output_type": "execute_result"
    },
    {
     "data": {
      "image/png": "[encoded data removed]",
      "text/plain": [
       "<Figure size 432x288 with 2 Axes>"
      ]
     },
     "metadata": {
      "needs_background": "light"
     },
     "output_type": "display_data"
    }
   ],
   "source": [
    "np.log(dt[['dohod','vytraty']]).hist(bins = 25)"
   ]
  },
  {
   "cell_type": "code",
   "execution_count": 143,
   "id": "02699387",
   "metadata": {},
   "outputs": [],
   "source": [
    "# імпортуємо gaussian_kde для ядерної оцінки плотності\n",
    "from scipy.stats.kde import gaussian_kde\n",
    "\n",
    "from numpy import linspace,hstack\n",
    "from pylab import plot,show,hist"
   ]
  },
  {
   "cell_type": "code",
   "execution_count": 144,
   "id": "c803fb04",
   "metadata": {},
   "outputs": [
    {
     "data": {
      "text/plain": [
       "[<matplotlib.lines.Line2D at 0x2432c3837c0>]"
      ]
     },
     "execution_count": 144,
     "metadata": {},
     "output_type": "execute_result"
    },
    {
     "data": {
      "image/png": "[encoded data removed]",
      "text/plain": [
       "<Figure size 432x288 with 1 Axes>"
      ]
     },
     "metadata": {
      "needs_background": "light"
     },
     "output_type": "display_data"
    }
   ],
   "source": [
    "my_density = gaussian_kde(np.log(dt['dohod']), bw_method = 0.1)\n",
    "\n",
    "#график\n",
    "x = linspace(min(np.log(dt['dohod'])), max(np.log(dt['dohod'])), 1000)\n",
    "plot(x, my_density(x), 'g')"
   ]
  },
  {
   "cell_type": "code",
   "execution_count": 145,
   "id": "e7a8ffe5",
   "metadata": {
    "scrolled": true
   },
   "outputs": [
    {
     "data": {
      "text/plain": [
       "[<matplotlib.lines.Line2D at 0x2432c0ab8b0>]"
      ]
     },
     "execution_count": 145,
     "metadata": {},
     "output_type": "execute_result"
    },
    {
     "data": {
      "image/png": "[encoded data removed]",
      "text/plain": [
       "<Figure size 432x288 with 1 Axes>"
      ]
     },
     "metadata": {
      "needs_background": "light"
     },
     "output_type": "display_data"
    }
   ],
   "source": [
    "my_density = gaussian_kde(np.log(dt['vytraty']), bw_method = 0.1)\n",
    "\n",
    "#график\n",
    "x = linspace(min(np.log(dt['vytraty'])), max(np.log(dt['vytraty'])), 1000)\n",
    "plot(x, my_density(x), 'g')"
   ]
  },
  {
   "cell_type": "code",
   "execution_count": 146,
   "id": "3904329c",
   "metadata": {},
   "outputs": [
    {
     "data": {
      "image/png": "[encoded data removed]",
      "text/plain": [
       "<Figure size 720x432 with 2 Axes>"
      ]
     },
     "metadata": {
      "needs_background": "light"
     },
     "output_type": "display_data"
    }
   ],
   "source": [
    "#теплова карта кореляцією\n",
    "from scipy import stats\n",
    "import seaborn as sns\n",
    "import math\n",
    "dt_corr = dt[['dohod','vytraty']].corr()\n",
    "plt.figure(figsize=(10,6))\n",
    "ax = sns.heatmap(dt_corr, annot = True, vmin = -1, vmax = 1)\n",
    "bottom, top = ax.get_ylim()"
   ]
  },
  {
   "cell_type": "code",
   "execution_count": 147,
   "id": "da3cb0bf",
   "metadata": {},
   "outputs": [
    {
     "data": {
      "image/png": "[encoded data removed]",
      "text/plain": [
       "<Figure size 432x288 with 4 Axes>"
      ]
     },
     "metadata": {
      "needs_background": "light"
     },
     "output_type": "display_data"
    }
   ],
   "source": [
    "#матриця\n",
    "from pandas.plotting import scatter_matrix\n",
    "scatter_matrix(np.log(dt[['dohod','vytraty']]));"
   ]
  },
  {
   "cell_type": "code",
   "execution_count": 148,
   "id": "48d28ec1",
   "metadata": {},
   "outputs": [],
   "source": [
    "dt1 = pd.read_csv('isu2.csv', sep=',', header = 0, index_col = False)"
   ]
  },
  {
   "cell_type": "code",
   "execution_count": 149,
   "id": "382e3b7c",
   "metadata": {},
   "outputs": [
    {
     "data": {
      "text/html": [
       "<div>\n",
       "<style scoped>\n",
       "    .dataframe tbody tr th:only-of-type {\n",
       "        vertical-align: middle;\n",
       "    }\n",
       "\n",
       "    .dataframe tbody tr th {\n",
       "        vertical-align: top;\n",
       "    }\n",
       "\n",
       "    .dataframe thead th {\n",
       "        text-align: right;\n",
       "    }\n",
       "</style>\n",
       "<table border=\"1\" class=\"dataframe\">\n",
       "  <thead>\n",
       "    <tr style=\"text-align: right;\">\n",
       "      <th></th>\n",
       "      <th>period</th>\n",
       "      <th>income</th>\n",
       "      <th>Unemployed</th>\n",
       "      <th>spending</th>\n",
       "      <th>Unemployed_v</th>\n",
       "    </tr>\n",
       "  </thead>\n",
       "  <tbody>\n",
       "    <tr>\n",
       "      <th>0</th>\n",
       "      <td>2005</td>\n",
       "      <td>381404</td>\n",
       "      <td>1595</td>\n",
       "      <td>335753</td>\n",
       "      <td>7.8</td>\n",
       "    </tr>\n",
       "    <tr>\n",
       "      <th>1</th>\n",
       "      <td>2006</td>\n",
       "      <td>472061</td>\n",
       "      <td>1514</td>\n",
       "      <td>427858</td>\n",
       "      <td>7.4</td>\n",
       "    </tr>\n",
       "    <tr>\n",
       "      <th>2</th>\n",
       "      <td>2007</td>\n",
       "      <td>623289</td>\n",
       "      <td>1417</td>\n",
       "      <td>575510</td>\n",
       "      <td>6.9</td>\n",
       "    </tr>\n",
       "    <tr>\n",
       "      <th>3</th>\n",
       "      <td>2008</td>\n",
       "      <td>845641</td>\n",
       "      <td>1424</td>\n",
       "      <td>793630</td>\n",
       "      <td>6.9</td>\n",
       "    </tr>\n",
       "    <tr>\n",
       "      <th>4</th>\n",
       "      <td>2009</td>\n",
       "      <td>894286</td>\n",
       "      <td>1957</td>\n",
       "      <td>813909</td>\n",
       "      <td>9.6</td>\n",
       "    </tr>\n",
       "  </tbody>\n",
       "</table>\n",
       "</div>"
      ],
      "text/plain": [
       "   period  income  Unemployed  spending  Unemployed_v\n",
       "0    2005  381404        1595    335753           7.8\n",
       "1    2006  472061        1514    427858           7.4\n",
       "2    2007  623289        1417    575510           6.9\n",
       "3    2008  845641        1424    793630           6.9\n",
       "4    2009  894286        1957    813909           9.6"
      ]
     },
     "execution_count": 149,
     "metadata": {},
     "output_type": "execute_result"
    }
   ],
   "source": [
    "dt1.head()"
   ]
  },
  {
   "cell_type": "code",
   "execution_count": 151,
   "id": "3a698263",
   "metadata": {},
   "outputs": [
    {
     "data": {
      "text/plain": [
       "array([[<AxesSubplot:title={'center':'income'}>,\n",
       "        <AxesSubplot:title={'center':'Unemployed_v'}>],\n",
       "       [<AxesSubplot:title={'center':'spending'}>, <AxesSubplot:>]],\n",
       "      dtype=object)"
      ]
     },
     "execution_count": 151,
     "metadata": {},
     "output_type": "execute_result"
    },
    {
     "data": {
      "image/png": "[encoded data removed]",
      "text/plain": [
       "<Figure size 432x288 with 4 Axes>"
      ]
     },
     "metadata": {
      "needs_background": "light"
     },
     "output_type": "display_data"
    }
   ],
   "source": [
    "dt1[['income','Unemployed_v','spending']].hist()"
   ]
  },
  {
   "cell_type": "code",
   "execution_count": 152,
   "id": "c5691b7e",
   "metadata": {},
   "outputs": [
    {
     "data": {
      "text/html": [
       "<div>\n",
       "<style scoped>\n",
       "    .dataframe tbody tr th:only-of-type {\n",
       "        vertical-align: middle;\n",
       "    }\n",
       "\n",
       "    .dataframe tbody tr th {\n",
       "        vertical-align: top;\n",
       "    }\n",
       "\n",
       "    .dataframe thead th {\n",
       "        text-align: right;\n",
       "    }\n",
       "</style>\n",
       "<table border=\"1\" class=\"dataframe\">\n",
       "  <thead>\n",
       "    <tr style=\"text-align: right;\">\n",
       "      <th></th>\n",
       "      <th>income</th>\n",
       "      <th>Unemployed_v</th>\n",
       "      <th>spending</th>\n",
       "    </tr>\n",
       "  </thead>\n",
       "  <tbody>\n",
       "    <tr>\n",
       "      <th>count</th>\n",
       "      <td>1.500000e+01</td>\n",
       "      <td>15.000000</td>\n",
       "      <td>1.500000e+01</td>\n",
       "    </tr>\n",
       "    <tr>\n",
       "      <th>mean</th>\n",
       "      <td>1.644545e+06</td>\n",
       "      <td>8.553333</td>\n",
       "      <td>1.510930e+06</td>\n",
       "    </tr>\n",
       "    <tr>\n",
       "      <th>std</th>\n",
       "      <td>1.111104e+06</td>\n",
       "      <td>1.038451</td>\n",
       "      <td>1.016160e+06</td>\n",
       "    </tr>\n",
       "    <tr>\n",
       "      <th>min</th>\n",
       "      <td>3.814040e+05</td>\n",
       "      <td>6.900000</td>\n",
       "      <td>3.357530e+05</td>\n",
       "    </tr>\n",
       "    <tr>\n",
       "      <th>25%</th>\n",
       "      <td>8.699635e+05</td>\n",
       "      <td>7.750000</td>\n",
       "      <td>8.037695e+05</td>\n",
       "    </tr>\n",
       "    <tr>\n",
       "      <th>50%</th>\n",
       "      <td>1.457864e+06</td>\n",
       "      <td>8.600000</td>\n",
       "      <td>1.310584e+06</td>\n",
       "    </tr>\n",
       "    <tr>\n",
       "      <th>75%</th>\n",
       "      <td>1.911674e+06</td>\n",
       "      <td>9.550000</td>\n",
       "      <td>1.889842e+06</td>\n",
       "    </tr>\n",
       "    <tr>\n",
       "      <th>max</th>\n",
       "      <td>3.744060e+06</td>\n",
       "      <td>9.900000</td>\n",
       "      <td>3.756517e+06</td>\n",
       "    </tr>\n",
       "  </tbody>\n",
       "</table>\n",
       "</div>"
      ],
      "text/plain": [
       "             income  Unemployed_v      spending\n",
       "count  1.500000e+01     15.000000  1.500000e+01\n",
       "mean   1.644545e+06      8.553333  1.510930e+06\n",
       "std    1.111104e+06      1.038451  1.016160e+06\n",
       "min    3.814040e+05      6.900000  3.357530e+05\n",
       "25%    8.699635e+05      7.750000  8.037695e+05\n",
       "50%    1.457864e+06      8.600000  1.310584e+06\n",
       "75%    1.911674e+06      9.550000  1.889842e+06\n",
       "max    3.744060e+06      9.900000  3.756517e+06"
      ]
     },
     "execution_count": 152,
     "metadata": {},
     "output_type": "execute_result"
    }
   ],
   "source": [
    "dt1[['income','Unemployed_v','spending']].describe()"
   ]
  },
  {
   "cell_type": "code",
   "execution_count": 153,
   "id": "dc8b7770",
   "metadata": {},
   "outputs": [
    {
     "data": {
      "text/plain": [
       "[<matplotlib.lines.Line2D at 0x2432c48d3d0>]"
      ]
     },
     "execution_count": 153,
     "metadata": {},
     "output_type": "execute_result"
    },
    {
     "data": {
      "image/png": "[encoded data removed]",
      "text/plain": [
       "<Figure size 432x288 with 1 Axes>"
      ]
     },
     "metadata": {
      "needs_background": "light"
     },
     "output_type": "display_data"
    }
   ],
   "source": [
    "my_density = gaussian_kde(dt1['Unemployed_v'], bw_method = 0.1)\n",
    "\n",
    "#график\n",
    "x = linspace(min(dt1['Unemployed_v']), max(dt1['Unemployed_v']), 1000)\n",
    "plot(x, my_density(x), 'g')"
   ]
  },
  {
   "cell_type": "code",
   "execution_count": 154,
   "id": "5072d713",
   "metadata": {},
   "outputs": [
    {
     "data": {
      "text/plain": [
       "[<matplotlib.lines.Line2D at 0x2432c4fc310>]"
      ]
     },
     "execution_count": 154,
     "metadata": {},
     "output_type": "execute_result"
    },
    {
     "data": {
      "image/png": "[encoded data removed]",
      "text/plain": [
       "<Figure size 432x288 with 1 Axes>"
      ]
     },
     "metadata": {
      "needs_background": "light"
     },
     "output_type": "display_data"
    }
   ],
   "source": [
    "my_density = gaussian_kde(dt1['spending'], bw_method = 0.1)\n",
    "\n",
    "#график\n",
    "x = linspace(min(dt1['spending']), max(dt1['spending']), 1000)\n",
    "plot(x, my_density(x), 'g')"
   ]
  },
  {
   "cell_type": "code",
   "execution_count": 156,
   "id": "e361f200",
   "metadata": {},
   "outputs": [
    {
     "data": {
      "image/png": "[encoded data removed]",
      "text/plain": [
       "<Figure size 720x432 with 2 Axes>"
      ]
     },
     "metadata": {
      "needs_background": "light"
     },
     "output_type": "display_data"
    }
   ],
   "source": [
    "#теплова карта кореляцією\n",
    "from scipy import stats\n",
    "import seaborn as sns\n",
    "import math\n",
    "dt_corr = dt1[['income','Unemployed_v','spending']].corr()\n",
    "plt.figure(figsize=(10,6))\n",
    "ax = sns.heatmap(dt_corr, annot = True, vmin = -1, vmax = 1)\n",
    "bottom, top = ax.get_ylim()"
   ]
  },
  {
   "cell_type": "code",
   "execution_count": 157,
   "id": "ee40fe42",
   "metadata": {},
   "outputs": [
    {
     "data": {
      "image/png": "[encoded data removed]",
      "text/plain": [
       "<Figure size 432x288 with 9 Axes>"
      ]
     },
     "metadata": {
      "needs_background": "light"
     },
     "output_type": "display_data"
    }
   ],
   "source": [
    "#матриця\n",
    "from pandas.plotting import scatter_matrix\n",
    "scatter_matrix(dt1[['income','Unemployed_v','spending']]);"
   ]
  },
  {
   "cell_type": "code",
   "execution_count": 158,
   "id": "6e1c8acf",
   "metadata": {},
   "outputs": [
    {
     "data": {
      "text/plain": [
       "<matplotlib.collections.PathCollection at 0x2432c8f2bb0>"
      ]
     },
     "execution_count": 158,
     "metadata": {},
     "output_type": "execute_result"
    },
    {
     "data": {
      "image/png": "[encoded data removed]",
      "text/plain": [
       "<Figure size 1440x432 with 1 Axes>"
      ]
     },
     "metadata": {
      "needs_background": "light"
     },
     "output_type": "display_data"
    }
   ],
   "source": [
    "plt.figure(figsize=(20,6))\n",
    "plt.scatter(dt1['Unemployed_v'],dt1.spending, color = 'blue')"
   ]
  },
  {
   "cell_type": "code",
   "execution_count": 159,
   "id": "9322522e",
   "metadata": {
    "scrolled": true
   },
   "outputs": [
    {
     "data": {
      "text/plain": [
       "<Figure size 1152x576 with 0 Axes>"
      ]
     },
     "metadata": {},
     "output_type": "display_data"
    },
    {
     "data": {
      "image/png": "[encoded data removed]",
      "text/plain": [
       "<Figure size 432x288 with 1 Axes>"
      ]
     },
     "metadata": {
      "needs_background": "light"
     },
     "output_type": "display_data"
    }
   ],
   "source": [
    "#Подивимося на залежність рівня безробіття від часу\n",
    "Datat = dt1[['period','Unemployed_v']]\n",
    "Datat.set_index('period', inplace = True)\n",
    "\n",
    "#графік залежності\n",
    "plt.figure(figsize=(16,8))\n",
    "Datat.plot()\n",
    "plt.show()"
   ]
  },
  {
   "cell_type": "markdown",
   "id": "861c2947",
   "metadata": {},
   "source": [
    "# Лінійна регресія"
   ]
  },
  {
   "cell_type": "code",
   "execution_count": 160,
   "id": "34552ab3",
   "metadata": {},
   "outputs": [],
   "source": [
    "X = dt.iloc[:, 3:4].values\n",
    "y = dt.iloc[:, -1].values"
   ]
  },
  {
   "cell_type": "code",
   "execution_count": 161,
   "id": "177573d2",
   "metadata": {},
   "outputs": [],
   "source": [
    "from sklearn.model_selection import train_test_split\n",
    "X_train, X_test, y_train, y_test = train_test_split(X, y, test_size=0.3, random_state=0)"
   ]
  },
  {
   "cell_type": "code",
   "execution_count": 162,
   "id": "5909f722",
   "metadata": {},
   "outputs": [
    {
     "data": {
      "text/plain": [
       "LinearRegression()"
      ]
     },
     "execution_count": 162,
     "metadata": {},
     "output_type": "execute_result"
    }
   ],
   "source": [
    "from sklearn.linear_model import LinearRegression\n",
    "lm = LinearRegression()\n",
    "lm.fit(X_train, y_train)"
   ]
  },
  {
   "cell_type": "code",
   "execution_count": 163,
   "id": "5fe76e39",
   "metadata": {},
   "outputs": [
    {
     "data": {
      "image/png": "[encoded data removed]",
      "text/plain": [
       "<Figure size 432x288 with 1 Axes>"
      ]
     },
     "metadata": {
      "needs_background": "light"
     },
     "output_type": "display_data"
    }
   ],
   "source": [
    "plt.scatter(X_train, y_train, color = 'blue')\n",
    "\n",
    "plt.plot(X_train, lm.predict(X_train), color = 'red')\n",
    "plt.title('Linear Regression')\n",
    "plt.xlabel('dohod')\n",
    "plt.ylabel('vytraty')\n",
    "\n",
    "plt.show()"
   ]
  },
  {
   "cell_type": "markdown",
   "id": "dda9dd2c",
   "metadata": {},
   "source": [
    "# Поліноміальна  регресійна модель"
   ]
  },
  {
   "cell_type": "code",
   "execution_count": 164,
   "id": "2f4dcbcd",
   "metadata": {},
   "outputs": [
    {
     "data": {
      "text/plain": [
       "array([[1.00000000e+00, 2.05960000e+04, 4.24195216e+08],\n",
       "       [1.00000000e+00, 8.15810000e+04, 6.65545956e+09],\n",
       "       [1.00000000e+00, 1.21030000e+04, 1.46482609e+08],\n",
       "       [1.00000000e+00, 4.71520000e+04, 2.22331110e+09],\n",
       "       [1.00000000e+00, 2.45934000e+05, 6.04835324e+10],\n",
       "       [1.00000000e+00, 3.07844000e+05, 9.47679283e+10],\n",
       "       [1.00000000e+00, 7.14850000e+04, 5.11010522e+09],\n",
       "       [1.00000000e+00, 9.22130000e+04, 8.50323737e+09],\n",
       "       [1.00000000e+00, 3.51250000e+04, 1.23376562e+09],\n",
       "       [1.00000000e+00, 1.45786400e+06, 2.12536744e+12],\n",
       "       [1.00000000e+00, 2.99880000e+04, 8.99280144e+08],\n",
       "       [1.00000000e+00, 2.96540000e+04, 8.79359716e+08],\n",
       "       [1.00000000e+00, 3.56280000e+04, 1.26935438e+09],\n",
       "       [1.00000000e+00, 2.94890000e+04, 8.69601121e+08],\n",
       "       [1.00000000e+00, 2.57410000e+04, 6.62599081e+08],\n",
       "       [1.00000000e+00, 5.73240000e+04, 3.28604098e+09],\n",
       "       [1.00000000e+00, 1.61140000e+04, 2.59660996e+08],\n",
       "       [1.00000000e+00, 8.97020000e+04, 8.04644880e+09],\n",
       "       [1.00000000e+00, 2.31450000e+04, 5.35691025e+08],\n",
       "       [1.00000000e+00, 2.68920000e+04, 7.23179664e+08],\n",
       "       [1.00000000e+00, 5.82550000e+04, 3.39364502e+09],\n",
       "       [1.00000000e+00, 1.10117500e+06, 1.21258638e+12],\n",
       "       [1.00000000e+00, 1.68650000e+04, 2.84428225e+08],\n",
       "       [1.00000000e+00, 4.42680000e+04, 1.95965582e+09],\n",
       "       [1.00000000e+00, 1.66366000e+05, 2.76776460e+10],\n",
       "       [1.00000000e+00, 7.34740000e+04, 5.39842868e+09],\n",
       "       [1.00000000e+00, 7.82100000e+03, 6.11680410e+07],\n",
       "       [1.00000000e+00, 2.61240000e+04, 6.82463376e+08],\n",
       "       [1.00000000e+00, 5.22720000e+04, 2.73236198e+09],\n",
       "       [1.00000000e+00, 8.74790000e+04, 7.65257544e+09],\n",
       "       [1.00000000e+00, 1.47880000e+04, 2.18684944e+08],\n",
       "       [1.00000000e+00, 2.68130000e+04, 7.18936969e+08],\n",
       "       [1.00000000e+00, 4.69840000e+04, 2.20749626e+09],\n",
       "       [1.00000000e+00, 1.49990000e+04, 2.24970001e+08],\n",
       "       [1.00000000e+00, 5.64180000e+04, 3.18299072e+09],\n",
       "       [1.00000000e+00, 3.78480000e+04, 1.43247110e+09],\n",
       "       [1.00000000e+00, 3.61860000e+04, 1.30942660e+09],\n",
       "       [1.00000000e+00, 7.21380000e+04, 5.20389104e+09],\n",
       "       [1.00000000e+00, 1.52256000e+05, 2.31818895e+10],\n",
       "       [1.00000000e+00, 3.70190000e+04, 1.37040636e+09],\n",
       "       [1.00000000e+00, 1.18823000e+05, 1.41189053e+10],\n",
       "       [1.00000000e+00, 8.94286000e+05, 7.99747450e+11],\n",
       "       [1.00000000e+00, 9.58970000e+04, 9.19623461e+09],\n",
       "       [1.00000000e+00, 1.26190000e+04, 1.59239161e+08],\n",
       "       [1.00000000e+00, 5.21960000e+04, 2.72442242e+09],\n",
       "       [1.00000000e+00, 2.07230000e+04, 4.29442729e+08],\n",
       "       [1.00000000e+00, 2.34430000e+04, 5.49574249e+08],\n",
       "       [1.00000000e+00, 9.66950000e+04, 9.34992302e+09],\n",
       "       [1.00000000e+00, 4.43110000e+04, 1.96346472e+09],\n",
       "       [1.00000000e+00, 1.67310000e+04, 2.79926361e+08],\n",
       "       [1.00000000e+00, 5.09470000e+04, 2.59559681e+09],\n",
       "       [1.00000000e+00, 1.99322000e+05, 3.97292597e+10],\n",
       "       [1.00000000e+00, 2.69870000e+04, 7.28298169e+08],\n",
       "       [1.00000000e+00, 1.14720000e+04, 1.31606784e+08],\n",
       "       [1.00000000e+00, 5.88940000e+04, 3.46850324e+09],\n",
       "       [1.00000000e+00, 4.22200000e+04, 1.78252840e+09],\n",
       "       [1.00000000e+00, 3.03860000e+04, 9.23308996e+08],\n",
       "       [1.00000000e+00, 6.70570000e+04, 4.49664125e+09],\n",
       "       [1.00000000e+00, 8.78500000e+03, 7.71762250e+07],\n",
       "       [1.00000000e+00, 1.35599000e+05, 1.83870888e+10],\n",
       "       [1.00000000e+00, 4.12670000e+04, 1.70296529e+09],\n",
       "       [1.00000000e+00, 3.73100000e+04, 1.39203610e+09],\n",
       "       [1.00000000e+00, 6.82820000e+04, 4.66243152e+09],\n",
       "       [1.00000000e+00, 1.51676800e+06, 2.30058517e+12],\n",
       "       [1.00000000e+00, 1.75850000e+05, 3.09232225e+10],\n",
       "       [1.00000000e+00, 1.22140000e+04, 1.49181796e+08],\n",
       "       [1.00000000e+00, 5.23900000e+04, 2.74471210e+09],\n",
       "       [1.00000000e+00, 1.12810000e+04, 1.27260961e+08],\n",
       "       [1.00000000e+00, 5.32040000e+04, 2.83066562e+09],\n",
       "       [1.00000000e+00, 6.70250000e+04, 4.49235062e+09],\n",
       "       [1.00000000e+00, 3.67700000e+04, 1.35203290e+09],\n",
       "       [1.00000000e+00, 1.25550000e+04, 1.57628025e+08],\n",
       "       [1.00000000e+00, 1.89170000e+04, 3.57852889e+08],\n",
       "       [1.00000000e+00, 1.69384000e+05, 2.86909395e+10],\n",
       "       [1.00000000e+00, 2.40198000e+05, 5.76950792e+10],\n",
       "       [1.00000000e+00, 3.49470000e+04, 1.22129281e+09],\n",
       "       [1.00000000e+00, 1.68340000e+04, 2.83383556e+08],\n",
       "       [1.00000000e+00, 6.36020000e+04, 4.04521440e+09],\n",
       "       [1.00000000e+00, 5.73670000e+04, 3.29097269e+09],\n",
       "       [1.00000000e+00, 3.71820000e+04, 1.38250112e+09],\n",
       "       [1.00000000e+00, 1.15890000e+04, 1.34304921e+08],\n",
       "       [1.00000000e+00, 5.45140000e+04, 2.97177620e+09],\n",
       "       [1.00000000e+00, 6.91940000e+04, 4.78780964e+09],\n",
       "       [1.00000000e+00, 2.84500000e+03, 8.09402500e+06],\n",
       "       [1.00000000e+00, 1.21930000e+04, 1.48669249e+08],\n",
       "       [1.00000000e+00, 7.82850000e+04, 6.12854122e+09],\n",
       "       [1.00000000e+00, 3.44620000e+04, 1.18762944e+09],\n",
       "       [1.00000000e+00, 6.26710000e+04, 3.92765424e+09],\n",
       "       [1.00000000e+00, 7.21850000e+04, 5.21067422e+09],\n",
       "       [1.00000000e+00, 6.17310000e+04, 3.81071636e+09],\n",
       "       [1.00000000e+00, 1.22516000e+05, 1.50101703e+10],\n",
       "       [1.00000000e+00, 4.48350000e+04, 2.01017722e+09],\n",
       "       [1.00000000e+00, 5.19710000e+04, 2.70098484e+09],\n",
       "       [1.00000000e+00, 3.18110000e+04, 1.01193972e+09],\n",
       "       [1.00000000e+00, 6.18310000e+04, 3.82307256e+09],\n",
       "       [1.00000000e+00, 1.01179000e+05, 1.02371900e+10],\n",
       "       [1.00000000e+00, 2.61020000e+04, 6.81314404e+08],\n",
       "       [1.00000000e+00, 4.73560000e+04, 2.24259074e+09],\n",
       "       [1.00000000e+00, 2.40960000e+04, 5.80617216e+08],\n",
       "       [1.00000000e+00, 3.24150000e+04, 1.05073222e+09],\n",
       "       [1.00000000e+00, 9.13400000e+03, 8.34299560e+07],\n",
       "       [1.00000000e+00, 5.91910000e+04, 3.50357448e+09],\n",
       "       [1.00000000e+00, 3.40640000e+04, 1.16035610e+09],\n",
       "       [1.00000000e+00, 3.39070000e+04, 1.14968465e+09],\n",
       "       [1.00000000e+00, 1.16020000e+04, 1.34606404e+08],\n",
       "       [1.00000000e+00, 5.77600000e+03, 3.33621760e+07],\n",
       "       [1.00000000e+00, 6.09230000e+04, 3.71161193e+09],\n",
       "       [1.00000000e+00, 8.83520000e+04, 7.80607590e+09],\n",
       "       [1.00000000e+00, 1.55730000e+04, 2.42518329e+08],\n",
       "       [1.00000000e+00, 2.06550000e+04, 4.26629025e+08],\n",
       "       [1.00000000e+00, 1.19730000e+04, 1.43352729e+08],\n",
       "       [1.00000000e+00, 1.74580000e+04, 3.04781764e+08],\n",
       "       [1.00000000e+00, 2.01430000e+04, 4.05740449e+08],\n",
       "       [1.00000000e+00, 6.44700000e+03, 4.15638090e+07],\n",
       "       [1.00000000e+00, 1.43903000e+05, 2.07080734e+10],\n",
       "       [1.00000000e+00, 4.42750000e+04, 1.96027562e+09],\n",
       "       [1.00000000e+00, 3.36570000e+04, 1.13279365e+09],\n",
       "       [1.00000000e+00, 6.38100000e+04, 4.07171610e+09],\n",
       "       [1.00000000e+00, 2.20420000e+04, 4.85849764e+08],\n",
       "       [1.00000000e+00, 9.11400000e+03, 8.30649960e+07],\n",
       "       [1.00000000e+00, 3.82330000e+04, 1.46176229e+09],\n",
       "       [1.00000000e+00, 1.51770000e+04, 2.30341329e+08],\n",
       "       [1.00000000e+00, 5.62330000e+04, 3.16215029e+09],\n",
       "       [1.00000000e+00, 4.03090000e+04, 1.62481548e+09],\n",
       "       [1.00000000e+00, 2.91860000e+04, 8.51822596e+08],\n",
       "       [1.00000000e+00, 1.98230000e+04, 3.92951329e+08],\n",
       "       [1.00000000e+00, 5.71440000e+04, 3.26543674e+09],\n",
       "       [1.00000000e+00, 2.95570000e+04, 8.73616249e+08],\n",
       "       [1.00000000e+00, 2.16876000e+05, 4.70351994e+10],\n",
       "       [1.00000000e+00, 1.17755000e+05, 1.38662400e+10],\n",
       "       [1.00000000e+00, 9.75600000e+04, 9.51795360e+09],\n",
       "       [1.00000000e+00, 1.24594000e+05, 1.55236648e+10],\n",
       "       [1.00000000e+00, 2.09780000e+04, 4.40076484e+08],\n",
       "       [1.00000000e+00, 4.74500000e+03, 2.25150250e+07],\n",
       "       [1.00000000e+00, 7.68080000e+04, 5.89946886e+09],\n",
       "       [1.00000000e+00, 1.29061000e+05, 1.66567417e+10],\n",
       "       [1.00000000e+00, 1.09781000e+05, 1.20518680e+10],\n",
       "       [1.00000000e+00, 2.65040000e+04, 7.02462016e+08],\n",
       "       [1.00000000e+00, 5.13380000e+04, 2.63559024e+09],\n",
       "       [1.00000000e+00, 1.28310000e+04, 1.64634561e+08],\n",
       "       [1.00000000e+00, 7.98480000e+04, 6.37570310e+09],\n",
       "       [1.00000000e+00, 1.79080000e+04, 3.20696464e+08],\n",
       "       [1.00000000e+00, 6.06100000e+04, 3.67357210e+09],\n",
       "       [1.00000000e+00, 7.14400000e+03, 5.10367360e+07],\n",
       "       [1.00000000e+00, 7.57620000e+04, 5.73988064e+09],\n",
       "       [1.00000000e+00, 6.83270000e+04, 4.66857893e+09],\n",
       "       [1.00000000e+00, 4.86530000e+04, 2.36711441e+09],\n",
       "       [1.00000000e+00, 8.68210000e+04, 7.53788604e+09],\n",
       "       [1.00000000e+00, 2.24080000e+04, 5.02118464e+08],\n",
       "       [1.00000000e+00, 5.25510000e+04, 2.76160760e+09],\n",
       "       [1.00000000e+00, 6.96900000e+03, 4.85669610e+07],\n",
       "       [1.00000000e+00, 3.33140000e+04, 1.10982260e+09],\n",
       "       [1.00000000e+00, 4.61570000e+04, 2.13046865e+09],\n",
       "       [1.00000000e+00, 5.65680000e+04, 3.19993862e+09],\n",
       "       [1.00000000e+00, 6.80800000e+03, 4.63488640e+07],\n",
       "       [1.00000000e+00, 9.77400000e+04, 9.55310760e+09],\n",
       "       [1.00000000e+00, 4.38130000e+04, 1.91957897e+09],\n",
       "       [1.00000000e+00, 1.77201600e+06, 3.14004070e+12],\n",
       "       [1.00000000e+00, 1.20700000e+04, 1.45684900e+08],\n",
       "       [1.00000000e+00, 3.92990000e+04, 1.54441140e+09],\n",
       "       [1.00000000e+00, 9.05050000e+04, 8.19115502e+09],\n",
       "       [1.00000000e+00, 9.73710000e+04, 9.48111164e+09],\n",
       "       [1.00000000e+00, 3.66940000e+04, 1.34644964e+09],\n",
       "       [1.00000000e+00, 5.73240000e+04, 3.28604098e+09],\n",
       "       [1.00000000e+00, 2.98000000e+04, 8.88040000e+08],\n",
       "       [1.00000000e+00, 6.39990000e+04, 4.09587200e+09],\n",
       "       [1.00000000e+00, 9.17800000e+03, 8.42356840e+07],\n",
       "       [1.00000000e+00, 3.68140000e+04, 1.35527060e+09],\n",
       "       [1.00000000e+00, 7.45100000e+03, 5.55174010e+07],\n",
       "       [1.00000000e+00, 4.41370000e+04, 1.94807477e+09],\n",
       "       [1.00000000e+00, 2.51700000e+04, 6.33528900e+08],\n",
       "       [1.00000000e+00, 3.63730000e+04, 1.32299513e+09],\n",
       "       [1.00000000e+00, 2.01480000e+04, 4.05941904e+08],\n",
       "       [1.00000000e+00, 9.85870000e+04, 9.71939657e+09],\n",
       "       [1.00000000e+00, 1.92640000e+04, 3.71101696e+08],\n",
       "       [1.00000000e+00, 2.38040000e+04, 5.66630416e+08],\n",
       "       [1.00000000e+00, 3.53750000e+04, 1.25139062e+09],\n",
       "       [1.00000000e+00, 1.19670000e+04, 1.43209089e+08],\n",
       "       [1.00000000e+00, 7.28280000e+04, 5.30391758e+09],\n",
       "       [1.00000000e+00, 4.35420000e+04, 1.89590576e+09],\n",
       "       [1.00000000e+00, 7.17130000e+04, 5.14275437e+09],\n",
       "       [1.00000000e+00, 6.75580000e+04, 4.56408336e+09],\n",
       "       [1.00000000e+00, 1.61490000e+04, 2.60790201e+08],\n",
       "       [1.00000000e+00, 1.94436000e+05, 3.78053581e+10],\n",
       "       [1.00000000e+00, 1.51320000e+04, 2.28977424e+08],\n",
       "       [1.00000000e+00, 4.18750000e+04, 1.75351562e+09],\n",
       "       [1.00000000e+00, 2.03180000e+04, 4.12821124e+08],\n",
       "       [1.00000000e+00, 2.27120000e+04, 5.15834944e+08],\n",
       "       [1.00000000e+00, 9.39200000e+03, 8.82096640e+07],\n",
       "       [1.00000000e+00, 2.24570000e+04, 5.04316849e+08],\n",
       "       [1.00000000e+00, 3.81404000e+05, 1.45469011e+11],\n",
       "       [1.00000000e+00, 1.58003000e+05, 2.49649480e+10],\n",
       "       [1.00000000e+00, 7.35200000e+04, 5.40519040e+09],\n",
       "       [1.00000000e+00, 1.99500000e+04, 3.98002500e+08],\n",
       "       [1.00000000e+00, 2.83160000e+04, 8.01795856e+08],\n",
       "       [1.00000000e+00, 2.25458000e+05, 5.08313098e+10],\n",
       "       [1.00000000e+00, 4.89900000e+04, 2.40002010e+09],\n",
       "       [1.00000000e+00, 1.36810000e+05, 1.87169761e+10],\n",
       "       [1.00000000e+00, 3.16660000e+04, 1.00273556e+09],\n",
       "       [1.00000000e+00, 5.21080000e+04, 2.71524366e+09],\n",
       "       [1.00000000e+00, 1.54520000e+04, 2.38764304e+08],\n",
       "       [1.00000000e+00, 8.48300000e+04, 7.19612890e+09],\n",
       "       [1.00000000e+00, 4.55620000e+04, 2.07589584e+09],\n",
       "       [1.00000000e+00, 3.13610000e+04, 9.83512321e+08],\n",
       "       [1.00000000e+00, 3.87800000e+04, 1.50388840e+09],\n",
       "       [1.00000000e+00, 2.81880000e+04, 7.94563344e+08],\n",
       "       [1.00000000e+00, 2.71290000e+04, 7.35982641e+08],\n",
       "       [1.00000000e+00, 1.33360000e+04, 1.77848896e+08],\n",
       "       [1.00000000e+00, 2.69070000e+04, 7.23986649e+08],\n",
       "       [1.00000000e+00, 4.57790000e+04, 2.09571684e+09],\n",
       "       [1.00000000e+00, 1.91370000e+04, 3.66224769e+08],\n",
       "       [1.00000000e+00, 3.38083000e+05, 1.14300115e+11],\n",
       "       [1.00000000e+00, 5.86190000e+04, 3.43618716e+09],\n",
       "       [1.00000000e+00, 1.56080000e+04, 2.43609664e+08],\n",
       "       [1.00000000e+00, 5.88800000e+04, 3.46685440e+09],\n",
       "       [1.00000000e+00, 6.75427000e+05, 4.56201632e+11],\n",
       "       [1.00000000e+00, 6.33420000e+04, 4.01220896e+09],\n",
       "       [1.00000000e+00, 7.19260000e+04, 5.17334948e+09],\n",
       "       [1.00000000e+00, 2.80280000e+04, 7.85568784e+08],\n",
       "       [1.00000000e+00, 8.45641000e+05, 7.15108701e+11],\n",
       "       [1.00000000e+00, 2.10230000e+04, 4.41966529e+08],\n",
       "       [1.00000000e+00, 3.24873000e+06, 1.05542466e+13],\n",
       "       [1.00000000e+00, 6.80640000e+04, 4.63270810e+09],\n",
       "       [1.00000000e+00, 1.60330000e+04, 2.57057089e+08],\n",
       "       [1.00000000e+00, 7.74350000e+04, 5.99617922e+09],\n",
       "       [1.00000000e+00, 8.04380000e+04, 6.47027184e+09],\n",
       "       [1.00000000e+00, 1.64920000e+04, 2.71986064e+08],\n",
       "       [1.00000000e+00, 3.53500000e+04, 1.24962250e+09],\n",
       "       [1.00000000e+00, 2.28780000e+04, 5.23402884e+08],\n",
       "       [1.00000000e+00, 1.16285000e+05, 1.35222012e+10],\n",
       "       [1.00000000e+00, 1.42745000e+05, 2.03761350e+10],\n",
       "       [1.00000000e+00, 1.50606000e+05, 2.26821672e+10],\n",
       "       [1.00000000e+00, 1.12460000e+04, 1.26472516e+08],\n",
       "       [1.00000000e+00, 1.62060000e+04, 2.62634436e+08],\n",
       "       [1.00000000e+00, 8.26000000e+04, 6.82276000e+09],\n",
       "       [1.00000000e+00, 3.00770000e+04, 9.04625929e+08],\n",
       "       [1.00000000e+00, 1.47627000e+05, 2.17937311e+10],\n",
       "       [1.00000000e+00, 1.74240000e+04, 3.03595776e+08],\n",
       "       [1.00000000e+00, 1.04330000e+04, 1.08847489e+08],\n",
       "       [1.00000000e+00, 1.14480000e+05, 1.31056704e+10],\n",
       "       [1.00000000e+00, 2.82390000e+04, 7.97441121e+08],\n",
       "       [1.00000000e+00, 7.61500000e+04, 5.79882250e+09],\n",
       "       [1.00000000e+00, 4.72061000e+05, 2.22841588e+11],\n",
       "       [1.00000000e+00, 6.14350000e+04, 3.77425922e+09],\n",
       "       [1.00000000e+00, 2.61940000e+04, 6.86125636e+08],\n",
       "       [1.00000000e+00, 2.02130000e+04, 4.08565369e+08],\n",
       "       [1.00000000e+00, 9.13330000e+04, 8.34171689e+09],\n",
       "       [1.00000000e+00, 3.41100000e+04, 1.16349210e+09],\n",
       "       [1.00000000e+00, 8.41400000e+03, 7.07953960e+07],\n",
       "       [1.00000000e+00, 3.86940000e+04, 1.49722564e+09],\n",
       "       [1.00000000e+00, 4.24220000e+04, 1.79962608e+09],\n",
       "       [1.00000000e+00, 2.61440000e+04, 6.83508736e+08],\n",
       "       [1.00000000e+00, 1.33360000e+04, 1.77848896e+08],\n",
       "       [1.00000000e+00, 8.17370000e+04, 6.68093717e+09],\n",
       "       [1.00000000e+00, 7.36610000e+04, 5.42594292e+09],\n",
       "       [1.00000000e+00, 2.08410000e+04, 4.34347281e+08],\n",
       "       [1.00000000e+00, 1.17471000e+05, 1.37994358e+10],\n",
       "       [1.00000000e+00, 6.92470000e+04, 4.79514701e+09],\n",
       "       [1.00000000e+00, 3.12240000e+04, 9.74938176e+08],\n",
       "       [1.00000000e+00, 3.93670000e+04, 1.54976069e+09],\n",
       "       [1.00000000e+00, 9.44170000e+04, 8.91456989e+09],\n",
       "       [1.00000000e+00, 1.33360000e+04, 1.77848896e+08],\n",
       "       [1.00000000e+00, 5.17590000e+04, 2.67899408e+09],\n",
       "       [1.00000000e+00, 2.63450000e+04, 6.94059025e+08],\n",
       "       [1.00000000e+00, 1.51770000e+04, 2.30341329e+08],\n",
       "       [1.00000000e+00, 7.93780000e+04, 6.30086688e+09],\n",
       "       [1.00000000e+00, 2.02830000e+04, 4.11400089e+08],\n",
       "       [1.00000000e+00, 4.57160000e+04, 2.08995266e+09],\n",
       "       [1.00000000e+00, 8.65000000e+03, 7.48225000e+07],\n",
       "       [1.00000000e+00, 2.31790000e+04, 5.37266041e+08],\n",
       "       [1.00000000e+00, 5.73240000e+04, 3.28604098e+09],\n",
       "       [1.00000000e+00, 6.62870000e+04, 4.39396637e+09],\n",
       "       [1.00000000e+00, 3.00690000e+04, 9.04144761e+08],\n",
       "       [1.00000000e+00, 9.25290000e+04, 8.56161584e+09],\n",
       "       [1.00000000e+00, 8.99100000e+03, 8.08380810e+07],\n",
       "       [1.00000000e+00, 2.62770000e+04, 6.90480729e+08],\n",
       "       [1.00000000e+00, 5.36840000e+04, 2.88197186e+09],\n",
       "       [1.00000000e+00, 3.60385000e+05, 1.29877348e+11],\n",
       "       [1.00000000e+00, 6.84200000e+04, 4.68129640e+09],\n",
       "       [1.00000000e+00, 1.47720000e+04, 2.18211984e+08],\n",
       "       [1.00000000e+00, 1.46620000e+04, 2.14974244e+08],\n",
       "       [1.00000000e+00, 4.41570000e+04, 1.94984065e+09],\n",
       "       [1.00000000e+00, 3.34690000e+04, 1.12017396e+09],\n",
       "       [1.00000000e+00, 3.19980000e+04, 1.02387200e+09],\n",
       "       [1.00000000e+00, 7.04290000e+04, 4.96024404e+09],\n",
       "       [1.00000000e+00, 9.12000000e+03, 8.31744000e+07],\n",
       "       [1.00000000e+00, 6.93990000e+04, 4.81622120e+09],\n",
       "       [1.00000000e+00, 1.03380000e+04, 1.06874244e+08],\n",
       "       [1.00000000e+00, 1.33360000e+04, 1.77848896e+08],\n",
       "       [1.00000000e+00, 1.18472000e+05, 1.40356148e+10],\n",
       "       [1.00000000e+00, 1.86820000e+04, 3.49017124e+08],\n",
       "       [1.00000000e+00, 9.65960000e+04, 9.33078722e+09],\n",
       "       [1.00000000e+00, 8.70800000e+03, 7.58292640e+07],\n",
       "       [1.00000000e+00, 1.01868000e+05, 1.03770894e+10]])"
      ]
     },
     "execution_count": 164,
     "metadata": {},
     "output_type": "execute_result"
    }
   ],
   "source": [
    "from sklearn.preprocessing import PolynomialFeatures\n",
    "\n",
    "polynom = PolynomialFeatures(degree = 2)\n",
    "X_polynom = polynom.fit_transform(X_train)\n",
    "\n",
    "X_polynom"
   ]
  },
  {
   "cell_type": "code",
   "execution_count": 165,
   "id": "54088070",
   "metadata": {},
   "outputs": [
    {
     "data": {
      "text/plain": [
       "LinearRegression()"
      ]
     },
     "execution_count": 165,
     "metadata": {},
     "output_type": "execute_result"
    }
   ],
   "source": [
    "Polym = LinearRegression()\n",
    "Polym.fit(X_polynom, y_train)"
   ]
  },
  {
   "cell_type": "code",
   "execution_count": 166,
   "id": "c122ed7f",
   "metadata": {},
   "outputs": [
    {
     "data": {
      "image/png": "[encoded data removed]",
      "text/plain": [
       "<Figure size 432x288 with 1 Axes>"
      ]
     },
     "metadata": {
      "needs_background": "light"
     },
     "output_type": "display_data"
    }
   ],
   "source": [
    "plt.scatter(X_train, y_train, color = 'blue')\n",
    "\n",
    "plt.plot(X_train, Polym.predict(polynom.fit_transform(X_train)), color = 'red')\n",
    "plt.title('Polinomial Regression')\n",
    "plt.xlabel('dohod')\n",
    "plt.ylabel('vytraty')\n",
    "\n",
    "plt.show()"
   ]
  },
  {
   "cell_type": "markdown",
   "id": "4d5785c5",
   "metadata": {},
   "source": [
    "# Оцінемо моделі"
   ]
  },
  {
   "cell_type": "code",
   "execution_count": 167,
   "id": "2228f8f1",
   "metadata": {},
   "outputs": [
    {
     "name": "stdout",
     "output_type": "stream",
     "text": [
      "R-Square Error associated with Linear Regression:  0.9980232360591336\n"
     ]
    }
   ],
   "source": [
    "y_predict_slr = lm.predict(X_test)\n",
    "\n",
    "from sklearn import metrics\n",
    "r_square = metrics.r2_score(y_test, y_predict_slr)\n",
    "print('R-Square Error associated with Linear Regression: ', r_square)\n"
   ]
  },
  {
   "cell_type": "code",
   "execution_count": 168,
   "id": "682d2e4a",
   "metadata": {},
   "outputs": [
    {
     "name": "stdout",
     "output_type": "stream",
     "text": [
      "R-Square Error associated with Polynomial Regression is:  0.9988324263192006\n"
     ]
    }
   ],
   "source": [
    "y_predict_pr = Polym.predict(polynom.fit_transform(X_test))\n",
    "\n",
    "from sklearn import metrics\n",
    "r_square = metrics.r2_score(y_test, y_predict_pr)\n",
    "print('R-Square Error associated with Polynomial Regression is: ', r_square)"
   ]
  },
  {
   "cell_type": "code",
   "execution_count": 170,
   "id": "daf3ef28",
   "metadata": {},
   "outputs": [
    {
     "data": {
      "text/plain": [
       "array([654020.38892754])"
      ]
     },
     "execution_count": 170,
     "metadata": {},
     "output_type": "execute_result"
    }
   ],
   "source": [
    "lm.predict([[675427]])"
   ]
  },
  {
   "cell_type": "code",
   "execution_count": 172,
   "id": "49cce598",
   "metadata": {},
   "outputs": [
    {
     "data": {
      "text/plain": [
       "array([631975.99103129])"
      ]
     },
     "execution_count": 172,
     "metadata": {},
     "output_type": "execute_result"
    }
   ],
   "source": [
    "Polym.predict(polynom.fit_transform([[675427]]))"
   ]
  },
  {
   "cell_type": "markdown",
   "id": "4a30f483",
   "metadata": {},
   "source": [
    "# Побудуєм лінійну регресійну модель на очищених даних\n",
    "# прибрали з даних викиди"
   ]
  },
  {
   "cell_type": "code",
   "execution_count": 173,
   "id": "95f0a4ee",
   "metadata": {},
   "outputs": [
    {
     "data": {
      "text/html": [
       "<div>\n",
       "<style scoped>\n",
       "    .dataframe tbody tr th:only-of-type {\n",
       "        vertical-align: middle;\n",
       "    }\n",
       "\n",
       "    .dataframe tbody tr th {\n",
       "        vertical-align: top;\n",
       "    }\n",
       "\n",
       "    .dataframe thead th {\n",
       "        text-align: right;\n",
       "    }\n",
       "</style>\n",
       "<table border=\"1\" class=\"dataframe\">\n",
       "  <thead>\n",
       "    <tr style=\"text-align: right;\">\n",
       "      <th></th>\n",
       "      <th>attributes</th>\n",
       "      <th>period</th>\n",
       "      <th>dohod</th>\n",
       "      <th>vytraty</th>\n",
       "    </tr>\n",
       "  </thead>\n",
       "  <tbody>\n",
       "    <tr>\n",
       "      <th>0</th>\n",
       "      <td>Автономна Республіка Крим</td>\n",
       "      <td>2005</td>\n",
       "      <td>13883</td>\n",
       "      <td>13521</td>\n",
       "    </tr>\n",
       "    <tr>\n",
       "      <th>1</th>\n",
       "      <td>Вінницька</td>\n",
       "      <td>2005</td>\n",
       "      <td>12193</td>\n",
       "      <td>9306</td>\n",
       "    </tr>\n",
       "    <tr>\n",
       "      <th>2</th>\n",
       "      <td>Волинська</td>\n",
       "      <td>2005</td>\n",
       "      <td>6808</td>\n",
       "      <td>6070</td>\n",
       "    </tr>\n",
       "    <tr>\n",
       "      <th>3</th>\n",
       "      <td>Дніпропетровська</td>\n",
       "      <td>2005</td>\n",
       "      <td>31344</td>\n",
       "      <td>26711</td>\n",
       "    </tr>\n",
       "    <tr>\n",
       "      <th>4</th>\n",
       "      <td>Донецька</td>\n",
       "      <td>2005</td>\n",
       "      <td>40753</td>\n",
       "      <td>28840</td>\n",
       "    </tr>\n",
       "  </tbody>\n",
       "</table>\n",
       "</div>"
      ],
      "text/plain": [
       "                  attributes  period  dohod  vytraty\n",
       "0  Автономна Республіка Крим    2005  13883    13521\n",
       "1                  Вінницька    2005  12193     9306\n",
       "2                  Волинська    2005   6808     6070\n",
       "3           Дніпропетровська    2005  31344    26711\n",
       "4                   Донецька    2005  40753    28840"
      ]
     },
     "execution_count": 173,
     "metadata": {},
     "output_type": "execute_result"
    }
   ],
   "source": [
    "dt1 = pd.read_csv('DV2.csv', sep=\",\", header = 0, index_col = False)\n",
    "dt1.head()"
   ]
  },
  {
   "cell_type": "code",
   "execution_count": 174,
   "id": "dccfec4d",
   "metadata": {},
   "outputs": [
    {
     "data": {
      "text/html": [
       "<div>\n",
       "<style scoped>\n",
       "    .dataframe tbody tr th:only-of-type {\n",
       "        vertical-align: middle;\n",
       "    }\n",
       "\n",
       "    .dataframe tbody tr th {\n",
       "        vertical-align: top;\n",
       "    }\n",
       "\n",
       "    .dataframe thead th {\n",
       "        text-align: right;\n",
       "    }\n",
       "</style>\n",
       "<table border=\"1\" class=\"dataframe\">\n",
       "  <thead>\n",
       "    <tr style=\"text-align: right;\">\n",
       "      <th></th>\n",
       "      <th>period</th>\n",
       "      <th>dohod</th>\n",
       "      <th>vytraty</th>\n",
       "    </tr>\n",
       "  </thead>\n",
       "  <tbody>\n",
       "    <tr>\n",
       "      <th>count</th>\n",
       "      <td>405.000000</td>\n",
       "      <td>405.000000</td>\n",
       "      <td>405.000000</td>\n",
       "    </tr>\n",
       "    <tr>\n",
       "      <th>mean</th>\n",
       "      <td>2012.000000</td>\n",
       "      <td>59259.809877</td>\n",
       "      <td>56986.192593</td>\n",
       "    </tr>\n",
       "    <tr>\n",
       "      <th>std</th>\n",
       "      <td>4.325838</td>\n",
       "      <td>69210.646818</td>\n",
       "      <td>67738.185367</td>\n",
       "    </tr>\n",
       "    <tr>\n",
       "      <th>min</th>\n",
       "      <td>2005.000000</td>\n",
       "      <td>2845.000000</td>\n",
       "      <td>3175.000000</td>\n",
       "    </tr>\n",
       "    <tr>\n",
       "      <th>25%</th>\n",
       "      <td>2008.000000</td>\n",
       "      <td>20723.000000</td>\n",
       "      <td>18197.000000</td>\n",
       "    </tr>\n",
       "    <tr>\n",
       "      <th>50%</th>\n",
       "      <td>2012.000000</td>\n",
       "      <td>38780.000000</td>\n",
       "      <td>36432.000000</td>\n",
       "    </tr>\n",
       "    <tr>\n",
       "      <th>75%</th>\n",
       "      <td>2016.000000</td>\n",
       "      <td>70126.000000</td>\n",
       "      <td>69627.000000</td>\n",
       "    </tr>\n",
       "    <tr>\n",
       "      <th>max</th>\n",
       "      <td>2019.000000</td>\n",
       "      <td>675427.000000</td>\n",
       "      <td>638614.000000</td>\n",
       "    </tr>\n",
       "  </tbody>\n",
       "</table>\n",
       "</div>"
      ],
      "text/plain": [
       "            period          dohod        vytraty\n",
       "count   405.000000     405.000000     405.000000\n",
       "mean   2012.000000   59259.809877   56986.192593\n",
       "std       4.325838   69210.646818   67738.185367\n",
       "min    2005.000000    2845.000000    3175.000000\n",
       "25%    2008.000000   20723.000000   18197.000000\n",
       "50%    2012.000000   38780.000000   36432.000000\n",
       "75%    2016.000000   70126.000000   69627.000000\n",
       "max    2019.000000  675427.000000  638614.000000"
      ]
     },
     "execution_count": 174,
     "metadata": {},
     "output_type": "execute_result"
    }
   ],
   "source": [
    "dt1.describe()"
   ]
  },
  {
   "cell_type": "code",
   "execution_count": 175,
   "id": "cd364502",
   "metadata": {},
   "outputs": [],
   "source": [
    "X = dt1.iloc[:, 2:3].values\n",
    "y = dt1.iloc[:, -1].values"
   ]
  },
  {
   "cell_type": "code",
   "execution_count": 176,
   "id": "7b2d382c",
   "metadata": {},
   "outputs": [],
   "source": [
    "from sklearn.model_selection import train_test_split\n",
    "X_train, X_test, y_train, y_test = train_test_split(X, y, test_size=0.3, random_state=0)"
   ]
  },
  {
   "cell_type": "code",
   "execution_count": 177,
   "id": "d887fd72",
   "metadata": {},
   "outputs": [
    {
     "data": {
      "text/plain": [
       "LinearRegression()"
      ]
     },
     "execution_count": 177,
     "metadata": {},
     "output_type": "execute_result"
    }
   ],
   "source": [
    "from sklearn.linear_model import LinearRegression\n",
    "lm2 = LinearRegression()\n",
    "lm2.fit(X_train, y_train)"
   ]
  },
  {
   "cell_type": "code",
   "execution_count": 178,
   "id": "9c3d2907",
   "metadata": {},
   "outputs": [
    {
     "data": {
      "image/png": "[encoded data removed]",
      "text/plain": [
       "<Figure size 432x288 with 1 Axes>"
      ]
     },
     "metadata": {
      "needs_background": "light"
     },
     "output_type": "display_data"
    }
   ],
   "source": [
    "plt.scatter(X_train, y_train, color = 'blue')\n",
    "\n",
    "plt.plot(X_train, lm2.predict(X_train), color = 'red')\n",
    "plt.title('Linear Regression')\n",
    "plt.xlabel('dohod')\n",
    "plt.ylabel('vytraty')\n",
    "\n",
    "plt.show()"
   ]
  },
  {
   "cell_type": "code",
   "execution_count": 179,
   "id": "17468e29",
   "metadata": {},
   "outputs": [
    {
     "name": "stdout",
     "output_type": "stream",
     "text": [
      "R-Square Error associated with Linear Regression:  0.9733440882421326\n"
     ]
    }
   ],
   "source": [
    "y_predict_slr = lm2.predict(X_test)\n",
    "\n",
    "from sklearn import metrics\n",
    "r_square = metrics.r2_score(y_test, y_predict_slr)\n",
    "print('R-Square Error associated with Linear Regression: ', r_square)"
   ]
  },
  {
   "cell_type": "code",
   "execution_count": 180,
   "id": "cbb0082f",
   "metadata": {},
   "outputs": [
    {
     "data": {
      "text/plain": [
       "array([646890.40558321])"
      ]
     },
     "execution_count": 180,
     "metadata": {},
     "output_type": "execute_result"
    }
   ],
   "source": [
    "lm2.predict([[675427]])"
   ]
  },
  {
   "cell_type": "code",
   "execution_count": 181,
   "id": "eabc4103",
   "metadata": {},
   "outputs": [],
   "source": [
    "dt1 = pd.read_csv('isu2.csv', sep=',', header = 0, index_col = False)"
   ]
  },
  {
   "cell_type": "code",
   "execution_count": 182,
   "id": "870863df",
   "metadata": {},
   "outputs": [
    {
     "data": {
      "text/html": [
       "<div>\n",
       "<style scoped>\n",
       "    .dataframe tbody tr th:only-of-type {\n",
       "        vertical-align: middle;\n",
       "    }\n",
       "\n",
       "    .dataframe tbody tr th {\n",
       "        vertical-align: top;\n",
       "    }\n",
       "\n",
       "    .dataframe thead th {\n",
       "        text-align: right;\n",
       "    }\n",
       "</style>\n",
       "<table border=\"1\" class=\"dataframe\">\n",
       "  <thead>\n",
       "    <tr style=\"text-align: right;\">\n",
       "      <th></th>\n",
       "      <th>period</th>\n",
       "      <th>income</th>\n",
       "      <th>Unemployed</th>\n",
       "      <th>spending</th>\n",
       "      <th>Unemployed_v</th>\n",
       "    </tr>\n",
       "  </thead>\n",
       "  <tbody>\n",
       "    <tr>\n",
       "      <th>0</th>\n",
       "      <td>2005</td>\n",
       "      <td>381404</td>\n",
       "      <td>1595</td>\n",
       "      <td>335753</td>\n",
       "      <td>7.8</td>\n",
       "    </tr>\n",
       "    <tr>\n",
       "      <th>1</th>\n",
       "      <td>2006</td>\n",
       "      <td>472061</td>\n",
       "      <td>1514</td>\n",
       "      <td>427858</td>\n",
       "      <td>7.4</td>\n",
       "    </tr>\n",
       "    <tr>\n",
       "      <th>2</th>\n",
       "      <td>2007</td>\n",
       "      <td>623289</td>\n",
       "      <td>1417</td>\n",
       "      <td>575510</td>\n",
       "      <td>6.9</td>\n",
       "    </tr>\n",
       "    <tr>\n",
       "      <th>3</th>\n",
       "      <td>2008</td>\n",
       "      <td>845641</td>\n",
       "      <td>1424</td>\n",
       "      <td>793630</td>\n",
       "      <td>6.9</td>\n",
       "    </tr>\n",
       "    <tr>\n",
       "      <th>4</th>\n",
       "      <td>2009</td>\n",
       "      <td>894286</td>\n",
       "      <td>1957</td>\n",
       "      <td>813909</td>\n",
       "      <td>9.6</td>\n",
       "    </tr>\n",
       "  </tbody>\n",
       "</table>\n",
       "</div>"
      ],
      "text/plain": [
       "   period  income  Unemployed  spending  Unemployed_v\n",
       "0    2005  381404        1595    335753           7.8\n",
       "1    2006  472061        1514    427858           7.4\n",
       "2    2007  623289        1417    575510           6.9\n",
       "3    2008  845641        1424    793630           6.9\n",
       "4    2009  894286        1957    813909           9.6"
      ]
     },
     "execution_count": 182,
     "metadata": {},
     "output_type": "execute_result"
    }
   ],
   "source": [
    "dt1.head()"
   ]
  },
  {
   "cell_type": "markdown",
   "id": "9d2967f7",
   "metadata": {},
   "source": [
    "# Лінійна регресія"
   ]
  },
  {
   "cell_type": "code",
   "execution_count": 183,
   "id": "b4dd5272",
   "metadata": {},
   "outputs": [],
   "source": [
    "#  обераємо дані для моделі з якими будем працювати\n",
    "X = dt1.iloc[:, 3:4].values\n",
    "y = dt1.iloc[:, -1].values"
   ]
  },
  {
   "cell_type": "code",
   "execution_count": 184,
   "id": "644d329e",
   "metadata": {},
   "outputs": [],
   "source": [
    "#Розділяємо на навчальну та тестову вибірки\n",
    "from sklearn.model_selection import train_test_split\n",
    "X_train, X_test, y_train, y_test = train_test_split(X, y, test_size=0.3, random_state=0)"
   ]
  },
  {
   "cell_type": "code",
   "execution_count": 185,
   "id": "49903c60",
   "metadata": {},
   "outputs": [
    {
     "data": {
      "text/plain": [
       "LinearRegression()"
      ]
     },
     "execution_count": 185,
     "metadata": {},
     "output_type": "execute_result"
    }
   ],
   "source": [
    "# Навчаємо нашу модель\n",
    "from sklearn.linear_model import LinearRegression\n",
    "lm2 = LinearRegression()\n",
    "lm2.fit(X_train, y_train)"
   ]
  },
  {
   "cell_type": "code",
   "execution_count": 186,
   "id": "477644c6",
   "metadata": {},
   "outputs": [
    {
     "data": {
      "image/png": "[encoded data removed]",
      "text/plain": [
       "<Figure size 432x288 with 1 Axes>"
      ]
     },
     "metadata": {
      "needs_background": "light"
     },
     "output_type": "display_data"
    }
   ],
   "source": [
    "plt.scatter(X_train, y_train, color = 'blue')\n",
    "\n",
    "plt.plot(X_train, lm2.predict(X_train), color = 'red')\n",
    "plt.title('Linear Regression')\n",
    "plt.xlabel('spending')\n",
    "plt.ylabel('Unemployed_v')\n",
    "\n",
    "plt.show()"
   ]
  },
  {
   "cell_type": "code",
   "execution_count": 187,
   "id": "49fca095",
   "metadata": {},
   "outputs": [
    {
     "name": "stdout",
     "output_type": "stream",
     "text": [
      "R-Square Error associated with Linear Regression:  -0.6456676062075744\n"
     ]
    }
   ],
   "source": [
    "y_predict_slr = lm2.predict(X_test)\n",
    "\n",
    "from sklearn import metrics\n",
    "r_square = metrics.r2_score(y_test, y_predict_slr)\n",
    "print('R-Square Error associated with Linear Regression: ', r_square)"
   ]
  },
  {
   "cell_type": "code",
   "execution_count": 188,
   "id": "3de5f797",
   "metadata": {},
   "outputs": [],
   "source": [
    "import statsmodels.api as sm"
   ]
  },
  {
   "cell_type": "code",
   "execution_count": 189,
   "id": "37dbe61c",
   "metadata": {},
   "outputs": [
    {
     "name": "stderr",
     "output_type": "stream",
     "text": [
      "C:\\anaconda3\\lib\\site-packages\\scipy\\stats\\stats.py:1541: UserWarning: kurtosistest only valid for n>=20 ... continuing anyway, n=15\n",
      "  warnings.warn(\"kurtosistest only valid for n>=20 ... continuing \"\n"
     ]
    },
    {
     "data": {
      "text/html": [
       "<table class=\"simpletable\">\n",
       "<caption>OLS Regression Results</caption>\n",
       "<tr>\n",
       "  <th>Dep. Variable:</th>        <td>spending</td>     <th>  R-squared:         </th> <td>   0.258</td>\n",
       "</tr>\n",
       "<tr>\n",
       "  <th>Model:</th>                   <td>OLS</td>       <th>  Adj. R-squared:    </th> <td>   0.201</td>\n",
       "</tr>\n",
       "<tr>\n",
       "  <th>Method:</th>             <td>Least Squares</td>  <th>  F-statistic:       </th> <td>   4.513</td>\n",
       "</tr>\n",
       "<tr>\n",
       "  <th>Date:</th>             <td>Mon, 27 Dec 2021</td> <th>  Prob (F-statistic):</th>  <td>0.0534</td> \n",
       "</tr>\n",
       "<tr>\n",
       "  <th>Time:</th>                 <td>18:30:28</td>     <th>  Log-Likelihood:    </th> <td> -226.00</td>\n",
       "</tr>\n",
       "<tr>\n",
       "  <th>No. Observations:</th>      <td>    15</td>      <th>  AIC:               </th> <td>   456.0</td>\n",
       "</tr>\n",
       "<tr>\n",
       "  <th>Df Residuals:</th>          <td>    13</td>      <th>  BIC:               </th> <td>   457.4</td>\n",
       "</tr>\n",
       "<tr>\n",
       "  <th>Df Model:</th>              <td>     1</td>      <th>                     </th>     <td> </td>   \n",
       "</tr>\n",
       "<tr>\n",
       "  <th>Covariance Type:</th>      <td>nonrobust</td>    <th>                     </th>     <td> </td>   \n",
       "</tr>\n",
       "</table>\n",
       "<table class=\"simpletable\">\n",
       "<tr>\n",
       "        <td></td>          <th>coef</th>     <th>std err</th>      <th>t</th>      <th>P>|t|</th>  <th>[0.025</th>    <th>0.975]</th>  \n",
       "</tr>\n",
       "<tr>\n",
       "  <th>Intercept</th>    <td>-2.738e+06</td> <td> 2.01e+06</td> <td>   -1.360</td> <td> 0.197</td> <td>-7.09e+06</td> <td> 1.61e+06</td>\n",
       "</tr>\n",
       "<tr>\n",
       "  <th>Unemployed_v</th> <td> 4.967e+05</td> <td> 2.34e+05</td> <td>    2.124</td> <td> 0.053</td> <td>-8418.483</td> <td>    1e+06</td>\n",
       "</tr>\n",
       "</table>\n",
       "<table class=\"simpletable\">\n",
       "<tr>\n",
       "  <th>Omnibus:</th>       <td> 7.893</td> <th>  Durbin-Watson:     </th> <td>   0.511</td>\n",
       "</tr>\n",
       "<tr>\n",
       "  <th>Prob(Omnibus):</th> <td> 0.019</td> <th>  Jarque-Bera (JB):  </th> <td>   4.486</td>\n",
       "</tr>\n",
       "<tr>\n",
       "  <th>Skew:</th>          <td> 1.214</td> <th>  Prob(JB):          </th> <td>   0.106</td>\n",
       "</tr>\n",
       "<tr>\n",
       "  <th>Kurtosis:</th>      <td> 4.131</td> <th>  Cond. No.          </th> <td>    74.9</td>\n",
       "</tr>\n",
       "</table><br/><br/>Notes:<br/>[1] Standard Errors assume that the covariance matrix of the errors is correctly specified."
      ],
      "text/plain": [
       "<class 'statsmodels.iolib.summary.Summary'>\n",
       "\"\"\"\n",
       "                            OLS Regression Results                            \n",
       "==============================================================================\n",
       "Dep. Variable:               spending   R-squared:                       0.258\n",
       "Model:                            OLS   Adj. R-squared:                  0.201\n",
       "Method:                 Least Squares   F-statistic:                     4.513\n",
       "Date:                Mon, 27 Dec 2021   Prob (F-statistic):             0.0534\n",
       "Time:                        18:30:28   Log-Likelihood:                -226.00\n",
       "No. Observations:                  15   AIC:                             456.0\n",
       "Df Residuals:                      13   BIC:                             457.4\n",
       "Df Model:                           1                                         \n",
       "Covariance Type:            nonrobust                                         \n",
       "================================================================================\n",
       "                   coef    std err          t      P>|t|      [0.025      0.975]\n",
       "--------------------------------------------------------------------------------\n",
       "Intercept    -2.738e+06   2.01e+06     -1.360      0.197   -7.09e+06    1.61e+06\n",
       "Unemployed_v  4.967e+05   2.34e+05      2.124      0.053   -8418.483       1e+06\n",
       "==============================================================================\n",
       "Omnibus:                        7.893   Durbin-Watson:                   0.511\n",
       "Prob(Omnibus):                  0.019   Jarque-Bera (JB):                4.486\n",
       "Skew:                           1.214   Prob(JB):                        0.106\n",
       "Kurtosis:                       4.131   Cond. No.                         74.9\n",
       "==============================================================================\n",
       "\n",
       "Notes:\n",
       "[1] Standard Errors assume that the covariance matrix of the errors is correctly specified.\n",
       "\"\"\""
      ]
     },
     "execution_count": 189,
     "metadata": {},
     "output_type": "execute_result"
    }
   ],
   "source": [
    "lm = sm.OLS.from_formula('spending ~ Unemployed_v', dt1)\n",
    "result = lm.fit()\n",
    "result.summary()"
   ]
  },
  {
   "cell_type": "code",
   "execution_count": 195,
   "id": "28d5fe57",
   "metadata": {},
   "outputs": [
    {
     "data": {
      "text/html": [
       "<div>\n",
       "<style scoped>\n",
       "    .dataframe tbody tr th:only-of-type {\n",
       "        vertical-align: middle;\n",
       "    }\n",
       "\n",
       "    .dataframe tbody tr th {\n",
       "        vertical-align: top;\n",
       "    }\n",
       "\n",
       "    .dataframe thead th {\n",
       "        text-align: right;\n",
       "    }\n",
       "</style>\n",
       "<table border=\"1\" class=\"dataframe\">\n",
       "  <thead>\n",
       "    <tr style=\"text-align: right;\">\n",
       "      <th></th>\n",
       "      <th>коди</th>\n",
       "      <th>дата</th>\n",
       "      <th>дані</th>\n",
       "    </tr>\n",
       "  </thead>\n",
       "  <tbody>\n",
       "    <tr>\n",
       "      <th>0</th>\n",
       "      <td>1</td>\n",
       "      <td>2005</td>\n",
       "      <td>265714</td>\n",
       "    </tr>\n",
       "    <tr>\n",
       "      <th>1</th>\n",
       "      <td>2</td>\n",
       "      <td>2005</td>\n",
       "      <td>99013</td>\n",
       "    </tr>\n",
       "    <tr>\n",
       "      <th>2</th>\n",
       "      <td>3</td>\n",
       "      <td>2005</td>\n",
       "      <td>17325</td>\n",
       "    </tr>\n",
       "    <tr>\n",
       "      <th>3</th>\n",
       "      <td>4</td>\n",
       "      <td>2005</td>\n",
       "      <td>12667</td>\n",
       "    </tr>\n",
       "    <tr>\n",
       "      <th>4</th>\n",
       "      <td>5</td>\n",
       "      <td>2005</td>\n",
       "      <td>33256</td>\n",
       "    </tr>\n",
       "  </tbody>\n",
       "</table>\n",
       "</div>"
      ],
      "text/plain": [
       "   коди  дата    дані\n",
       "0     1  2005  265714\n",
       "1     2  2005   99013\n",
       "2     3  2005   17325\n",
       "3     4  2005   12667\n",
       "4     5  2005   33256"
      ]
     },
     "execution_count": 195,
     "metadata": {},
     "output_type": "execute_result"
    }
   ],
   "source": [
    "dt1 = pd.read_csv('VT.csv', sep=',', header = 1, index_col = False)\n",
    "dt1.head()"
   ]
  },
  {
   "cell_type": "code",
   "execution_count": 196,
   "id": "445b9909",
   "metadata": {},
   "outputs": [
    {
     "data": {
      "text/plain": [
       "<matplotlib.collections.PathCollection at 0x243276ede50>"
      ]
     },
     "execution_count": 196,
     "metadata": {},
     "output_type": "execute_result"
    },
    {
     "data": {
      "image/png": "[encoded data removed]",
      "text/plain": [
       "<Figure size 1152x432 with 1 Axes>"
      ]
     },
     "metadata": {
      "needs_background": "light"
     },
     "output_type": "display_data"
    }
   ],
   "source": [
    "plt.figure(figsize=(16,6))\n",
    "plt.scatter( dt1['коди'], dt1['дані'], color = 'blue')"
   ]
  },
  {
   "cell_type": "code",
   "execution_count": null,
   "id": "10bffcfd",
   "metadata": {},
   "outputs": [],
   "source": []
  }
 ],
 "metadata": {
  "kernelspec": {
   "display_name": "Python 3 (ipykernel)",
   "language": "python",
   "name": "python3"
  },
  "language_info": {
   "codemirror_mode": {
    "name": "ipython",
    "version": 3
   },
   "file_extension": ".py",
   "mimetype": "text/x-python",
   "name": "python",
   "nbconvert_exporter": "python",
   "pygments_lexer": "ipython3",
   "version": "3.9.7"
  }
 },
 "nbformat": 4,
 "nbformat_minor": 5
}
