{
 "cells": [
  {
   "cell_type": "code",
   "execution_count": 140,
   "id": "2c3672c9",
   "metadata": {},
   "outputs": [],
   "source": [
    "import numpy as np\n",
    "import pandas as pd\n",
    "import matplotlib\n",
    "import matplotlib.pyplot as plt\n",
    "matplotlib.style.use('ggplot')\n",
    "%matplotlib inline\n",
    "\n",
    "import os"
   ]
  },
  {
   "cell_type": "code",
   "execution_count": 141,
   "id": "a1023b1e",
   "metadata": {},
   "outputs": [],
   "source": [
    "os.chdir('C:\\\\Users\\\\Лара\\\\Desktop\\\\Datastas\\\\')"
   ]
  },
  {
   "cell_type": "code",
   "execution_count": 142,
   "id": "6526778a",
   "metadata": {},
   "outputs": [
    {
     "data": {
      "text/html": [
       "<div>\n",
       "<style scoped>\n",
       "    .dataframe tbody tr th:only-of-type {\n",
       "        vertical-align: middle;\n",
       "    }\n",
       "\n",
       "    .dataframe tbody tr th {\n",
       "        vertical-align: top;\n",
       "    }\n",
       "\n",
       "    .dataframe thead th {\n",
       "        text-align: right;\n",
       "    }\n",
       "</style>\n",
       "<table border=\"1\" class=\"dataframe\">\n",
       "  <thead>\n",
       "    <tr style=\"text-align: right;\">\n",
       "      <th></th>\n",
       "      <th>code</th>\n",
       "      <th>attributes</th>\n",
       "      <th>period</th>\n",
       "      <th>dohod</th>\n",
       "      <th>vytraty</th>\n",
       "    </tr>\n",
       "  </thead>\n",
       "  <tbody>\n",
       "    <tr>\n",
       "      <th>0</th>\n",
       "      <td>0</td>\n",
       "      <td>Україна</td>\n",
       "      <td>2005</td>\n",
       "      <td>381404</td>\n",
       "      <td>335753</td>\n",
       "    </tr>\n",
       "    <tr>\n",
       "      <th>1</th>\n",
       "      <td>100000000</td>\n",
       "      <td>Автономна Республіка Крим</td>\n",
       "      <td>2005</td>\n",
       "      <td>13883</td>\n",
       "      <td>13521</td>\n",
       "    </tr>\n",
       "    <tr>\n",
       "      <th>2</th>\n",
       "      <td>500000000</td>\n",
       "      <td>Вінницька</td>\n",
       "      <td>2005</td>\n",
       "      <td>12193</td>\n",
       "      <td>9306</td>\n",
       "    </tr>\n",
       "    <tr>\n",
       "      <th>3</th>\n",
       "      <td>700000000</td>\n",
       "      <td>Волинська</td>\n",
       "      <td>2005</td>\n",
       "      <td>6808</td>\n",
       "      <td>6070</td>\n",
       "    </tr>\n",
       "    <tr>\n",
       "      <th>4</th>\n",
       "      <td>1200000000</td>\n",
       "      <td>Дніпропетровська</td>\n",
       "      <td>2005</td>\n",
       "      <td>31344</td>\n",
       "      <td>26711</td>\n",
       "    </tr>\n",
       "  </tbody>\n",
       "</table>\n",
       "</div>"
      ],
      "text/plain": [
       "         code                 attributes  period   dohod  vytraty\n",
       "0           0                    Україна    2005  381404   335753\n",
       "1   100000000  Автономна Республіка Крим    2005   13883    13521\n",
       "2   500000000                  Вінницька    2005   12193     9306\n",
       "3   700000000                  Волинська    2005    6808     6070\n",
       "4  1200000000           Дніпропетровська    2005   31344    26711"
      ]
     },
     "execution_count": 142,
     "metadata": {},
     "output_type": "execute_result"
    }
   ],
   "source": [
    "dt = pd.read_csv('DV.csv', sep=\",\", header = 1, index_col = False)\n",
    "dt.head()"
   ]
  },
  {
   "cell_type": "code",
   "execution_count": 143,
   "id": "0ae73470",
   "metadata": {},
   "outputs": [
    {
     "data": {
      "text/html": [
       "<div>\n",
       "<style scoped>\n",
       "    .dataframe tbody tr th:only-of-type {\n",
       "        vertical-align: middle;\n",
       "    }\n",
       "\n",
       "    .dataframe tbody tr th {\n",
       "        vertical-align: top;\n",
       "    }\n",
       "\n",
       "    .dataframe thead th {\n",
       "        text-align: right;\n",
       "    }\n",
       "</style>\n",
       "<table border=\"1\" class=\"dataframe\">\n",
       "  <thead>\n",
       "    <tr style=\"text-align: right;\">\n",
       "      <th></th>\n",
       "      <th>dohod</th>\n",
       "      <th>vytraty</th>\n",
       "    </tr>\n",
       "  </thead>\n",
       "  <tbody>\n",
       "    <tr>\n",
       "      <th>count</th>\n",
       "      <td>4.200000e+02</td>\n",
       "      <td>4.200000e+02</td>\n",
       "    </tr>\n",
       "    <tr>\n",
       "      <th>mean</th>\n",
       "      <td>1.132772e+05</td>\n",
       "      <td>1.090014e+05</td>\n",
       "    </tr>\n",
       "    <tr>\n",
       "      <th>std</th>\n",
       "      <td>3.413973e+05</td>\n",
       "      <td>3.348952e+05</td>\n",
       "    </tr>\n",
       "    <tr>\n",
       "      <th>min</th>\n",
       "      <td>2.845000e+03</td>\n",
       "      <td>3.175000e+03</td>\n",
       "    </tr>\n",
       "    <tr>\n",
       "      <th>25%</th>\n",
       "      <td>2.102025e+04</td>\n",
       "      <td>1.862400e+04</td>\n",
       "    </tr>\n",
       "    <tr>\n",
       "      <th>50%</th>\n",
       "      <td>4.029300e+04</td>\n",
       "      <td>3.735850e+04</td>\n",
       "    </tr>\n",
       "    <tr>\n",
       "      <th>75%</th>\n",
       "      <td>7.418625e+04</td>\n",
       "      <td>7.441800e+04</td>\n",
       "    </tr>\n",
       "    <tr>\n",
       "      <th>max</th>\n",
       "      <td>3.744060e+06</td>\n",
       "      <td>3.756517e+06</td>\n",
       "    </tr>\n",
       "  </tbody>\n",
       "</table>\n",
       "</div>"
      ],
      "text/plain": [
       "              dohod       vytraty\n",
       "count  4.200000e+02  4.200000e+02\n",
       "mean   1.132772e+05  1.090014e+05\n",
       "std    3.413973e+05  3.348952e+05\n",
       "min    2.845000e+03  3.175000e+03\n",
       "25%    2.102025e+04  1.862400e+04\n",
       "50%    4.029300e+04  3.735850e+04\n",
       "75%    7.418625e+04  7.441800e+04\n",
       "max    3.744060e+06  3.756517e+06"
      ]
     },
     "execution_count": 143,
     "metadata": {},
     "output_type": "execute_result"
    }
   ],
   "source": [
    "dt[['dohod','vytraty']].describe()"
   ]
  },
  {
   "cell_type": "code",
   "execution_count": 144,
   "id": "0935de1e",
   "metadata": {},
   "outputs": [
    {
     "name": "stdout",
     "output_type": "stream",
     "text": [
      "(420, 5)\n",
      "420\n"
     ]
    }
   ],
   "source": [
    "print(dt.shape)\n",
    "print(len(dt))"
   ]
  },
  {
   "cell_type": "code",
   "execution_count": 145,
   "id": "a61134c1",
   "metadata": {},
   "outputs": [
    {
     "data": {
      "text/plain": [
       "Index(['code', 'attributes', 'period', 'dohod', 'vytraty'], dtype='object')"
      ]
     },
     "execution_count": 145,
     "metadata": {},
     "output_type": "execute_result"
    }
   ],
   "source": [
    "dt.columns"
   ]
  },
  {
   "cell_type": "code",
   "execution_count": 146,
   "id": "a9f36567",
   "metadata": {},
   "outputs": [
    {
     "data": {
      "text/plain": [
       "array([[<AxesSubplot:title={'center':'dohod'}>,\n",
       "        <AxesSubplot:title={'center':'vytraty'}>]], dtype=object)"
      ]
     },
     "execution_count": 146,
     "metadata": {},
     "output_type": "execute_result"
    },
    {
     "data": {
      "image/png": "[encoded data removed]",
      "text/plain": [
       "<Figure size 432x288 with 2 Axes>"
      ]
     },
     "metadata": {
      "needs_background": "light"
     },
     "output_type": "display_data"
    }
   ],
   "source": [
    "dt[['dohod','vytraty']].hist(bins=45)"
   ]
  },
  {
   "cell_type": "code",
   "execution_count": 147,
   "id": "a1ffaca3",
   "metadata": {},
   "outputs": [
    {
     "data": {
      "image/png": "[encoded data removed]",
      "text/plain": [
       "<Figure size 1152x576 with 1 Axes>"
      ]
     },
     "metadata": {
      "needs_background": "light"
     },
     "output_type": "display_data"
    }
   ],
   "source": [
    "col = 4\n",
    "dt2 = dt[dt.columns[col]]\n",
    "\n",
    "plt.figure(figsize=(16,8))\n",
    "dt2.plot()\n",
    "plt.show()"
   ]
  },
  {
   "cell_type": "code",
   "execution_count": 148,
   "id": "c517aa8d",
   "metadata": {},
   "outputs": [
    {
     "data": {
      "image/png": "[encoded data removed]",
      "text/plain": [
       "<Figure size 432x288 with 4 Axes>"
      ]
     },
     "metadata": {
      "needs_background": "light"
     },
     "output_type": "display_data"
    }
   ],
   "source": [
    "from pandas.plotting import scatter_matrix\n",
    "scatter_matrix(dt[['dohod','vytraty']]);"
   ]
  },
  {
   "cell_type": "code",
   "execution_count": 149,
   "id": "f7cd1b78",
   "metadata": {},
   "outputs": [
    {
     "data": {
      "image/png": "[encoded data removed]",
      "text/plain": [
       "<Figure size 720x432 with 2 Axes>"
      ]
     },
     "metadata": {
      "needs_background": "light"
     },
     "output_type": "display_data"
    }
   ],
   "source": [
    "from scipy import stats\n",
    "import seaborn as sns\n",
    "import math\n",
    "dt_corr = dt[['dohod','vytraty']].corr()\n",
    "plt.figure(figsize=(10,6))\n",
    "ax = sns.heatmap(dt_corr, annot = True, vmin = -1, vmax = 1)\n",
    "bottom, top = ax.get_ylim()"
   ]
  },
  {
   "cell_type": "code",
   "execution_count": 150,
   "id": "da466f94",
   "metadata": {},
   "outputs": [
    {
     "data": {
      "text/plain": [
       "<matplotlib.collections.PathCollection at 0x2461b5736a0>"
      ]
     },
     "execution_count": 150,
     "metadata": {},
     "output_type": "execute_result"
    },
    {
     "data": {
      "image/png": "[encoded data removed]",
      "text/plain": [
       "<Figure size 1152x432 with 1 Axes>"
      ]
     },
     "metadata": {
      "needs_background": "light"
     },
     "output_type": "display_data"
    }
   ],
   "source": [
    "plt.figure(figsize=(16,6))\n",
    "plt.scatter(dt.dohod, dt.vytraty, color = 'blue')"
   ]
  },
  {
   "cell_type": "code",
   "execution_count": 151,
   "id": "040fd526",
   "metadata": {},
   "outputs": [],
   "source": [
    "import statsmodels.api as sm"
   ]
  },
  {
   "cell_type": "code",
   "execution_count": 152,
   "id": "691bcb0f",
   "metadata": {},
   "outputs": [
    {
     "data": {
      "text/html": [
       "<table class=\"simpletable\">\n",
       "<caption>OLS Regression Results</caption>\n",
       "<tr>\n",
       "  <th>Dep. Variable:</th>         <td>vytraty</td>     <th>  R-squared:         </th> <td>   0.997</td> \n",
       "</tr>\n",
       "<tr>\n",
       "  <th>Model:</th>                   <td>OLS</td>       <th>  Adj. R-squared:    </th> <td>   0.997</td> \n",
       "</tr>\n",
       "<tr>\n",
       "  <th>Method:</th>             <td>Least Squares</td>  <th>  F-statistic:       </th> <td>1.637e+05</td>\n",
       "</tr>\n",
       "<tr>\n",
       "  <th>Date:</th>             <td>Sun, 19 Dec 2021</td> <th>  Prob (F-statistic):</th>  <td>  0.00</td>  \n",
       "</tr>\n",
       "<tr>\n",
       "  <th>Time:</th>                 <td>18:14:26</td>     <th>  Log-Likelihood:    </th> <td> -4684.2</td> \n",
       "</tr>\n",
       "<tr>\n",
       "  <th>No. Observations:</th>      <td>   420</td>      <th>  AIC:               </th> <td>   9372.</td> \n",
       "</tr>\n",
       "<tr>\n",
       "  <th>Df Residuals:</th>          <td>   418</td>      <th>  BIC:               </th> <td>   9381.</td> \n",
       "</tr>\n",
       "<tr>\n",
       "  <th>Df Model:</th>              <td>     1</td>      <th>                     </th>     <td> </td>    \n",
       "</tr>\n",
       "<tr>\n",
       "  <th>Covariance Type:</th>      <td>nonrobust</td>    <th>                     </th>     <td> </td>    \n",
       "</tr>\n",
       "</table>\n",
       "<table class=\"simpletable\">\n",
       "<tr>\n",
       "      <td></td>         <th>coef</th>     <th>std err</th>      <th>t</th>      <th>P>|t|</th>  <th>[0.025</th>    <th>0.975]</th>  \n",
       "</tr>\n",
       "<tr>\n",
       "  <th>Intercept</th> <td>-1976.7586</td> <td>  870.094</td> <td>   -2.272</td> <td> 0.024</td> <td>-3687.063</td> <td> -266.454</td>\n",
       "</tr>\n",
       "<tr>\n",
       "  <th>dohod</th>     <td>    0.9797</td> <td>    0.002</td> <td>  404.579</td> <td> 0.000</td> <td>    0.975</td> <td>    0.984</td>\n",
       "</tr>\n",
       "</table>\n",
       "<table class=\"simpletable\">\n",
       "<tr>\n",
       "  <th>Omnibus:</th>       <td>269.388</td> <th>  Durbin-Watson:     </th> <td>   1.907</td>\n",
       "</tr>\n",
       "<tr>\n",
       "  <th>Prob(Omnibus):</th> <td> 0.000</td>  <th>  Jarque-Bera (JB):  </th> <td>8589.775</td>\n",
       "</tr>\n",
       "<tr>\n",
       "  <th>Skew:</th>          <td>-2.192</td>  <th>  Prob(JB):          </th> <td>    0.00</td>\n",
       "</tr>\n",
       "<tr>\n",
       "  <th>Kurtosis:</th>      <td>24.717</td>  <th>  Cond. No.          </th> <td>3.79e+05</td>\n",
       "</tr>\n",
       "</table><br/><br/>Notes:<br/>[1] Standard Errors assume that the covariance matrix of the errors is correctly specified.<br/>[2] The condition number is large, 3.79e+05. This might indicate that there are<br/>strong multicollinearity or other numerical problems."
      ],
      "text/plain": [
       "<class 'statsmodels.iolib.summary.Summary'>\n",
       "\"\"\"\n",
       "                            OLS Regression Results                            \n",
       "==============================================================================\n",
       "Dep. Variable:                vytraty   R-squared:                       0.997\n",
       "Model:                            OLS   Adj. R-squared:                  0.997\n",
       "Method:                 Least Squares   F-statistic:                 1.637e+05\n",
       "Date:                Sun, 19 Dec 2021   Prob (F-statistic):               0.00\n",
       "Time:                        18:14:26   Log-Likelihood:                -4684.2\n",
       "No. Observations:                 420   AIC:                             9372.\n",
       "Df Residuals:                     418   BIC:                             9381.\n",
       "Df Model:                           1                                         \n",
       "Covariance Type:            nonrobust                                         \n",
       "==============================================================================\n",
       "                 coef    std err          t      P>|t|      [0.025      0.975]\n",
       "------------------------------------------------------------------------------\n",
       "Intercept  -1976.7586    870.094     -2.272      0.024   -3687.063    -266.454\n",
       "dohod          0.9797      0.002    404.579      0.000       0.975       0.984\n",
       "==============================================================================\n",
       "Omnibus:                      269.388   Durbin-Watson:                   1.907\n",
       "Prob(Omnibus):                  0.000   Jarque-Bera (JB):             8589.775\n",
       "Skew:                          -2.192   Prob(JB):                         0.00\n",
       "Kurtosis:                      24.717   Cond. No.                     3.79e+05\n",
       "==============================================================================\n",
       "\n",
       "Notes:\n",
       "[1] Standard Errors assume that the covariance matrix of the errors is correctly specified.\n",
       "[2] The condition number is large, 3.79e+05. This might indicate that there are\n",
       "strong multicollinearity or other numerical problems.\n",
       "\"\"\""
      ]
     },
     "execution_count": 152,
     "metadata": {},
     "output_type": "execute_result"
    }
   ],
   "source": [
    "lm = sm.OLS.from_formula('vytraty ~ dohod', dt)\n",
    "result = lm.fit()\n",
    "result.summary()"
   ]
  },
  {
   "cell_type": "code",
   "execution_count": 153,
   "id": "1cb80242",
   "metadata": {},
   "outputs": [
    {
     "data": {
      "text/html": [
       "<div>\n",
       "<style scoped>\n",
       "    .dataframe tbody tr th:only-of-type {\n",
       "        vertical-align: middle;\n",
       "    }\n",
       "\n",
       "    .dataframe tbody tr th {\n",
       "        vertical-align: top;\n",
       "    }\n",
       "\n",
       "    .dataframe thead th {\n",
       "        text-align: right;\n",
       "    }\n",
       "</style>\n",
       "<table border=\"1\" class=\"dataframe\">\n",
       "  <thead>\n",
       "    <tr style=\"text-align: right;\">\n",
       "      <th></th>\n",
       "      <th>period</th>\n",
       "      <th>dohod</th>\n",
       "      <th>vytraty</th>\n",
       "    </tr>\n",
       "  </thead>\n",
       "  <tbody>\n",
       "    <tr>\n",
       "      <th>2</th>\n",
       "      <td>2005</td>\n",
       "      <td>12193</td>\n",
       "      <td>9306</td>\n",
       "    </tr>\n",
       "    <tr>\n",
       "      <th>30</th>\n",
       "      <td>2006</td>\n",
       "      <td>14788</td>\n",
       "      <td>12040</td>\n",
       "    </tr>\n",
       "    <tr>\n",
       "      <th>58</th>\n",
       "      <td>2007</td>\n",
       "      <td>19264</td>\n",
       "      <td>16432</td>\n",
       "    </tr>\n",
       "    <tr>\n",
       "      <th>86</th>\n",
       "      <td>2008</td>\n",
       "      <td>25170</td>\n",
       "      <td>23129</td>\n",
       "    </tr>\n",
       "    <tr>\n",
       "      <th>114</th>\n",
       "      <td>2009</td>\n",
       "      <td>26813</td>\n",
       "      <td>24018</td>\n",
       "    </tr>\n",
       "  </tbody>\n",
       "</table>\n",
       "</div>"
      ],
      "text/plain": [
       "     period  dohod  vytraty\n",
       "2      2005  12193     9306\n",
       "30     2006  14788    12040\n",
       "58     2007  19264    16432\n",
       "86     2008  25170    23129\n",
       "114    2009  26813    24018"
      ]
     },
     "execution_count": 153,
     "metadata": {},
     "output_type": "execute_result"
    }
   ],
   "source": [
    "dt_1 = dt[(dt['attributes'] == 'Вінницька')]\n",
    "dt_2 = dt_1[['period','dohod','vytraty']]\n",
    "dt_2.head()"
   ]
  },
  {
   "cell_type": "code",
   "execution_count": 154,
   "id": "41438089",
   "metadata": {},
   "outputs": [],
   "source": [
    "dt_2.index = range(15)\n",
    "dt_2.index = dt_2.index"
   ]
  },
  {
   "cell_type": "code",
   "execution_count": 155,
   "id": "cbbef089",
   "metadata": {},
   "outputs": [
    {
     "data": {
      "text/html": [
       "<div>\n",
       "<style scoped>\n",
       "    .dataframe tbody tr th:only-of-type {\n",
       "        vertical-align: middle;\n",
       "    }\n",
       "\n",
       "    .dataframe tbody tr th {\n",
       "        vertical-align: top;\n",
       "    }\n",
       "\n",
       "    .dataframe thead th {\n",
       "        text-align: right;\n",
       "    }\n",
       "</style>\n",
       "<table border=\"1\" class=\"dataframe\">\n",
       "  <thead>\n",
       "    <tr style=\"text-align: right;\">\n",
       "      <th></th>\n",
       "      <th>period</th>\n",
       "      <th>dohod</th>\n",
       "      <th>vytraty</th>\n",
       "    </tr>\n",
       "  </thead>\n",
       "  <tbody>\n",
       "    <tr>\n",
       "      <th>0</th>\n",
       "      <td>2005</td>\n",
       "      <td>12193</td>\n",
       "      <td>9306</td>\n",
       "    </tr>\n",
       "    <tr>\n",
       "      <th>1</th>\n",
       "      <td>2006</td>\n",
       "      <td>14788</td>\n",
       "      <td>12040</td>\n",
       "    </tr>\n",
       "    <tr>\n",
       "      <th>2</th>\n",
       "      <td>2007</td>\n",
       "      <td>19264</td>\n",
       "      <td>16432</td>\n",
       "    </tr>\n",
       "    <tr>\n",
       "      <th>3</th>\n",
       "      <td>2008</td>\n",
       "      <td>25170</td>\n",
       "      <td>23129</td>\n",
       "    </tr>\n",
       "    <tr>\n",
       "      <th>4</th>\n",
       "      <td>2009</td>\n",
       "      <td>26813</td>\n",
       "      <td>24018</td>\n",
       "    </tr>\n",
       "  </tbody>\n",
       "</table>\n",
       "</div>"
      ],
      "text/plain": [
       "   period  dohod  vytraty\n",
       "0    2005  12193     9306\n",
       "1    2006  14788    12040\n",
       "2    2007  19264    16432\n",
       "3    2008  25170    23129\n",
       "4    2009  26813    24018"
      ]
     },
     "execution_count": 155,
     "metadata": {},
     "output_type": "execute_result"
    }
   ],
   "source": [
    "dt_2.head()"
   ]
  },
  {
   "cell_type": "code",
   "execution_count": 156,
   "id": "af062ee8",
   "metadata": {},
   "outputs": [
    {
     "data": {
      "image/png": "[encoded data removed]",
      "text/plain": [
       "<Figure size 432x288 with 1 Axes>"
      ]
     },
     "metadata": {
      "needs_background": "light"
     },
     "output_type": "display_data"
    }
   ],
   "source": [
    "dt_2.plot()\n",
    "plt.show()"
   ]
  },
  {
   "cell_type": "code",
   "execution_count": 157,
   "id": "13ace8ed",
   "metadata": {},
   "outputs": [],
   "source": [
    "dt = dt[['dohod','vytraty']]\n"
   ]
  },
  {
   "cell_type": "code",
   "execution_count": 158,
   "id": "c0f2dfbf",
   "metadata": {},
   "outputs": [
    {
     "data": {
      "image/png": "[encoded data removed]",
      "text/plain": [
       "<Figure size 432x288 with 1 Axes>"
      ]
     },
     "metadata": {
      "needs_background": "light"
     },
     "output_type": "display_data"
    }
   ],
   "source": [
    "plt.scatter(dt.dohod, dt.vytraty, color = 'blue')\n",
    "plt.xlabel('dohod')\n",
    "plt.ylabel('vytraty')\n",
    "plt.show()"
   ]
  },
  {
   "cell_type": "code",
   "execution_count": 159,
   "id": "71f56b8d",
   "metadata": {},
   "outputs": [],
   "source": [
    "from sklearn import linear_model\n",
    "from sklearn.linear_model import LinearRegression"
   ]
  },
  {
   "cell_type": "code",
   "execution_count": 161,
   "id": "554065d6",
   "metadata": {},
   "outputs": [
    {
     "name": "stdout",
     "output_type": "stream",
     "text": [
      "coefficients:  [[0.95252822]]\n",
      "Intercept:  [-1173.75510272]\n"
     ]
    }
   ],
   "source": [
    "train = dt[:(int((len(dt)*0.8)))]\n",
    "test = dt[(int((len(dt)*0.8))):]\n",
    "\n",
    "regr = LinearRegression()\n",
    "train_x = np.array(train[['dohod']])\n",
    "train_y = np.array(train[['vytraty']])\n",
    "regr.fit(train_x, train_y)\n",
    "print('coefficients: ', regr.coef_)\n",
    "print('Intercept: ', regr.intercept_)"
   ]
  },
  {
   "cell_type": "code",
   "execution_count": 162,
   "id": "eca88a70",
   "metadata": {},
   "outputs": [
    {
     "data": {
      "text/plain": [
       "Text(0, 0.5, 'vytraty')"
      ]
     },
     "execution_count": 162,
     "metadata": {},
     "output_type": "execute_result"
    },
    {
     "data": {
      "image/png": "[encoded data removed]",
      "text/plain": [
       "<Figure size 1152x432 with 1 Axes>"
      ]
     },
     "metadata": {
      "needs_background": "light"
     },
     "output_type": "display_data"
    }
   ],
   "source": [
    "plt.figure(figsize=(16,6))\n",
    "plt.scatter(train['dohod'],train['vytraty'],color = 'blue')\n",
    "plt.plot(train_x, regr.coef_ * train_x + regr.intercept_)\n",
    "plt.xlabel('dohod')\n",
    "plt.ylabel('vytraty')"
   ]
  },
  {
   "cell_type": "code",
   "execution_count": 163,
   "id": "e8022ab0",
   "metadata": {},
   "outputs": [],
   "source": [
    "def get_regression_predictions(input_features, intercept, slope):\n",
    "    predicted_values = input_features*slope + intercept\n",
    "    return predicted_values"
   ]
  },
  {
   "cell_type": "code",
   "execution_count": 164,
   "id": "83b0ed02",
   "metadata": {},
   "outputs": [
    {
     "name": "stdout",
     "output_type": "stream",
     "text": [
      "estimatd_trat:  34260.29467290501\n"
     ]
    }
   ],
   "source": [
    "my_new_dohod = 37200\n",
    "estimatd_trat = get_regression_predictions(my_new_dohod, regr.intercept_[0], regr.coef_[0][0])\n",
    "print('estimatd_trat: ', estimatd_trat)"
   ]
  },
  {
   "cell_type": "markdown",
   "id": "4cf9ed67",
   "metadata": {},
   "source": [
    "# Проверим точность тестовых данных"
   ]
  },
  {
   "cell_type": "code",
   "execution_count": 167,
   "id": "90aea202",
   "metadata": {},
   "outputs": [
    {
     "name": "stdout",
     "output_type": "stream",
     "text": [
      "Mean absolute error:16780.37\n",
      "Mean sum of squares(MSE):1085823374.40\n",
      "R^2-score:1.00\n"
     ]
    }
   ],
   "source": [
    "from sklearn.metrics import r2_score\n",
    "test_x = np.array(test[['dohod']])\n",
    "test_y = np.array(test[['vytraty']])\n",
    "test_y_ = regr.predict(test_x)\n",
    "print('Mean absolute error:%.2f'%np.mean(np.absolute(test_y_ - test_y)))\n",
    "print('Mean sum of squares(MSE):%.2f'%np.mean((test_y_ - test_y)**2))\n",
    "print('R^2-score:%.2f'%r2_score(test_y_,test_y))"
   ]
  },
  {
   "cell_type": "code",
   "execution_count": null,
   "id": "376f3302",
   "metadata": {},
   "outputs": [],
   "source": []
  }
 ],
 "metadata": {
  "kernelspec": {
   "display_name": "Python 3 (ipykernel)",
   "language": "python",
   "name": "python3"
  },
  "language_info": {
   "codemirror_mode": {
    "name": "ipython",
    "version": 3
   },
   "file_extension": ".py",
   "mimetype": "text/x-python",
   "name": "python",
   "nbconvert_exporter": "python",
   "pygments_lexer": "ipython3",
   "version": "3.9.7"
  }
 },
 "nbformat": 4,
 "nbformat_minor": 5
}
